{
 "cells": [
  {
   "cell_type": "code",
   "execution_count": 1,
   "metadata": {},
   "outputs": [],
   "source": [
    "urls = [\n",
    "    'https://bocyl.jcyl.es/boletines/2024/01/02/xml/BOCYL-D-02012024-12.xml',\n",
    "    'https://bocyl.jcyl.es/boletines/2023/07/18/xml/BOCYL-D-18072023-10.xml'\n",
    "]"
   ]
  },
  {
   "cell_type": "code",
   "execution_count": 2,
   "metadata": {},
   "outputs": [],
   "source": [
    "from modules.preprocessing import BOCYLMarkdownExporter\n",
    "exporter = BOCYLMarkdownExporter('../documents')"
   ]
  },
  {
   "cell_type": "code",
   "execution_count": 3,
   "metadata": {},
   "outputs": [
    {
     "name": "stdout",
     "output_type": "stream",
     "text": [
      "File ../documents/BOCYL-D-02012024-12.md already exists. Skipping export.\n",
      "File ../documents/BOCYL-D-18072023-10.md already exists. Skipping export.\n"
     ]
    }
   ],
   "source": [
    "for url in urls:\n",
    "    exporter.export(url)"
   ]
  }
 ],
 "metadata": {
  "kernelspec": {
   "display_name": "Python 3",
   "language": "python",
   "name": "python3"
  },
  "language_info": {
   "codemirror_mode": {
    "name": "ipython",
    "version": 3
   },
   "file_extension": ".py",
   "mimetype": "text/x-python",
   "name": "python",
   "nbconvert_exporter": "python",
   "pygments_lexer": "ipython3",
   "version": "3.12.9"
  }
 },
 "nbformat": 4,
 "nbformat_minor": 2
}
