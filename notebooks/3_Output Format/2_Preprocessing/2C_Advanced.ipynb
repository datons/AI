{
 "cells": [
  {
   "attachments": {},
   "cell_type": "markdown",
   "metadata": {},
   "source": [
    "# Customize output format in prompt"
   ]
  },
  {
   "cell_type": "markdown",
   "metadata": {},
   "source": [
    "## User prompt configuration"
   ]
  },
  {
   "cell_type": "markdown",
   "metadata": {},
   "source": [
    "### [X] Create prompt template"
   ]
  },
  {
   "cell_type": "markdown",
   "metadata": {},
   "source": [
    "The prompt template is defined in the file:\n",
    "\n",
    "[/workspace/data/prompts/trading/explain_top_returns/from_date/template.md](/workspace/data/prompts/trading/explain_top_returns/from_date/template.md)\n",
    "\n",
    "And it will be loaded as follows:"
   ]
  },
  {
   "cell_type": "code",
   "execution_count": 1,
   "metadata": {},
   "outputs": [],
   "source": [
    "name_prompt = 'trading' #TODO: define your folder\n",
    "name_template = 'explain_top_returns' #TODO: define your folder"
   ]
  },
  {
   "cell_type": "code",
   "execution_count": 2,
   "metadata": {},
   "outputs": [
    {
     "data": {
      "text/plain": [
       "'On {DATE}, the financial asset with ticker {TICKER} recorded a return of {RETURN}%, calculated as the percentage change between the closing price on that date and the previous corresponding date according to the defined calculation frequency: {FREQUENCY} (for example: daily D, monthly M, quarterly Q, or yearly Y).\\n\\nExplain the reasons that could justify this extreme movement, using relevant news published around that date. Provide a well-founded explanation, the publication date of the news, and a link to the source.'"
      ]
     },
     "execution_count": 2,
     "metadata": {},
     "output_type": "execute_result"
    }
   ],
   "source": [
    "from pathlib import Path\n",
    "\n",
    "folder_template = f'{name_prompt}/{name_template}' \n",
    "folder = Path(f'/workspace/data/prompts/{folder_template}')\n",
    "\n",
    "path = folder / 'template.md'\n",
    "with open(path, 'r') as file:\n",
    "    template = file.read()\n",
    "\n",
    "template"
   ]
  },
  {
   "cell_type": "markdown",
   "metadata": {},
   "source": [
    "### [X] Define custom output format and import it"
   ]
  },
  {
   "cell_type": "markdown",
   "metadata": {},
   "source": [
    "[/workspace/data/prompts/weather/output_format.py](/workspace/data/prompts/weather/output_format.py)"
   ]
  },
  {
   "cell_type": "code",
   "execution_count": 3,
   "metadata": {},
   "outputs": [],
   "source": [
    "output_class_name = 'News' #TODO: define your class"
   ]
  },
  {
   "cell_type": "code",
   "execution_count": 4,
   "metadata": {},
   "outputs": [],
   "source": [
    "from importlib import import_module\n",
    "OutputParser = getattr(import_module(f'data.prompts.{name_prompt}.output_parser'), output_class_name)"
   ]
  },
  {
   "cell_type": "code",
   "execution_count": 5,
   "metadata": {},
   "outputs": [
    {
     "data": {
      "text/plain": [
       "data.prompts.trading.output_parser.News"
      ]
     },
     "execution_count": 5,
     "metadata": {},
     "output_type": "execute_result"
    }
   ],
   "source": [
    "OutputParser"
   ]
  },
  {
   "cell_type": "markdown",
   "metadata": {},
   "source": [
    "## Combine template and output format"
   ]
  },
  {
   "cell_type": "code",
   "execution_count": 6,
   "metadata": {},
   "outputs": [
    {
     "data": {
      "text/plain": [
       "PromptTemplate(input_variables=['DATE', 'FREQUENCY', 'RETURN', 'TICKER'], input_types={}, partial_variables={'FORMAT_INSTRUCTIONS': 'The output should be formatted as a JSON instance that conforms to the JSON schema below.\\n\\nAs an example, for the schema {\"properties\": {\"foo\": {\"title\": \"Foo\", \"description\": \"a list of strings\", \"type\": \"array\", \"items\": {\"type\": \"string\"}}}, \"required\": [\"foo\"]}\\nthe object {\"foo\": [\"bar\", \"baz\"]} is a well-formatted instance of the schema. The object {\"properties\": {\"foo\": [\"bar\", \"baz\"]}} is not well-formatted.\\n\\nHere is the output schema:\\n```\\n{\"description\": \"This is the output format for the news prompt.\", \"properties\": {\"stock\": {\"description\": \"stock symbol\", \"title\": \"Stock\", \"type\": \"string\"}, \"date\": {\"description\": \"date of the news\", \"format\": \"date\", \"title\": \"Date\", \"type\": \"string\"}, \"value\": {\"description\": \"significant accumulated value of the stock\", \"title\": \"Value\", \"type\": \"number\"}, \"title\": {\"description\": \"title of the news\", \"title\": \"Title\", \"type\": \"string\"}, \"url\": {\"description\": \"url of the news\", \"title\": \"Url\", \"type\": \"string\"}, \"source\": {\"description\": \"source of the news\", \"title\": \"Source\", \"type\": \"string\"}, \"explanation\": {\"description\": \"explanation of the relevance of the news to the stock\", \"title\": \"Explanation\", \"type\": \"string\"}}, \"required\": [\"stock\", \"date\", \"value\", \"title\", \"url\", \"source\", \"explanation\"]}\\n```'}, template='Answer the USER_QUERY.\\n\\n{FORMAT_INSTRUCTIONS}\\n\\nUSER_QUERY:\\n\\nOn {DATE}, the financial asset with ticker {TICKER} recorded a return of {RETURN}%, calculated as the percentage change between the closing price on that date and the previous corresponding date according to the defined calculation frequency: {FREQUENCY} (for example: daily D, monthly M, quarterly Q, or yearly Y).\\n\\nExplain the reasons that could justify this extreme movement, using relevant news published around that date. Provide a well-founded explanation, the publication date of the news, and a link to the source.')"
      ]
     },
     "execution_count": 6,
     "metadata": {},
     "output_type": "execute_result"
    }
   ],
   "source": [
    "from modules.prompt import CustomPrompt\n",
    "\n",
    "custom_prompt = CustomPrompt(template, OutputParser)\n",
    "prompt = custom_prompt.get_prompt()\n",
    "prompt"
   ]
  },
  {
   "attachments": {},
   "cell_type": "markdown",
   "metadata": {},
   "source": [
    "## Chain"
   ]
  },
  {
   "cell_type": "markdown",
   "metadata": {},
   "source": [
    "### Define model"
   ]
  },
  {
   "cell_type": "code",
   "execution_count": 7,
   "metadata": {},
   "outputs": [
    {
     "data": {
      "text/plain": [
       "ChatOpenAI(client=<openai.resources.chat.completions.completions.Completions object at 0xffff4397cfb0>, async_client=<openai.resources.chat.completions.completions.AsyncCompletions object at 0xffff4397f800>, root_client=<openai.OpenAI object at 0xffff4841dbe0>, root_async_client=<openai.AsyncOpenAI object at 0xffff4397d010>, model_name='gpt-4o-search-preview', model_kwargs={}, openai_api_key=SecretStr('**********'))"
      ]
     },
     "execution_count": 7,
     "metadata": {},
     "output_type": "execute_result"
    }
   ],
   "source": [
    "from langchain_openai import ChatOpenAI\n",
    "model = ChatOpenAI(model=\"gpt-4o-search-preview\")\n",
    "\n",
    "model"
   ]
  },
  {
   "attachments": {},
   "cell_type": "markdown",
   "metadata": {},
   "source": [
    "### Compose chain"
   ]
  },
  {
   "cell_type": "code",
   "execution_count": 8,
   "metadata": {},
   "outputs": [
    {
     "data": {
      "text/plain": [
       "PromptTemplate(input_variables=['DATE', 'FREQUENCY', 'RETURN', 'TICKER'], input_types={}, partial_variables={'FORMAT_INSTRUCTIONS': 'The output should be formatted as a JSON instance that conforms to the JSON schema below.\\n\\nAs an example, for the schema {\"properties\": {\"foo\": {\"title\": \"Foo\", \"description\": \"a list of strings\", \"type\": \"array\", \"items\": {\"type\": \"string\"}}}, \"required\": [\"foo\"]}\\nthe object {\"foo\": [\"bar\", \"baz\"]} is a well-formatted instance of the schema. The object {\"properties\": {\"foo\": [\"bar\", \"baz\"]}} is not well-formatted.\\n\\nHere is the output schema:\\n```\\n{\"description\": \"This is the output format for the news prompt.\", \"properties\": {\"stock\": {\"description\": \"stock symbol\", \"title\": \"Stock\", \"type\": \"string\"}, \"date\": {\"description\": \"date of the news\", \"format\": \"date\", \"title\": \"Date\", \"type\": \"string\"}, \"value\": {\"description\": \"significant accumulated value of the stock\", \"title\": \"Value\", \"type\": \"number\"}, \"title\": {\"description\": \"title of the news\", \"title\": \"Title\", \"type\": \"string\"}, \"url\": {\"description\": \"url of the news\", \"title\": \"Url\", \"type\": \"string\"}, \"source\": {\"description\": \"source of the news\", \"title\": \"Source\", \"type\": \"string\"}, \"explanation\": {\"description\": \"explanation of the relevance of the news to the stock\", \"title\": \"Explanation\", \"type\": \"string\"}}, \"required\": [\"stock\", \"date\", \"value\", \"title\", \"url\", \"source\", \"explanation\"]}\\n```'}, template='Answer the USER_QUERY.\\n\\n{FORMAT_INSTRUCTIONS}\\n\\nUSER_QUERY:\\n\\nOn {DATE}, the financial asset with ticker {TICKER} recorded a return of {RETURN}%, calculated as the percentage change between the closing price on that date and the previous corresponding date according to the defined calculation frequency: {FREQUENCY} (for example: daily D, monthly M, quarterly Q, or yearly Y).\\n\\nExplain the reasons that could justify this extreme movement, using relevant news published around that date. Provide a well-founded explanation, the publication date of the news, and a link to the source.')\n",
       "| ChatOpenAI(client=<openai.resources.chat.completions.completions.Completions object at 0xffff4397cfb0>, async_client=<openai.resources.chat.completions.completions.AsyncCompletions object at 0xffff4397f800>, root_client=<openai.OpenAI object at 0xffff4841dbe0>, root_async_client=<openai.AsyncOpenAI object at 0xffff4397d010>, model_name='gpt-4o-search-preview', model_kwargs={}, openai_api_key=SecretStr('**********'))\n",
       "| PydanticOutputParser(pydantic_object=<class 'data.prompts.trading.output_parser.News'>)"
      ]
     },
     "execution_count": 8,
     "metadata": {},
     "output_type": "execute_result"
    }
   ],
   "source": [
    "chain = prompt | model | custom_prompt.parser\n",
    "chain"
   ]
  },
  {
   "cell_type": "markdown",
   "metadata": {},
   "source": [
    "### [X] Preprocess input"
   ]
  },
  {
   "cell_type": "code",
   "execution_count": 9,
   "metadata": {},
   "outputs": [],
   "source": [
    "TICKER = 'AAPL'\n",
    "FREQ = 'D'\n",
    "N_SAMPLES = 5"
   ]
  },
  {
   "cell_type": "code",
   "execution_count": 10,
   "metadata": {},
   "outputs": [],
   "source": [
    "from modules import utils"
   ]
  },
  {
   "cell_type": "code",
   "execution_count": 11,
   "metadata": {},
   "outputs": [
    {
     "data": {
      "text/plain": [
       "'2025-04-13'"
      ]
     },
     "execution_count": 11,
     "metadata": {},
     "output_type": "execute_result"
    }
   ],
   "source": [
    "from datetime import date\n",
    "TODAY = date.today().strftime('%Y-%m-%d')\n",
    "\n",
    "TODAY"
   ]
  },
  {
   "cell_type": "code",
   "execution_count": 12,
   "metadata": {},
   "outputs": [
    {
     "name": "stdout",
     "output_type": "stream",
     "text": [
      "YF.download() has changed argument auto_adjust default to True\n"
     ]
    },
    {
     "name": "stderr",
     "output_type": "stream",
     "text": [
      "[*********************100%***********************]  1 of 1 completed\n"
     ]
    },
    {
     "data": {
      "text/plain": [
       "Date\n",
       "2025-04-09    15.328853\n",
       "2020-03-16   -12.864665\n",
       "2020-03-13    11.980785\n",
       "2020-07-31    10.468868\n",
       "2020-03-24    10.032533\n",
       "Name: AAPL, dtype: float64"
      ]
     },
     "execution_count": 12,
     "metadata": {},
     "output_type": "execute_result"
    }
   ],
   "source": [
    "r = utils.calculate_significant_returns_simple(\n",
    "    ticker=TICKER,\n",
    "    start='2020-01-01',\n",
    "    end=TODAY,\n",
    "    freq=FREQ,\n",
    "    n=N_SAMPLES\n",
    ")\n",
    "\n",
    "r"
   ]
  },
  {
   "attachments": {},
   "cell_type": "markdown",
   "metadata": {},
   "source": [
    "### [X] Invoke chain\n",
    "\n",
    "To get the response, we need to invoke the chain with the input data."
   ]
  },
  {
   "cell_type": "code",
   "execution_count": null,
   "metadata": {},
   "outputs": [],
   "source": [
    "outputs = []\n",
    "\n",
    "for date, change in r.items():\n",
    "    try:\n",
    "        output = chain.invoke({\n",
    "            'DATE': date.strftime('%Y-%m-%d'),\n",
    "            'RETURN': round(change, 2),\n",
    "            'TICKER': TICKER,\n",
    "            'FREQUENCY': FREQ\n",
    "        })\n",
    "        outputs.append(output.model_dump())\n",
    "    except Exception as e:\n",
    "        print(f\"Error: {e}\")\n",
    "        continue"
   ]
  },
  {
   "cell_type": "markdown",
   "metadata": {},
   "source": [
    "## Output"
   ]
  },
  {
   "cell_type": "markdown",
   "metadata": {},
   "source": [
    "### JSON"
   ]
  },
  {
   "cell_type": "code",
   "execution_count": 19,
   "metadata": {},
   "outputs": [
    {
     "data": {
      "text/plain": [
       "[{'stock': 'AAPL',\n",
       "  'date': datetime.date(2025, 4, 9),\n",
       "  'value': 15.33,\n",
       "  'title': 'Apple Stock Surges Amid Market Volatility',\n",
       "  'url': 'https://en.wikipedia.org/wiki/2025_stock_market_crash',\n",
       "  'source': 'Wikipedia',\n",
       "  'explanation': \"On April 9, 2025, Apple Inc. (AAPL) experienced a significant stock price increase of 15.33%. This surge occurred in the context of a highly volatile market influenced by recent trade policies. On April 2, 2025, President Trump announced sweeping tariffs, leading to a global stock market downturn. However, on April 9, the administration paused some of these tariffs, prompting a market rebound. Apple's stock benefited from this positive shift, as the company had recently launched several new products, including a new iPhone model, iPads, and MacBooks. Despite the broader market turbulence, Apple's rapid product releases and the temporary easing of trade tensions contributed to the notable uptick in its stock price.\"},\n",
       " {'stock': 'AAPL',\n",
       "  'date': datetime.date(2020, 3, 16),\n",
       "  'value': -12.86,\n",
       "  'title': \"Apple's Stock Plunges Amid Global Market Turmoil and Store Closures\",\n",
       "  'url': 'https://9to5mac.com/2020/03/16/aapl-shares-fall-12-at-stock-market-open-as-apple-closes-retail-stores-due-to-coronavirus-concerns/',\n",
       "  'source': '9to5Mac',\n",
       "  'explanation': \"On March 16, 2020, Apple's stock (AAPL) experienced a significant decline of 12.86%. This sharp drop can be attributed to several interrelated factors:\\n\\n1. **Global Market Volatility Due to COVID-19 Pandemic**: The rapid spread of the coronavirus led to widespread economic uncertainty and market instability. Investors were concerned about the potential for a global recession as countries implemented lockdowns and other restrictive measures to curb the virus's spread. This broader market turmoil had a cascading effect on individual stocks, including Apple. ([macrumors.com](https://www.macrumors.com/2020/03/16/aapl-down-25-percent-since-feb-12/?utm_source=openai))\\n\\n2. **Temporary Closure of Apple Retail Stores**: In response to the escalating pandemic, Apple announced the closure of all its retail stores outside of Greater China until March 27, 2020. This decision was made to protect customers and employees but also raised concerns about potential revenue losses due to decreased sales during the closure period. ([axios.com](https://www.axios.com/2020/03/14/apple-closing-non-china-stores-coronavirus?utm_source=openai))\\n\\n3. **Supply Chain Disruptions**: The pandemic caused significant disruptions in global supply chains, particularly in China, where many of Apple's suppliers and manufacturing facilities are located. These disruptions raised concerns about potential delays in product availability and the company's ability to meet consumer demand. ([bloomberg.com](https://www.bloomberg.com/news/articles/2020-02-18/apple-shares-drop-after-virus-warning-rattles-tech-investors?utm_source=openai))\\n\\n4. **Decline in Consumer Demand**: With increasing economic uncertainty and widespread lockdowns, consumer spending on non-essential items, including electronics, was expected to decline. This anticipated reduction in demand further contributed to the negative sentiment surrounding Apple's stock.\\n\\nCollectively, these factors created a challenging environment for Apple, leading to the substantial drop in its stock price on March 16, 2020.\"},\n",
       " {'stock': 'AAPL',\n",
       "  'date': datetime.date(2020, 3, 13),\n",
       "  'value': 11.98,\n",
       "  'title': 'Apple Stock Rebounds Amid Store Reopenings and Positive Analyst Outlook',\n",
       "  'url': 'https://www.nasdaq.com/articles/why-apple-stock-jumped-today-2020-03-13',\n",
       "  'source': 'Nasdaq',\n",
       "  'explanation': \"On March 13, 2020, Apple Inc. (AAPL) experienced a significant stock price increase of 11.98%. This surge can be attributed to several key developments. Firstly, Apple announced the reopening of all 42 of its retail stores in China, signaling a recovery in one of its major markets. Additionally, the company confirmed that its annual Worldwide Developers Conference (WWDC) would proceed in June as an online event, demonstrating adaptability amid the COVID-19 pandemic. Furthermore, a Wall Street analyst issued a 'buy' recommendation for Apple shares, reflecting confidence in the company's resilience and future prospects. These factors collectively contributed to the positive market sentiment and the notable rise in Apple's stock price on that date.\"},\n",
       " {'stock': 'AAPL',\n",
       "  'date': datetime.date(2020, 7, 31),\n",
       "  'value': 10.47,\n",
       "  'title': 'Apple Reports Record Q3 2020 Results and Announces 4-for-1 Stock Split',\n",
       "  'url': 'https://www.apple.com/li/newsroom/2020/07/apple-reports-third-quarter-results/',\n",
       "  'source': 'Apple Newsroom',\n",
       "  'explanation': \"On July 30, 2020, Apple announced its fiscal third-quarter results, reporting an 11% year-over-year increase in revenue to $59.7 billion and an 18% rise in earnings per share to $2.58. The company also declared a 4-for-1 stock split to make shares more accessible to a broader range of investors. These strong financial results and the stock split announcement likely contributed to the significant 10.47% increase in AAPL's stock price on July 31, 2020.\"},\n",
       " {'stock': 'AAPL',\n",
       "  'date': datetime.date(2020, 3, 24),\n",
       "  'value': 10.03,\n",
       "  'title': \"Apple's Stock Rebounds Amid Market Optimism\",\n",
       "  'url': 'https://www.nasdaq.com/articles/why-apple-stock-jumped-today-2020-03-13',\n",
       "  'source': 'Nasdaq',\n",
       "  'explanation': \"On March 13, 2020, Apple announced the reopening of all 42 of its stores in China, signaling a recovery in one of its key markets. This positive development, coupled with broader market optimism and expectations of monetary stimulus from central banks, likely contributed to the significant rebound in Apple's stock price on March 24, 2020.\"}]"
      ]
     },
     "execution_count": 19,
     "metadata": {},
     "output_type": "execute_result"
    }
   ],
   "source": [
    "outputs"
   ]
  },
  {
   "cell_type": "markdown",
   "metadata": {},
   "source": [
    "### DataFrame"
   ]
  },
  {
   "cell_type": "code",
   "execution_count": 20,
   "metadata": {},
   "outputs": [
    {
     "data": {
      "text/html": [
       "<style type=\"text/css\">\n",
       "</style>\n",
       "<table id=\"T_cfddd\">\n",
       "  <thead>\n",
       "    <tr>\n",
       "      <th class=\"blank level0\" >&nbsp;</th>\n",
       "      <th id=\"T_cfddd_level0_col0\" class=\"col_heading level0 col0\" >stock</th>\n",
       "      <th id=\"T_cfddd_level0_col1\" class=\"col_heading level0 col1\" >date</th>\n",
       "      <th id=\"T_cfddd_level0_col2\" class=\"col_heading level0 col2\" >value</th>\n",
       "      <th id=\"T_cfddd_level0_col3\" class=\"col_heading level0 col3\" >title</th>\n",
       "      <th id=\"T_cfddd_level0_col4\" class=\"col_heading level0 col4\" >url</th>\n",
       "      <th id=\"T_cfddd_level0_col5\" class=\"col_heading level0 col5\" >source</th>\n",
       "      <th id=\"T_cfddd_level0_col6\" class=\"col_heading level0 col6\" >explanation</th>\n",
       "    </tr>\n",
       "  </thead>\n",
       "  <tbody>\n",
       "    <tr>\n",
       "      <th id=\"T_cfddd_level0_row0\" class=\"row_heading level0 row0\" >0</th>\n",
       "      <td id=\"T_cfddd_row0_col0\" class=\"data row0 col0\" >AAPL</td>\n",
       "      <td id=\"T_cfddd_row0_col1\" class=\"data row0 col1\" >2025-04-09</td>\n",
       "      <td id=\"T_cfddd_row0_col2\" class=\"data row0 col2\" >15.33</td>\n",
       "      <td id=\"T_cfddd_row0_col3\" class=\"data row0 col3\" >Apple Stock Surges Amid Market Volatility</td>\n",
       "      <td id=\"T_cfddd_row0_col4\" class=\"data row0 col4\" >https://en.wikipedia.org/wiki/2025_stock_market_crash</td>\n",
       "      <td id=\"T_cfddd_row0_col5\" class=\"data row0 col5\" >Wikipedia</td>\n",
       "      <td id=\"T_cfddd_row0_col6\" class=\"data row0 col6\" >On April 9, 2025, Apple Inc. (AAPL) experienced a significant stock price increase of 15.33%. This surge occurred in the context of a highly volatile market influenced by recent trade policies. On April 2, 2025, President Trump announced sweeping tariffs, leading to a global stock market downturn. However, on April 9, the administration paused some of these tariffs, prompting a market rebound. Apple's stock benefited from this positive shift, as the company had recently launched several new products, including a new iPhone model, iPads, and MacBooks. Despite the broader market turbulence, Apple's rapid product releases and the temporary easing of trade tensions contributed to the notable uptick in its stock price.</td>\n",
       "    </tr>\n",
       "    <tr>\n",
       "      <th id=\"T_cfddd_level0_row1\" class=\"row_heading level0 row1\" >1</th>\n",
       "      <td id=\"T_cfddd_row1_col0\" class=\"data row1 col0\" >AAPL</td>\n",
       "      <td id=\"T_cfddd_row1_col1\" class=\"data row1 col1\" >2020-03-16</td>\n",
       "      <td id=\"T_cfddd_row1_col2\" class=\"data row1 col2\" >-12.86</td>\n",
       "      <td id=\"T_cfddd_row1_col3\" class=\"data row1 col3\" >Apple's Stock Plunges Amid Global Market Turmoil and Store Closures</td>\n",
       "      <td id=\"T_cfddd_row1_col4\" class=\"data row1 col4\" >https://9to5mac.com/2020/03/16/aapl-shares-fall-12-at-stock-market-open-as-apple-closes-retail-stores-due-to-coronavirus-concerns/</td>\n",
       "      <td id=\"T_cfddd_row1_col5\" class=\"data row1 col5\" >9to5Mac</td>\n",
       "      <td id=\"T_cfddd_row1_col6\" class=\"data row1 col6\" >On March 16, 2020, Apple's stock (AAPL) experienced a significant decline of 12.86%. This sharp drop can be attributed to several interrelated factors:\n",
       "\n",
       "1. **Global Market Volatility Due to COVID-19 Pandemic**: The rapid spread of the coronavirus led to widespread economic uncertainty and market instability. Investors were concerned about the potential for a global recession as countries implemented lockdowns and other restrictive measures to curb the virus's spread. This broader market turmoil had a cascading effect on individual stocks, including Apple. ([macrumors.com](https://www.macrumors.com/2020/03/16/aapl-down-25-percent-since-feb-12/?utm_source=openai))\n",
       "\n",
       "2. **Temporary Closure of Apple Retail Stores**: In response to the escalating pandemic, Apple announced the closure of all its retail stores outside of Greater China until March 27, 2020. This decision was made to protect customers and employees but also raised concerns about potential revenue losses due to decreased sales during the closure period. ([axios.com](https://www.axios.com/2020/03/14/apple-closing-non-china-stores-coronavirus?utm_source=openai))\n",
       "\n",
       "3. **Supply Chain Disruptions**: The pandemic caused significant disruptions in global supply chains, particularly in China, where many of Apple's suppliers and manufacturing facilities are located. These disruptions raised concerns about potential delays in product availability and the company's ability to meet consumer demand. ([bloomberg.com](https://www.bloomberg.com/news/articles/2020-02-18/apple-shares-drop-after-virus-warning-rattles-tech-investors?utm_source=openai))\n",
       "\n",
       "4. **Decline in Consumer Demand**: With increasing economic uncertainty and widespread lockdowns, consumer spending on non-essential items, including electronics, was expected to decline. This anticipated reduction in demand further contributed to the negative sentiment surrounding Apple's stock.\n",
       "\n",
       "Collectively, these factors created a challenging environment for Apple, leading to the substantial drop in its stock price on March 16, 2020.</td>\n",
       "    </tr>\n",
       "    <tr>\n",
       "      <th id=\"T_cfddd_level0_row2\" class=\"row_heading level0 row2\" >2</th>\n",
       "      <td id=\"T_cfddd_row2_col0\" class=\"data row2 col0\" >AAPL</td>\n",
       "      <td id=\"T_cfddd_row2_col1\" class=\"data row2 col1\" >2020-03-13</td>\n",
       "      <td id=\"T_cfddd_row2_col2\" class=\"data row2 col2\" >11.98</td>\n",
       "      <td id=\"T_cfddd_row2_col3\" class=\"data row2 col3\" >Apple Stock Rebounds Amid Store Reopenings and Positive Analyst Outlook</td>\n",
       "      <td id=\"T_cfddd_row2_col4\" class=\"data row2 col4\" >https://www.nasdaq.com/articles/why-apple-stock-jumped-today-2020-03-13</td>\n",
       "      <td id=\"T_cfddd_row2_col5\" class=\"data row2 col5\" >Nasdaq</td>\n",
       "      <td id=\"T_cfddd_row2_col6\" class=\"data row2 col6\" >On March 13, 2020, Apple Inc. (AAPL) experienced a significant stock price increase of 11.98%. This surge can be attributed to several key developments. Firstly, Apple announced the reopening of all 42 of its retail stores in China, signaling a recovery in one of its major markets. Additionally, the company confirmed that its annual Worldwide Developers Conference (WWDC) would proceed in June as an online event, demonstrating adaptability amid the COVID-19 pandemic. Furthermore, a Wall Street analyst issued a 'buy' recommendation for Apple shares, reflecting confidence in the company's resilience and future prospects. These factors collectively contributed to the positive market sentiment and the notable rise in Apple's stock price on that date.</td>\n",
       "    </tr>\n",
       "    <tr>\n",
       "      <th id=\"T_cfddd_level0_row3\" class=\"row_heading level0 row3\" >3</th>\n",
       "      <td id=\"T_cfddd_row3_col0\" class=\"data row3 col0\" >AAPL</td>\n",
       "      <td id=\"T_cfddd_row3_col1\" class=\"data row3 col1\" >2020-07-31</td>\n",
       "      <td id=\"T_cfddd_row3_col2\" class=\"data row3 col2\" >10.47</td>\n",
       "      <td id=\"T_cfddd_row3_col3\" class=\"data row3 col3\" >Apple Reports Record Q3 2020 Results and Announces 4-for-1 Stock Split</td>\n",
       "      <td id=\"T_cfddd_row3_col4\" class=\"data row3 col4\" >https://www.apple.com/li/newsroom/2020/07/apple-reports-third-quarter-results/</td>\n",
       "      <td id=\"T_cfddd_row3_col5\" class=\"data row3 col5\" >Apple Newsroom</td>\n",
       "      <td id=\"T_cfddd_row3_col6\" class=\"data row3 col6\" >On July 30, 2020, Apple announced its fiscal third-quarter results, reporting an 11% year-over-year increase in revenue to $59.7 billion and an 18% rise in earnings per share to $2.58. The company also declared a 4-for-1 stock split to make shares more accessible to a broader range of investors. These strong financial results and the stock split announcement likely contributed to the significant 10.47% increase in AAPL's stock price on July 31, 2020.</td>\n",
       "    </tr>\n",
       "    <tr>\n",
       "      <th id=\"T_cfddd_level0_row4\" class=\"row_heading level0 row4\" >4</th>\n",
       "      <td id=\"T_cfddd_row4_col0\" class=\"data row4 col0\" >AAPL</td>\n",
       "      <td id=\"T_cfddd_row4_col1\" class=\"data row4 col1\" >2020-03-24</td>\n",
       "      <td id=\"T_cfddd_row4_col2\" class=\"data row4 col2\" >10.03</td>\n",
       "      <td id=\"T_cfddd_row4_col3\" class=\"data row4 col3\" >Apple's Stock Rebounds Amid Market Optimism</td>\n",
       "      <td id=\"T_cfddd_row4_col4\" class=\"data row4 col4\" >https://www.nasdaq.com/articles/why-apple-stock-jumped-today-2020-03-13</td>\n",
       "      <td id=\"T_cfddd_row4_col5\" class=\"data row4 col5\" >Nasdaq</td>\n",
       "      <td id=\"T_cfddd_row4_col6\" class=\"data row4 col6\" >On March 13, 2020, Apple announced the reopening of all 42 of its stores in China, signaling a recovery in one of its key markets. This positive development, coupled with broader market optimism and expectations of monetary stimulus from central banks, likely contributed to the significant rebound in Apple's stock price on March 24, 2020.</td>\n",
       "    </tr>\n",
       "  </tbody>\n",
       "</table>\n"
      ],
      "text/plain": [
       "<pandas.io.formats.style.Styler at 0xffff410bec30>"
      ]
     },
     "execution_count": 20,
     "metadata": {},
     "output_type": "execute_result"
    }
   ],
   "source": [
    "import pandas as pd\n",
    "\n",
    "df = pd.DataFrame(outputs)\n",
    "\n",
    "col_num = df.select_dtypes(include=['number']).columns\n",
    "df.style.format('{:.2f}', subset=col_num)"
   ]
  },
  {
   "cell_type": "markdown",
   "metadata": {},
   "source": [
    "### Export to Excel and CSV"
   ]
  },
  {
   "cell_type": "code",
   "execution_count": 21,
   "metadata": {},
   "outputs": [],
   "source": [
    "from datetime import datetime\n",
    "import os\n",
    "\n",
    "# Create a folder with the current datetime\n",
    "current_datetime = datetime.now().strftime('%Y%m%d_%H%M%S')\n",
    "output_folder = folder / f'outputs/{current_datetime}'\n",
    "output_folder.mkdir(parents=True, exist_ok=True)\n",
    "\n",
    "# Save the files in the newly created folder\n",
    "df.to_excel(output_folder / 'output.xlsx', index=False)\n",
    "df.to_csv(output_folder / 'output.csv', index=False)"
   ]
  }
 ],
 "metadata": {
  "kernelspec": {
   "display_name": "Python 3",
   "language": "python",
   "name": "python3"
  },
  "language_info": {
   "codemirror_mode": {
    "name": "ipython",
    "version": 3
   },
   "file_extension": ".py",
   "mimetype": "text/x-python",
   "name": "python",
   "nbconvert_exporter": "python",
   "pygments_lexer": "ipython3",
   "version": "3.12.10"
  },
  "orig_nbformat": 4
 },
 "nbformat": 4,
 "nbformat_minor": 2
}
