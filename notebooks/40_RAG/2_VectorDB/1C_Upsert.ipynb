{
 "cells": [
  {
   "cell_type": "markdown",
   "metadata": {},
   "source": [
    "# Upsert documents"
   ]
  },
  {
   "cell_type": "markdown",
   "metadata": {},
   "source": [
    "## Download documents"
   ]
  },
  {
   "cell_type": "code",
   "execution_count": 1,
   "metadata": {},
   "outputs": [],
   "source": [
    "urls = [\n",
    "    \"https://bocyl.jcyl.es/boletines/2025/04/11/xml/BOCYL-D-11042025-15.xml\",\n",
    "    \"https://bocyl.jcyl.es/boletines/2025/03/21/xml/BOCYL-D-21032025-21.xml\",\n",
    "    \"https://bocyl.jcyl.es/boletines/2025/03/21/xml/BOCYL-D-21032025-26.xml\",\n",
    "    \"https://bocyl.jcyl.es/boletines/2025/03/07/xml/BOCYL-D-07032025-16.xml\",\n",
    "    \"https://bocyl.jcyl.es/boletines/2025/03/07/xml/BOCYL-D-07032025-17.xml\",\n",
    "    \"https://bocyl.jcyl.es/boletines/2025/02/26/xml/BOCYL-D-26022025-18.xml\",\n",
    "    \"https://bocyl.jcyl.es/boletines/2025/02/10/xml/BOCYL-D-10022025-2.xml\",\n",
    "    \"https://bocyl.jcyl.es/boletines/2025/02/10/xml/BOCYL-D-10022025-11.xml\",\n",
    "    \"https://bocyl.jcyl.es/boletines/2025/02/10/xml/BOCYL-D-10022025-12.xml\",\n",
    "    \"https://bocyl.jcyl.es/boletines/2025/02/10/xml/BOCYL-D-10022025-13.xml\",\n",
    "]\n"
   ]
  },
  {
   "cell_type": "code",
   "execution_count": 2,
   "metadata": {},
   "outputs": [],
   "source": [
    "from pathlib import Path\n",
    "folder_documents = Path(\"/workspace/data/documents/BOCYL\")"
   ]
  },
  {
   "cell_type": "code",
   "execution_count": 3,
   "metadata": {},
   "outputs": [],
   "source": [
    "from modules.preprocessing import BOCYLMarkdownExporter\n",
    "exporter = BOCYLMarkdownExporter(folder_documents)"
   ]
  },
  {
   "cell_type": "code",
   "execution_count": 4,
   "metadata": {},
   "outputs": [
    {
     "name": "stdout",
     "output_type": "stream",
     "text": [
      "File /workspace/data/documents/BOCYL/BOCYL-D-11042025-15.md already exists. Skipping export.\n",
      "File /workspace/data/documents/BOCYL/BOCYL-D-21032025-21.md already exists. Skipping export.\n",
      "File /workspace/data/documents/BOCYL/BOCYL-D-21032025-26.md already exists. Skipping export.\n",
      "File /workspace/data/documents/BOCYL/BOCYL-D-07032025-16.md already exists. Skipping export.\n",
      "File /workspace/data/documents/BOCYL/BOCYL-D-07032025-17.md already exists. Skipping export.\n",
      "File /workspace/data/documents/BOCYL/BOCYL-D-26022025-18.md already exists. Skipping export.\n",
      "File /workspace/data/documents/BOCYL/BOCYL-D-10022025-2.md already exists. Skipping export.\n",
      "File /workspace/data/documents/BOCYL/BOCYL-D-10022025-11.md already exists. Skipping export.\n",
      "File /workspace/data/documents/BOCYL/BOCYL-D-10022025-12.md already exists. Skipping export.\n",
      "File /workspace/data/documents/BOCYL/BOCYL-D-10022025-13.md already exists. Skipping export.\n"
     ]
    },
    {
     "data": {
      "text/plain": [
       "[PosixPath('/workspace/data/documents/BOCYL/BOCYL-D-11042025-15.md'),\n",
       " PosixPath('/workspace/data/documents/BOCYL/BOCYL-D-21032025-21.md'),\n",
       " PosixPath('/workspace/data/documents/BOCYL/BOCYL-D-21032025-26.md'),\n",
       " PosixPath('/workspace/data/documents/BOCYL/BOCYL-D-07032025-16.md'),\n",
       " PosixPath('/workspace/data/documents/BOCYL/BOCYL-D-07032025-17.md'),\n",
       " PosixPath('/workspace/data/documents/BOCYL/BOCYL-D-26022025-18.md'),\n",
       " PosixPath('/workspace/data/documents/BOCYL/BOCYL-D-10022025-2.md'),\n",
       " PosixPath('/workspace/data/documents/BOCYL/BOCYL-D-10022025-11.md'),\n",
       " PosixPath('/workspace/data/documents/BOCYL/BOCYL-D-10022025-12.md'),\n",
       " PosixPath('/workspace/data/documents/BOCYL/BOCYL-D-10022025-13.md')]"
      ]
     },
     "execution_count": 4,
     "metadata": {},
     "output_type": "execute_result"
    }
   ],
   "source": [
    "paths = []\n",
    "\n",
    "for url in urls:\n",
    "    exporter.export(url)\n",
    "    filename = url.split('/')[-1].split('.')[0]\n",
    "    path = folder_documents / f\"{filename}.md\"\n",
    "    paths.append(path)\n",
    "\n",
    "paths"
   ]
  },
  {
   "cell_type": "markdown",
   "metadata": {},
   "source": [
    "## "
   ]
  },
  {
   "cell_type": "markdown",
   "metadata": {},
   "source": [
    "### Instantiate client"
   ]
  },
  {
   "cell_type": "code",
   "execution_count": 5,
   "metadata": {},
   "outputs": [],
   "source": [
    "import chromadb\n",
    "from chromadb.config import Settings\n",
    "from sentence_transformers import SentenceTransformer\n",
    "from pathlib import Path\n",
    "import os"
   ]
  },
  {
   "cell_type": "code",
   "execution_count": 6,
   "metadata": {},
   "outputs": [],
   "source": [
    "# Define the path where the database will be stored\n",
    "db_path = \"/workspace/data/vectordb/chromadb\"\n",
    "\n",
    "# Create directory if it doesn't exist\n",
    "os.makedirs(db_path, exist_ok=True)\n",
    "\n",
    "# Initialize the ChromaDB client with persistent storage\n",
    "client = chromadb.PersistentClient(path=db_path)"
   ]
  },
  {
   "cell_type": "markdown",
   "metadata": {},
   "source": [
    "### Create collection"
   ]
  },
  {
   "cell_type": "code",
   "execution_count": 7,
   "metadata": {},
   "outputs": [],
   "source": [
    "# Create a new collection (or get existing one)\n",
    "collection_name = \"bocyl\"\n",
    "collection = client.get_or_create_collection(name=collection_name)"
   ]
  },
  {
   "cell_type": "markdown",
   "metadata": {},
   "source": [
    "### Insert documents"
   ]
  },
  {
   "cell_type": "markdown",
   "metadata": {},
   "source": [
    "#### Define functions to extract metadata"
   ]
  },
  {
   "cell_type": "code",
   "execution_count": 8,
   "metadata": {},
   "outputs": [],
   "source": [
    "import re\n",
    "from datetime import datetime\n",
    "\n",
    "# Function to extract metadata from filename\n",
    "def extract_metadata_from_filename(filename):\n",
    "    # Pattern: BOCYL-D-DDMMYYYY-NN\n",
    "    pattern = r\"BOCYL-D-(\\d{2})(\\d{2})(\\d{4})-(\\d+)\"\n",
    "    match = re.match(pattern, filename)\n",
    "    \n",
    "    if match:\n",
    "        day, month, year, doc_num = match.groups()\n",
    "        # Create date object\n",
    "        doc_date = datetime.strptime(f\"{day}/{month}/{year}\", \"%d/%m/%Y\").strftime(\"%Y-%m-%d\")\n",
    "        \n",
    "        return {\n",
    "            \"doc_id\": filename,\n",
    "            \"date\": doc_date,\n",
    "            \"doc_number\": int(doc_num),\n",
    "            \"source\": \"BOCYL\",\n",
    "            \"type\": \"official_document\",\n",
    "            \"area\": \"AGRARIA\",\n",
    "            \"consejeria\": \"AGRICULTURA Y PESCA\"\n",
    "        }\n",
    "        \n",
    "    return {\"doc_id\": filename}\n",
    "\n",
    "# Function to extract potential metadata from document content\n",
    "def extract_metadata_from_content(content):\n",
    "    # Example patterns to look for in document content\n",
    "    title_match = re.search(r\"^# (.+)$\", content, re.MULTILINE)\n",
    "    title = title_match.group(1) if title_match else \"Unknown Title\"\n",
    "    \n",
    "    # Could extract more metadata based on document structure\n",
    "    # This is a simplified example\n",
    "    \n",
    "    return {\n",
    "        \"title\": title\n",
    "    }"
   ]
  },
  {
   "cell_type": "markdown",
   "metadata": {},
   "source": [
    "#### Define embedding model"
   ]
  },
  {
   "cell_type": "code",
   "execution_count": 9,
   "metadata": {},
   "outputs": [
    {
     "data": {
      "application/vnd.jupyter.widget-view+json": {
       "model_id": "9d5b494924504565b740b6c86ad1f340",
       "version_major": 2,
       "version_minor": 0
      },
      "text/plain": [
       "modules.json:   0%|          | 0.00/349 [00:00<?, ?B/s]"
      ]
     },
     "metadata": {},
     "output_type": "display_data"
    },
    {
     "data": {
      "application/vnd.jupyter.widget-view+json": {
       "model_id": "57258dcb4eea49d1925bb82638af98fd",
       "version_major": 2,
       "version_minor": 0
      },
      "text/plain": [
       "config_sentence_transformers.json:   0%|          | 0.00/124 [00:00<?, ?B/s]"
      ]
     },
     "metadata": {},
     "output_type": "display_data"
    },
    {
     "data": {
      "application/vnd.jupyter.widget-view+json": {
       "model_id": "59c77dbd48d64b489e83738d0710fb32",
       "version_major": 2,
       "version_minor": 0
      },
      "text/plain": [
       "README.md:   0%|          | 0.00/94.8k [00:00<?, ?B/s]"
      ]
     },
     "metadata": {},
     "output_type": "display_data"
    },
    {
     "data": {
      "application/vnd.jupyter.widget-view+json": {
       "model_id": "f88afc29d2a3486595ffc1123bd7b76a",
       "version_major": 2,
       "version_minor": 0
      },
      "text/plain": [
       "sentence_bert_config.json:   0%|          | 0.00/52.0 [00:00<?, ?B/s]"
      ]
     },
     "metadata": {},
     "output_type": "display_data"
    },
    {
     "data": {
      "application/vnd.jupyter.widget-view+json": {
       "model_id": "9eecc1aaebad4a97b58819ad1f9580e6",
       "version_major": 2,
       "version_minor": 0
      },
      "text/plain": [
       "config.json:   0%|          | 0.00/743 [00:00<?, ?B/s]"
      ]
     },
     "metadata": {},
     "output_type": "display_data"
    },
    {
     "data": {
      "application/vnd.jupyter.widget-view+json": {
       "model_id": "621f4801ff3841a5b50ade1b70c755bc",
       "version_major": 2,
       "version_minor": 0
      },
      "text/plain": [
       "model.safetensors:   0%|          | 0.00/133M [00:00<?, ?B/s]"
      ]
     },
     "metadata": {},
     "output_type": "display_data"
    },
    {
     "data": {
      "application/vnd.jupyter.widget-view+json": {
       "model_id": "397f455fa0824fc6926c29863aa09800",
       "version_major": 2,
       "version_minor": 0
      },
      "text/plain": [
       "tokenizer_config.json:   0%|          | 0.00/366 [00:00<?, ?B/s]"
      ]
     },
     "metadata": {},
     "output_type": "display_data"
    },
    {
     "data": {
      "application/vnd.jupyter.widget-view+json": {
       "model_id": "5310a135d71f4cbda50c034288015dfc",
       "version_major": 2,
       "version_minor": 0
      },
      "text/plain": [
       "vocab.txt:   0%|          | 0.00/232k [00:00<?, ?B/s]"
      ]
     },
     "metadata": {},
     "output_type": "display_data"
    },
    {
     "data": {
      "application/vnd.jupyter.widget-view+json": {
       "model_id": "c06c2df715c44a92aa6a4eb4847c2abd",
       "version_major": 2,
       "version_minor": 0
      },
      "text/plain": [
       "tokenizer.json:   0%|          | 0.00/711k [00:00<?, ?B/s]"
      ]
     },
     "metadata": {},
     "output_type": "display_data"
    },
    {
     "data": {
      "application/vnd.jupyter.widget-view+json": {
       "model_id": "c0653ed0fd5f4bafbcca7fbe18dbbd6d",
       "version_major": 2,
       "version_minor": 0
      },
      "text/plain": [
       "special_tokens_map.json:   0%|          | 0.00/125 [00:00<?, ?B/s]"
      ]
     },
     "metadata": {},
     "output_type": "display_data"
    },
    {
     "data": {
      "application/vnd.jupyter.widget-view+json": {
       "model_id": "032ca77277b8493a9cb2479ec72ebe39",
       "version_major": 2,
       "version_minor": 0
      },
      "text/plain": [
       "config.json:   0%|          | 0.00/190 [00:00<?, ?B/s]"
      ]
     },
     "metadata": {},
     "output_type": "display_data"
    }
   ],
   "source": [
    "import torch\n",
    "from langchain_huggingface import HuggingFaceEmbeddings\n",
    "\n",
    "device = 'cuda' if torch.cuda.is_available() else 'cpu'\n",
    "model = HuggingFaceEmbeddings(\n",
    "    model_name='BAAI/bge-small-en-v1.5',\n",
    "    model_kwargs={'device': device}\n",
    ")"
   ]
  },
  {
   "cell_type": "markdown",
   "metadata": {},
   "source": [
    "#### Upsert documents"
   ]
  },
  {
   "cell_type": "code",
   "execution_count": 10,
   "metadata": {},
   "outputs": [
    {
     "data": {
      "text/plain": [
       "[PosixPath('/workspace/data/documents/BOCYL/BOCYL-D-11042025-15.md'),\n",
       " PosixPath('/workspace/data/documents/BOCYL/BOCYL-D-21032025-21.md'),\n",
       " PosixPath('/workspace/data/documents/BOCYL/BOCYL-D-21032025-26.md'),\n",
       " PosixPath('/workspace/data/documents/BOCYL/BOCYL-D-07032025-16.md'),\n",
       " PosixPath('/workspace/data/documents/BOCYL/BOCYL-D-07032025-17.md'),\n",
       " PosixPath('/workspace/data/documents/BOCYL/BOCYL-D-26022025-18.md'),\n",
       " PosixPath('/workspace/data/documents/BOCYL/BOCYL-D-10022025-2.md'),\n",
       " PosixPath('/workspace/data/documents/BOCYL/BOCYL-D-10022025-11.md'),\n",
       " PosixPath('/workspace/data/documents/BOCYL/BOCYL-D-10022025-12.md'),\n",
       " PosixPath('/workspace/data/documents/BOCYL/BOCYL-D-10022025-13.md')]"
      ]
     },
     "execution_count": 10,
     "metadata": {},
     "output_type": "execute_result"
    }
   ],
   "source": [
    "paths"
   ]
  },
  {
   "cell_type": "code",
   "execution_count": 11,
   "metadata": {},
   "outputs": [
    {
     "name": "stdout",
     "output_type": "stream",
     "text": [
      "Added BOCYL-D-11042025-15 with 3 chunks and metadata: {'doc_id': 'BOCYL-D-11042025-15', 'date': '2025-04-11', 'doc_number': 15, 'source': 'BOCYL', 'type': 'official_document', 'area': 'AGRARIA', 'consejeria': 'AGRICULTURA Y PESCA', 'title': 'EXTRACTO de la Orden de 8 de abril de 2025, de la Consejería de Agricultura, Ganadería y Desarrollo Rural, por la que se convocan las ayudas a la cosecha en verde de viñedos en la Comunidad de Castilla y León para la vendimia 2025.'}\n",
      "Added BOCYL-D-21032025-21 with 6 chunks and metadata: {'doc_id': 'BOCYL-D-21032025-21', 'date': '2025-03-21', 'doc_number': 21, 'source': 'BOCYL', 'type': 'official_document', 'area': 'AGRARIA', 'consejeria': 'AGRICULTURA Y PESCA', 'title': 'ORDEN AGR/263/2025, de 11 de marzo, por la que se resuelve la aprobación del plan de obras de la infraestructura rural de la zona regable del Canal de San José-Sector I (Zamora).'}\n",
      "Added BOCYL-D-21032025-26 with 9 chunks and metadata: {'doc_id': 'BOCYL-D-21032025-26', 'date': '2025-03-21', 'doc_number': 26, 'source': 'BOCYL', 'type': 'official_document', 'area': 'AGRARIA', 'consejeria': 'AGRICULTURA Y PESCA', 'title': 'RESOLUCIÓN de 11 de marzo de 2025, de la Dirección General de Producción Agrícola y Ganadera, por la que se hace pública la relación de localidades autorizadas para la producción de patata de siembra en Castilla y León, durante la campaña 2025/2026.'}\n",
      "Added BOCYL-D-07032025-16 with 5 chunks and metadata: {'doc_id': 'BOCYL-D-07032025-16', 'date': '2025-03-07', 'doc_number': 16, 'source': 'BOCYL', 'type': 'official_document', 'area': 'AGRARIA', 'consejeria': 'AGRICULTURA Y PESCA', 'title': 'RESOLUCIÓN de 28 de febrero de 2025, del Servicio Territorial de Agricultura, Ganadería y Desarrollo Rural de Zamora, por la que se aprueba la composición de la comisión local de la zona de concentración parcelaria de Rábano de Aliste (Zamora).'}\n",
      "Added BOCYL-D-07032025-17 with 5 chunks and metadata: {'doc_id': 'BOCYL-D-07032025-17', 'date': '2025-03-07', 'doc_number': 17, 'source': 'BOCYL', 'type': 'official_document', 'area': 'AGRARIA', 'consejeria': 'AGRICULTURA Y PESCA', 'title': 'RESOLUCIÓN de 28 de febrero de 2025, del Servicio Territorial de Agricultura, Ganadería y Desarrollo Rural de Zamora, por la que se aprueba la composición de la comisión local de la zona de concentración parcelaria de Tola (Zamora).'}\n",
      "Added BOCYL-D-26022025-18 with 5 chunks and metadata: {'doc_id': 'BOCYL-D-26022025-18', 'date': '2025-02-26', 'doc_number': 18, 'source': 'BOCYL', 'type': 'official_document', 'area': 'AGRARIA', 'consejeria': 'AGRICULTURA Y PESCA', 'title': 'ANUNCIO del Servicio Territorial de Agricultura, Ganadería y Desarrollo Rural de León, relativo a la apertura del trámite de información pública de la aprobación de las bases provisionales de la concentración parcelaria de la zona de Almanza II (León).'}\n",
      "Added BOCYL-D-10022025-2 with 68 chunks and metadata: {'doc_id': 'BOCYL-D-10022025-2', 'date': '2025-02-10', 'doc_number': 2, 'source': 'BOCYL', 'type': 'official_document', 'area': 'AGRARIA', 'consejeria': 'AGRICULTURA Y PESCA', 'title': 'ORDEN AGR/85/2025, de 27 de enero, por la que se regulan las actividades de formación en materia de bienestar, bioseguridad, higiene y sanidad animal en la Comunidad de Castilla y León.'}\n",
      "Added BOCYL-D-10022025-11 with 7 chunks and metadata: {'doc_id': 'BOCYL-D-10022025-11', 'date': '2025-02-10', 'doc_number': 11, 'source': 'BOCYL', 'type': 'official_document', 'area': 'AGRARIA', 'consejeria': 'AGRICULTURA Y PESCA', 'title': 'RESOLUCIÓN de 22 de enero de 2025, de la Secretaría General de la Consejería de Agricultura, Ganadería y Desarrollo Rural, por la que se aprueba y publica la relación provisional de candidatos de la bolsa de empleo temporal del Cuerpo de Ingenieros Técnicos Agrícolas de la Administración de la Comunidad de Castilla y León, convocada por Orden PRE/148/2020, de 17 de febrero.'}\n",
      "Added BOCYL-D-10022025-12 with 7 chunks and metadata: {'doc_id': 'BOCYL-D-10022025-12', 'date': '2025-02-10', 'doc_number': 12, 'source': 'BOCYL', 'type': 'official_document', 'area': 'AGRARIA', 'consejeria': 'AGRICULTURA Y PESCA', 'title': 'RESOLUCIÓN de 22 de enero de 2025, de la Secretaría General de la Consejería de Agricultura, Ganadería y Desarrollo Rural, por la que se aprueba y publica la relación provisional de candidatos de la bolsa de empleo temporal del Cuerpo de Ingenieros Superiores (Agrónomos) de la Administración de la Comunidad de Castilla y León, convocada por Orden PRE/149/2020, de 17 de febrero.'}\n",
      "Added BOCYL-D-10022025-13 with 7 chunks and metadata: {'doc_id': 'BOCYL-D-10022025-13', 'date': '2025-02-10', 'doc_number': 13, 'source': 'BOCYL', 'type': 'official_document', 'area': 'AGRARIA', 'consejeria': 'AGRICULTURA Y PESCA', 'title': 'RESOLUCIÓN de 22 de enero de 2025, de la Secretaría General de la Consejería de Agricultura, Ganadería y Desarrollo Rural, por la que se aprueba y publica la relación provisional de candidatos de la bolsa de empleo temporal del Cuerpo de Ayudantes Facultativos (Inspectores de Campo) de la Administración de la Comunidad de Castilla y León, convocada por Orden PRE/556/2024, de 7 de junio.'}\n"
     ]
    }
   ],
   "source": [
    "for path in paths:\n",
    "    # Read document content\n",
    "    with open(path, \"r\", encoding=\"utf-8\") as f:\n",
    "        content = f.read()\n",
    "    \n",
    "    # Extract document ID and filename\n",
    "    doc_id = path.stem\n",
    "    \n",
    "    # Check if document already exists (using the first chunk's ID as indicator)\n",
    "    first_chunk_id = f\"{doc_id}_0\"\n",
    "    existing = collection.get(ids=[first_chunk_id])\n",
    "    \n",
    "    if len(existing['ids']) > 0:\n",
    "        print(f\"Document {doc_id} already exists. Deleting existing chunks...\")\n",
    "        # Get all chunks for this document\n",
    "        doc_chunks = collection.get(where={\"doc_id\": doc_id})\n",
    "        if doc_chunks and len(doc_chunks['ids']) > 0:\n",
    "            # Delete all existing chunks for this document\n",
    "            collection.delete(ids=doc_chunks['ids'])\n",
    "    \n",
    "    # Extract metadata from filename\n",
    "    filename_metadata = extract_metadata_from_filename(doc_id)\n",
    "    \n",
    "    # Extract metadata from content\n",
    "    content_metadata = extract_metadata_from_content(content)\n",
    "    \n",
    "    # Combine metadata\n",
    "    document_metadata = {**filename_metadata, **content_metadata}\n",
    "    \n",
    "    # Add doc_id to metadata\n",
    "    document_metadata[\"doc_id\"] = doc_id\n",
    "    \n",
    "    # Split document into chunks (simple approach)\n",
    "    chunk_size = 1000\n",
    "    chunks = [content[i:i+chunk_size] for i in range(0, len(content), chunk_size)]\n",
    "    \n",
    "    # Process each chunk\n",
    "    ids = []\n",
    "    metadatas = []\n",
    "    documents = []\n",
    "    \n",
    "    for i, chunk in enumerate(chunks):\n",
    "        chunk_id = f\"{doc_id}_{i}\"\n",
    "        ids.append(chunk_id)\n",
    "        \n",
    "        # Add chunk-specific metadata\n",
    "        chunk_metadata = {\n",
    "            **document_metadata,\n",
    "            \"chunk_id\": i,\n",
    "            \"chunk_total\": len(chunks)\n",
    "        }\n",
    "        metadatas.append(chunk_metadata)\n",
    "        documents.append(chunk)\n",
    "    \n",
    "    # Instead of encoding each chunk individually in a loop\n",
    "    embeddings = model.embed_documents(chunks)\n",
    "    \n",
    "    # Add to collection\n",
    "    collection.add(\n",
    "        ids=ids,\n",
    "        embeddings=embeddings,\n",
    "        metadatas=metadatas,\n",
    "        documents=chunks\n",
    "    )\n",
    "    \n",
    "    print(f\"Added {doc_id} with {len(chunks)} chunks and metadata: {document_metadata}\")"
   ]
  },
  {
   "cell_type": "markdown",
   "metadata": {},
   "source": [
    "### Count documents inserted"
   ]
  },
  {
   "cell_type": "code",
   "execution_count": 12,
   "metadata": {},
   "outputs": [
    {
     "name": "stdout",
     "output_type": "stream",
     "text": [
      "Total number of chunks in collection: 122\n",
      "Number of documents: 10\n"
     ]
    }
   ],
   "source": [
    "# Count items in collection\n",
    "count = collection.count()\n",
    "print(f\"Total number of chunks in collection: {count}\")\n",
    "\n",
    "# Get unique document IDs\n",
    "results = collection.get(\n",
    "    where={\"chunk_id\": 0}  # Get only first chunk of each document\n",
    ")\n",
    "print(f\"Number of documents: {len(results['ids'])}\")"
   ]
  },
  {
   "cell_type": "markdown",
   "metadata": {},
   "source": [
    "## Query the vector db"
   ]
  },
  {
   "cell_type": "markdown",
   "metadata": {},
   "source": [
    "### Define query"
   ]
  },
  {
   "cell_type": "code",
   "execution_count": 13,
   "metadata": {},
   "outputs": [],
   "source": [
    "query = \"Dame un resumen de la normativa agraria reciente publicada en BOCYL\""
   ]
  },
  {
   "cell_type": "markdown",
   "metadata": {},
   "source": [
    "### Encode query with embedding model"
   ]
  },
  {
   "cell_type": "code",
   "execution_count": 14,
   "metadata": {},
   "outputs": [
    {
     "data": {
      "text/plain": [
       "[-0.046658698469400406,\n",
       " 0.034835949540138245,\n",
       " 0.025681229308247566,\n",
       " -0.01039701048284769,\n",
       " -0.03776011988520622,\n",
       " 0.006033893674612045,\n",
       " 0.052861299365758896,\n",
       " 0.06641411781311035,\n",
       " 0.02814403921365738,\n",
       " -0.06875647604465485,\n",
       " -0.051330920308828354,\n",
       " -0.05179449915885925,\n",
       " -0.01772548444569111,\n",
       " -0.0028604811523109674,\n",
       " 0.025533495470881462,\n",
       " -0.004578458610922098,\n",
       " 0.07741551101207733,\n",
       " 0.03160997852683067,\n",
       " -0.06160251796245575,\n",
       " 0.013882341794669628,\n",
       " 0.04177721217274666,\n",
       " -0.033684927970170975,\n",
       " 0.008339233696460724,\n",
       " 0.029327671974897385,\n",
       " -0.01139218918979168,\n",
       " -0.01367481891065836,\n",
       " -0.04429325833916664,\n",
       " 0.020326945930719376,\n",
       " -0.025521716102957726,\n",
       " -0.15243107080459595,\n",
       " 0.018130943179130554,\n",
       " -0.006615903694182634,\n",
       " -0.01787617802619934,\n",
       " -0.01325325295329094,\n",
       " 0.014333341270685196,\n",
       " -0.022217022255063057,\n",
       " -0.01836596429347992,\n",
       " -0.007624195888638496,\n",
       " -0.01365339383482933,\n",
       " 0.026709960773587227,\n",
       " -0.0020161056891083717,\n",
       " -0.024781016632914543,\n",
       " 0.03289389610290527,\n",
       " -0.053434740751981735,\n",
       " 0.05660254880785942,\n",
       " -0.026947490870952606,\n",
       " 0.0025814881082624197,\n",
       " 0.06442995369434357,\n",
       " -0.025136545300483704,\n",
       " -0.03831547126173973,\n",
       " -0.025643685832619667,\n",
       " -0.01029973104596138,\n",
       " -0.06136190518736839,\n",
       " 0.03749755397439003,\n",
       " -0.02451162226498127,\n",
       " 0.063050776720047,\n",
       " 0.015594213269650936,\n",
       " 0.01165101584047079,\n",
       " 0.06811486929655075,\n",
       " 0.013042507693171501,\n",
       " 0.05620483681559563,\n",
       " 0.051275864243507385,\n",
       " -0.2243703007698059,\n",
       " 0.07015035301446915,\n",
       " 0.012265861965715885,\n",
       " 0.013350612483918667,\n",
       " 0.037926193326711655,\n",
       " -0.08379761874675751,\n",
       " -0.035246606916189194,\n",
       " -0.009296652860939503,\n",
       " -0.011500257067382336,\n",
       " 0.011474749073386192,\n",
       " 0.05159503594040871,\n",
       " 0.03820812702178955,\n",
       " 0.014181165024638176,\n",
       " 0.004243142902851105,\n",
       " 0.00153823709115386,\n",
       " -0.04121262580156326,\n",
       " -0.047008976340293884,\n",
       " 0.01878432184457779,\n",
       " 0.04314826428890228,\n",
       " 0.035891953855752945,\n",
       " 0.044383250176906586,\n",
       " 0.012016044929623604,\n",
       " 0.009568192064762115,\n",
       " -0.03653758764266968,\n",
       " -0.006881327833980322,\n",
       " 0.009852470830082893,\n",
       " 0.009482590481638908,\n",
       " -0.01702794060111046,\n",
       " -0.02049882337450981,\n",
       " -0.028925716876983643,\n",
       " -0.01332581415772438,\n",
       " 0.042529914528131485,\n",
       " -0.03922051563858986,\n",
       " -0.060403529554605484,\n",
       " -0.03341963142156601,\n",
       " 0.039703141897916794,\n",
       " 0.03585909679532051,\n",
       " 0.4019171893596649,\n",
       " -0.07150426506996155,\n",
       " 0.0414077453315258,\n",
       " 0.03912118077278137,\n",
       " 0.014770853333175182,\n",
       " 0.07461307942867279,\n",
       " -0.011515247635543346,\n",
       " 0.036060482263565063,\n",
       " -0.039848677814006805,\n",
       " 0.0053421249613165855,\n",
       " 0.019058912992477417,\n",
       " -0.029534846544265747,\n",
       " -0.0655558630824089,\n",
       " 0.07227648049592972,\n",
       " -0.03393755853176117,\n",
       " 0.025111321359872818,\n",
       " 0.05664902180433273,\n",
       " 0.07088804244995117,\n",
       " -0.025701867416501045,\n",
       " -0.03277004882693291,\n",
       " -0.034648049622774124,\n",
       " -0.01941312849521637,\n",
       " -0.0374070443212986,\n",
       " 0.023545993492007256,\n",
       " -0.020279616117477417,\n",
       " 0.07132767885923386,\n",
       " 0.012504000216722488,\n",
       " 0.04017215967178345,\n",
       " 0.06425109505653381,\n",
       " 0.02309870347380638,\n",
       " 0.08317513763904572,\n",
       " 0.01888442598283291,\n",
       " -0.009255832992494106,\n",
       " 0.04267168417572975,\n",
       " 0.02985309436917305,\n",
       " 0.01682290807366371,\n",
       " -0.04126260057091713,\n",
       " -0.018092038109898567,\n",
       " 0.02213866077363491,\n",
       " 0.015321992337703705,\n",
       " -0.0141737200319767,\n",
       " -0.03357166424393654,\n",
       " -0.08847867697477341,\n",
       " -0.0015429076738655567,\n",
       " -0.03732164576649666,\n",
       " -0.03360675647854805,\n",
       " -0.00991113856434822,\n",
       " 0.017770295962691307,\n",
       " 0.08923953771591187,\n",
       " 0.047152597457170486,\n",
       " -0.010466782376170158,\n",
       " -0.027032556012272835,\n",
       " 0.009711332619190216,\n",
       " -0.00019442010670900345,\n",
       " 0.02270806021988392,\n",
       " 0.023567557334899902,\n",
       " -0.014015830121934414,\n",
       " 0.01316856499761343,\n",
       " 0.07011765986680984,\n",
       " -0.02548290230333805,\n",
       " -0.00163950864225626,\n",
       " -0.013279031962156296,\n",
       " -0.03187698498368263,\n",
       " -0.056803468614816666,\n",
       " 0.13971419632434845,\n",
       " -0.06106315180659294,\n",
       " -0.06013316288590431,\n",
       " 0.024166859686374664,\n",
       " 0.0009755098144523799,\n",
       " 0.007146789692342281,\n",
       " 0.0607471726834774,\n",
       " 0.05757427588105202,\n",
       " -0.01650024577975273,\n",
       " -0.0194097813218832,\n",
       " -0.001011028653010726,\n",
       " 0.05634878948330879,\n",
       " 0.01987946219742298,\n",
       " 0.022258076816797256,\n",
       " 0.0111126359552145,\n",
       " -0.033578768372535706,\n",
       " 0.019779067486524582,\n",
       " -0.030449386686086655,\n",
       " -0.04791584238409996,\n",
       " -0.06992065161466599,\n",
       " 0.022121073678135872,\n",
       " 0.006608817260712385,\n",
       " 0.030318163335323334,\n",
       " -0.047965142875909805,\n",
       " -0.02107902057468891,\n",
       " 0.052890777587890625,\n",
       " 0.06996382027864456,\n",
       " -0.008528703823685646,\n",
       " 0.08767303824424744,\n",
       " 0.025704121217131615,\n",
       " -0.0009255668264813721,\n",
       " -0.0013362863101065159,\n",
       " -0.06304703652858734,\n",
       " -0.024764368310570717,\n",
       " -0.057449597865343094,\n",
       " 0.01685253344476223,\n",
       " 0.011496072635054588,\n",
       " 0.043911583721637726,\n",
       " 0.059754397720098495,\n",
       " -0.04322003573179245,\n",
       " 0.008684747852385044,\n",
       " 0.037993013858795166,\n",
       " 0.03769340738654137,\n",
       " -0.01489013060927391,\n",
       " -0.01293537113815546,\n",
       " 0.05869043245911598,\n",
       " 0.04149943217635155,\n",
       " -0.047983720898628235,\n",
       " 0.02163364738225937,\n",
       " -0.030633961781859398,\n",
       " -0.00015547619841527194,\n",
       " 0.03157587721943855,\n",
       " 0.06369802355766296,\n",
       " 0.046533141285181046,\n",
       " 0.007601835299283266,\n",
       " 0.02364823967218399,\n",
       " 0.03002040646970272,\n",
       " 0.027907395735383034,\n",
       " 0.0033755225595086813,\n",
       " -0.037360187619924545,\n",
       " -0.29224109649658203,\n",
       " 0.02535475604236126,\n",
       " -0.05092982202768326,\n",
       " -0.009392665699124336,\n",
       " 0.0288589708507061,\n",
       " 0.004746525082737207,\n",
       " 0.012338797561824322,\n",
       " -0.03588997572660446,\n",
       " 0.010421711951494217,\n",
       " 0.01169551257044077,\n",
       " 0.02407345175743103,\n",
       " 0.03452279791235924,\n",
       " -0.0430259183049202,\n",
       " 0.06620408594608307,\n",
       " -0.05817769467830658,\n",
       " 0.00669887475669384,\n",
       " 0.06799009442329407,\n",
       " -0.0370948351919651,\n",
       " 0.0020455007907003164,\n",
       " -0.04989779368042946,\n",
       " -0.05501791089773178,\n",
       " 0.002633927622810006,\n",
       " 0.03143865987658501,\n",
       " -0.04525135084986687,\n",
       " 0.04914470389485359,\n",
       " 0.04602016881108284,\n",
       " 0.13289692997932434,\n",
       " 0.06473983824253082,\n",
       " -0.05348079279065132,\n",
       " 0.009081033989787102,\n",
       " -0.0007585083949379623,\n",
       " -0.009485933929681778,\n",
       " -0.035481322556734085,\n",
       " -0.16011109948158264,\n",
       " 0.014149747788906097,\n",
       " -0.014517601579427719,\n",
       " -0.012156064622104168,\n",
       " 0.04861031845211983,\n",
       " -0.02769905887544155,\n",
       " 0.011690805666148663,\n",
       " 0.1220298781991005,\n",
       " 0.016168704256415367,\n",
       " -0.011303282342851162,\n",
       " 0.008742793463170528,\n",
       " -0.006969870533794165,\n",
       " 0.010415668599307537,\n",
       " 0.006456007715314627,\n",
       " 0.00926003698259592,\n",
       " -0.030904417857527733,\n",
       " 0.007019472308456898,\n",
       " -0.07024326175451279,\n",
       " -0.03982095047831535,\n",
       " -0.05148688703775406,\n",
       " 0.04249412566423416,\n",
       " -0.005672655999660492,\n",
       " 0.07474929839372635,\n",
       " -0.05204704403877258,\n",
       " 0.003075693966820836,\n",
       " -0.0314645990729332,\n",
       " 0.0193609781563282,\n",
       " -0.020436977967619896,\n",
       " 0.0328059196472168,\n",
       " -0.015873422846198082,\n",
       " -0.049504052847623825,\n",
       " 0.04125421494245529,\n",
       " 0.036627836525440216,\n",
       " -0.028783416375517845,\n",
       " -0.0001904743112390861,\n",
       " -0.014882798306643963,\n",
       " 0.011739102192223072,\n",
       " -0.005307892337441444,\n",
       " 0.022450048476457596,\n",
       " 0.02022561803460121,\n",
       " -0.12261215597391129,\n",
       " 0.02936568483710289,\n",
       " 0.030905505642294884,\n",
       " 0.015213005244731903,\n",
       " -0.013146454468369484,\n",
       " -0.03171814605593681,\n",
       " 0.0458749383687973,\n",
       " 0.05083363503217697,\n",
       " 0.03554992377758026,\n",
       " 0.021132150664925575,\n",
       " -0.02289845049381256,\n",
       " 0.008195552974939346,\n",
       " -0.037952620536088943,\n",
       " 0.015871061012148857,\n",
       " -0.033534254878759384,\n",
       " 0.03289996087551117,\n",
       " 0.01918799802660942,\n",
       " -0.01052255928516388,\n",
       " -0.0016777577111497521,\n",
       " -0.08926858752965927,\n",
       " -0.0007906314567662776,\n",
       " -0.04024810343980789,\n",
       " 0.023053331300616264,\n",
       " -0.28908029198646545,\n",
       " -0.018777970224618912,\n",
       " -0.06244724243879318,\n",
       " 0.0076309372670948505,\n",
       " -0.01947232522070408,\n",
       " 0.02467983216047287,\n",
       " -0.00709652341902256,\n",
       " -0.027198608964681625,\n",
       " -0.030451975762844086,\n",
       " -0.07633884251117706,\n",
       " 0.034248825162649155,\n",
       " 0.01478884369134903,\n",
       " -0.009785761125385761,\n",
       " -0.009929717518389225,\n",
       " -0.031549450010061264,\n",
       " -0.008042609319090843,\n",
       " -0.005925715900957584,\n",
       " 0.0336187407374382,\n",
       " 0.042211879044771194,\n",
       " -0.02564196288585663,\n",
       " -0.004673795774579048,\n",
       " 0.054141245782375336,\n",
       " 0.0963771715760231,\n",
       " -0.06556808948516846,\n",
       " -0.012762843631207943,\n",
       " -0.05267497897148132,\n",
       " -0.04584380239248276,\n",
       " 0.009543146938085556,\n",
       " -0.05174192413687706,\n",
       " -0.039083730429410934,\n",
       " -0.013985022902488708,\n",
       " -0.024493228644132614,\n",
       " 0.018403703346848488,\n",
       " 0.00345361209474504,\n",
       " -0.0433015339076519,\n",
       " 0.07320623844861984,\n",
       " -0.04330404847860336,\n",
       " 0.008313487283885479,\n",
       " 0.04778742790222168,\n",
       " -0.049053389579057693,\n",
       " -0.05745510384440422,\n",
       " -0.01095525361597538,\n",
       " -0.021495811641216278,\n",
       " 0.015701213851571083,\n",
       " 0.015392067842185497,\n",
       " 0.027396829798817635,\n",
       " -0.06076880544424057,\n",
       " 0.004991673398762941,\n",
       " 0.014405757188796997,\n",
       " 0.021728212013840675,\n",
       " -0.011439402587711811,\n",
       " 0.009178496897220612,\n",
       " 0.012211235240101814,\n",
       " 0.04098925366997719,\n",
       " -0.001735954312607646,\n",
       " -0.022738520056009293,\n",
       " 0.018698640167713165,\n",
       " 0.03498996049165726,\n",
       " -0.012491082772612572,\n",
       " -0.025923294946551323,\n",
       " -0.039889801293611526,\n",
       " -0.05544019490480423,\n",
       " 0.03989429771900177,\n",
       " -0.0015886361943557858,\n",
       " 0.01774217002093792]"
      ]
     },
     "execution_count": 14,
     "metadata": {},
     "output_type": "execute_result"
    }
   ],
   "source": [
    "query_embedding = model.embed_query(query)\n",
    "query_embedding"
   ]
  },
  {
   "cell_type": "markdown",
   "metadata": {},
   "source": [
    "### Run the query"
   ]
  },
  {
   "cell_type": "code",
   "execution_count": 15,
   "metadata": {},
   "outputs": [
    {
     "name": "stdout",
     "output_type": "stream",
     "text": [
      "Result 1:\n",
      "  Document: BOCYL-D-10022025-2\n",
      "  Chunk: 11\n",
      "  Similarity Score: 0.4825\n",
      "  Text: ades y respecto de la solicitud de expedición del certificado de competencia, se apuesta por su tramitación electrónica a través de entidades de formación.\n",
      "\n",
      "Igualmente se ajusta al principio de seguridad jurídica puesto que este proyecto se adecúa a la normativa europea, estatal y autonómica en esta materia. Con relación al principio de coherencia, la orden es compatible con el resto de las actuaciones y objetivos de las políticas públicas en materia de formación en materia de bienestar animal y bioseguridad, higiene y sanidad animal de los animales de producción.\n",
      "\n",
      "Asimismo, se cumple con el principio de eficiencia puesto que la norma impone las obligaciones indispensables a los destinatarios, con las mínimas cargas posibles, y en todo caso las obligaciones que se establecen para las entidades y el alumnado resultan justificadas de acuerdo con las funciones perseguidas. Con respecto al gasto público, el proyecto de orden que se propone no implica un aumento del gasto público.\n",
      "\n",
      "Respecto...\n",
      "\n",
      "Result 2:\n",
      "  Document: BOCYL-D-10022025-2\n",
      "  Chunk: 12\n",
      "  Similarity Score: 0.4756\n",
      "  Text:  a la aplicación del principio de transparencia, esta orden se ha sometido a los trámites de consulta pública previa y participación ciudadana, así como a los trámites de información pública y audiencia a las organizaciones profesionales agrarias y a aquellas entidades que pudieran verse afectadas por esta nueva orden.\n",
      "\n",
      "La norma es acorde al principio de proporcionalidad, al contener la regulación imprescindible para concretar los contenidos mínimos y la duración de los programas formativos de los cursos en materia de bienestar animal, bioseguridad, higiene y sanidad animal de los animales de producción y en cuanto a la regulación de los procedimientos, se apuesta por el sistema de declaración responsable para la impartición de estos cursos por las entidades de formación y por la simple comunicación para el inicio de las distintas ediciones de los cursos y en cuanto a la obtención y expedición de los certificados de competencia de los cursos, se simplifican cargas.\n",
      "\n",
      "La norma cumple con...\n",
      "\n",
      "Result 3:\n",
      "  Document: BOCYL-D-10022025-11\n",
      "  Chunk: 6\n",
      "  Similarity Score: 0.4740\n",
      "  Text: \n",
      "\n",
      "Quinto.  Las alegaciones formuladas contra la presente resolución serán estimadas o rechazadas en la resolución por la que se aprueben las relaciones definitivas de candidatos admitidos y, en su caso, de candidatos excluidos, que igualmente se publicará en el Boletín Oficial de Castilla y León....\n",
      "\n"
     ]
    }
   ],
   "source": [
    "# Run the query - include_distances=True is key for getting scores\n",
    "search_results = collection.query(\n",
    "    query_embeddings=[query_embedding],\n",
    "    n_results=3,\n",
    ")\n",
    "\n",
    "# Display results with scores\n",
    "for i, (id, document, metadata, distance) in enumerate(zip(\n",
    "        search_results[\"ids\"][0],\n",
    "        search_results[\"documents\"][0],\n",
    "        search_results[\"metadatas\"][0],\n",
    "        search_results[\"distances\"][0]  # This contains the similarity scores\n",
    "    )):\n",
    "    # Convert distance to similarity score (closer to 1 is better)\n",
    "    # ChromaDB typically returns distances, where smaller is better\n",
    "    # For cosine similarity, you can convert: similarity = 1 - distance\n",
    "    similarity_score = 1 - distance  # For cosine distance\n",
    "    \n",
    "    print(f\"Result {i+1}:\")\n",
    "    print(f\"  Document: {metadata['doc_id']}\")\n",
    "    print(f\"  Chunk: {metadata['chunk_id']}\")\n",
    "    print(f\"  Similarity Score: {similarity_score:.4f}\")\n",
    "    print(f\"  Text: {document}...\")\n",
    "    print()"
   ]
  },
  {
   "cell_type": "markdown",
   "metadata": {},
   "source": [
    "## Refactor the code"
   ]
  },
  {
   "cell_type": "code",
   "execution_count": 16,
   "metadata": {},
   "outputs": [
    {
     "ename": "ValueError",
     "evalue": "An instance of Chroma already exists for /workspace/data/vectordb/chromadb with different settings",
     "output_type": "error",
     "traceback": [
      "\u001b[31m---------------------------------------------------------------------------\u001b[39m",
      "\u001b[31mValueError\u001b[39m                                Traceback (most recent call last)",
      "\u001b[36mCell\u001b[39m\u001b[36m \u001b[39m\u001b[32mIn[16]\u001b[39m\u001b[32m, line 2\u001b[39m\n\u001b[32m      1\u001b[39m \u001b[38;5;28;01mfrom\u001b[39;00m\u001b[38;5;250m \u001b[39m\u001b[34;01mmodules\u001b[39;00m\u001b[34;01m.\u001b[39;00m\u001b[34;01mvectordb\u001b[39;00m\u001b[34;01m.\u001b[39;00m\u001b[34;01mbocyl\u001b[39;00m\u001b[38;5;250m \u001b[39m\u001b[38;5;28;01mimport\u001b[39;00m BOCYLVectorDB\n\u001b[32m----> \u001b[39m\u001b[32m2\u001b[39m vectordb = \u001b[43mBOCYLVectorDB\u001b[49m\u001b[43m(\u001b[49m\u001b[43m)\u001b[49m\n",
      "\u001b[36mFile \u001b[39m\u001b[32m/workspace/modules/vectordb/bocyl.py:73\u001b[39m, in \u001b[36mBOCYLVectorDB.__init__\u001b[39m\u001b[34m(self, db_path, model_name, embedding_function, persist_directory, max_section_length)\u001b[39m\n\u001b[32m     70\u001b[39m \u001b[38;5;28;01mif\u001b[39;00m db_path \u001b[38;5;129;01mis\u001b[39;00m \u001b[38;5;28;01mNone\u001b[39;00m:\n\u001b[32m     71\u001b[39m     db_path = Path(\u001b[33m\"\u001b[39m\u001b[33m/workspace/data/vectordb/chromadb\u001b[39m\u001b[33m\"\u001b[39m)\n\u001b[32m---> \u001b[39m\u001b[32m73\u001b[39m \u001b[38;5;28;43msuper\u001b[39;49m\u001b[43m(\u001b[49m\u001b[43m)\u001b[49m\u001b[43m.\u001b[49m\u001b[34;43m__init__\u001b[39;49m\u001b[43m(\u001b[49m\n\u001b[32m     74\u001b[39m \u001b[43m    \u001b[49m\u001b[43mdb_path\u001b[49m\u001b[43m=\u001b[49m\u001b[43mdb_path\u001b[49m\u001b[43m,\u001b[49m\n\u001b[32m     75\u001b[39m \u001b[43m    \u001b[49m\u001b[43mcollection_name\u001b[49m\u001b[43m=\u001b[49m\u001b[33;43m\"\u001b[39;49m\u001b[33;43mbocyl\u001b[39;49m\u001b[33;43m\"\u001b[39;49m\u001b[43m,\u001b[49m\n\u001b[32m     76\u001b[39m \u001b[43m    \u001b[49m\u001b[43mmodel_name\u001b[49m\u001b[43m=\u001b[49m\u001b[43mmodel_name\u001b[49m\u001b[43m,\u001b[49m\n\u001b[32m     77\u001b[39m \u001b[43m    \u001b[49m\u001b[43membedding_function\u001b[49m\u001b[43m=\u001b[49m\u001b[43membedding_function\u001b[49m\u001b[43m,\u001b[49m\n\u001b[32m     78\u001b[39m \u001b[43m    \u001b[49m\u001b[43mpersist_directory\u001b[49m\u001b[43m=\u001b[49m\u001b[43mpersist_directory\u001b[49m\u001b[43m,\u001b[49m\n\u001b[32m     79\u001b[39m \u001b[43m\u001b[49m\u001b[43m)\u001b[49m\n\u001b[32m     80\u001b[39m \u001b[38;5;28mself\u001b[39m.max_section_length = max_section_length\n",
      "\u001b[36mFile \u001b[39m\u001b[32m/workspace/modules/vectordb/__init__.py:50\u001b[39m, in \u001b[36mBaseVectorDB.__init__\u001b[39m\u001b[34m(self, db_path, collection_name, model_name, embedding_function, persist_directory)\u001b[39m\n\u001b[32m     44\u001b[39m     \u001b[38;5;28mself\u001b[39m.embedding_function = HuggingFaceEmbeddings(\n\u001b[32m     45\u001b[39m         model_name=model_name,\n\u001b[32m     46\u001b[39m         model_kwargs={\u001b[33m\"\u001b[39m\u001b[33mdevice\u001b[39m\u001b[33m\"\u001b[39m: \u001b[33m\"\u001b[39m\u001b[33mcuda\u001b[39m\u001b[33m\"\u001b[39m \u001b[38;5;28;01mif\u001b[39;00m torch.cuda.is_available() \u001b[38;5;28;01melse\u001b[39;00m \u001b[33m\"\u001b[39m\u001b[33mcpu\u001b[39m\u001b[33m\"\u001b[39m},\n\u001b[32m     47\u001b[39m     )\n\u001b[32m     49\u001b[39m \u001b[38;5;66;03m# Initialize vector store\u001b[39;00m\n\u001b[32m---> \u001b[39m\u001b[32m50\u001b[39m \u001b[38;5;28mself\u001b[39m.vectorstore = \u001b[38;5;28;43mself\u001b[39;49m\u001b[43m.\u001b[49m\u001b[43m_initialize_vectorstore\u001b[49m\u001b[43m(\u001b[49m\u001b[43m)\u001b[49m\n\u001b[32m     52\u001b[39m \u001b[38;5;66;03m# Initialize retriever with default settings\u001b[39;00m\n\u001b[32m     53\u001b[39m \u001b[38;5;28mself\u001b[39m._setup_retriever()\n",
      "\u001b[36mFile \u001b[39m\u001b[32m/workspace/modules/vectordb/__init__.py:92\u001b[39m, in \u001b[36mBaseVectorDB._initialize_vectorstore\u001b[39m\u001b[34m(self)\u001b[39m\n\u001b[32m     85\u001b[39m \u001b[38;5;28;01mif\u001b[39;00m \u001b[38;5;28mself\u001b[39m.persist_directory:\n\u001b[32m     86\u001b[39m     \u001b[38;5;66;03m# Persistent mode\u001b[39;00m\n\u001b[32m     87\u001b[39m     settings = Settings(\n\u001b[32m     88\u001b[39m         persist_directory=\u001b[38;5;28mstr\u001b[39m(\u001b[38;5;28mself\u001b[39m.db_path),\n\u001b[32m     89\u001b[39m         is_persistent=\u001b[38;5;28;01mTrue\u001b[39;00m,\n\u001b[32m     90\u001b[39m         anonymized_telemetry=\u001b[38;5;28;01mFalse\u001b[39;00m,\n\u001b[32m     91\u001b[39m     )\n\u001b[32m---> \u001b[39m\u001b[32m92\u001b[39m     client = \u001b[43mchromadb\u001b[49m\u001b[43m.\u001b[49m\u001b[43mPersistentClient\u001b[49m\u001b[43m(\u001b[49m\n\u001b[32m     93\u001b[39m \u001b[43m        \u001b[49m\u001b[43mpath\u001b[49m\u001b[43m=\u001b[49m\u001b[38;5;28;43mstr\u001b[39;49m\u001b[43m(\u001b[49m\u001b[38;5;28;43mself\u001b[39;49m\u001b[43m.\u001b[49m\u001b[43mdb_path\u001b[49m\u001b[43m)\u001b[49m\u001b[43m,\u001b[49m\u001b[43m \u001b[49m\u001b[43msettings\u001b[49m\u001b[43m=\u001b[49m\u001b[43msettings\u001b[49m\n\u001b[32m     94\u001b[39m \u001b[43m    \u001b[49m\u001b[43m)\u001b[49m\n\u001b[32m     95\u001b[39m \u001b[38;5;28;01melse\u001b[39;00m:\n\u001b[32m     96\u001b[39m     \u001b[38;5;66;03m# In-memory mode\u001b[39;00m\n\u001b[32m     97\u001b[39m     client = chromadb.Client(Settings(anonymized_telemetry=\u001b[38;5;28;01mFalse\u001b[39;00m))\n",
      "\u001b[36mFile \u001b[39m\u001b[32m/opt/conda/lib/python3.12/site-packages/chromadb/__init__.py:152\u001b[39m, in \u001b[36mPersistentClient\u001b[39m\u001b[34m(path, settings, tenant, database)\u001b[39m\n\u001b[32m    149\u001b[39m tenant = \u001b[38;5;28mstr\u001b[39m(tenant)\n\u001b[32m    150\u001b[39m database = \u001b[38;5;28mstr\u001b[39m(database)\n\u001b[32m--> \u001b[39m\u001b[32m152\u001b[39m \u001b[38;5;28;01mreturn\u001b[39;00m \u001b[43mClientCreator\u001b[49m\u001b[43m(\u001b[49m\u001b[43mtenant\u001b[49m\u001b[43m=\u001b[49m\u001b[43mtenant\u001b[49m\u001b[43m,\u001b[49m\u001b[43m \u001b[49m\u001b[43mdatabase\u001b[49m\u001b[43m=\u001b[49m\u001b[43mdatabase\u001b[49m\u001b[43m,\u001b[49m\u001b[43m \u001b[49m\u001b[43msettings\u001b[49m\u001b[43m=\u001b[49m\u001b[43msettings\u001b[49m\u001b[43m)\u001b[49m\n",
      "\u001b[36mFile \u001b[39m\u001b[32m/opt/conda/lib/python3.12/site-packages/chromadb/api/client.py:58\u001b[39m, in \u001b[36mClient.__init__\u001b[39m\u001b[34m(self, tenant, database, settings)\u001b[39m\n\u001b[32m     52\u001b[39m \u001b[38;5;28;01mdef\u001b[39;00m\u001b[38;5;250m \u001b[39m\u001b[34m__init__\u001b[39m(\n\u001b[32m     53\u001b[39m     \u001b[38;5;28mself\u001b[39m,\n\u001b[32m     54\u001b[39m     tenant: \u001b[38;5;28mstr\u001b[39m = DEFAULT_TENANT,\n\u001b[32m     55\u001b[39m     database: \u001b[38;5;28mstr\u001b[39m = DEFAULT_DATABASE,\n\u001b[32m     56\u001b[39m     settings: Settings = Settings(),\n\u001b[32m     57\u001b[39m ) -> \u001b[38;5;28;01mNone\u001b[39;00m:\n\u001b[32m---> \u001b[39m\u001b[32m58\u001b[39m     \u001b[38;5;28;43msuper\u001b[39;49m\u001b[43m(\u001b[49m\u001b[43m)\u001b[49m\u001b[43m.\u001b[49m\u001b[34;43m__init__\u001b[39;49m\u001b[43m(\u001b[49m\u001b[43msettings\u001b[49m\u001b[43m=\u001b[49m\u001b[43msettings\u001b[49m\u001b[43m)\u001b[49m\n\u001b[32m     59\u001b[39m     \u001b[38;5;28mself\u001b[39m.tenant = tenant\n\u001b[32m     60\u001b[39m     \u001b[38;5;28mself\u001b[39m.database = database\n",
      "\u001b[36mFile \u001b[39m\u001b[32m/opt/conda/lib/python3.12/site-packages/chromadb/api/shared_system_client.py:19\u001b[39m, in \u001b[36mSharedSystemClient.__init__\u001b[39m\u001b[34m(self, settings)\u001b[39m\n\u001b[32m     14\u001b[39m \u001b[38;5;28;01mdef\u001b[39;00m\u001b[38;5;250m \u001b[39m\u001b[34m__init__\u001b[39m(\n\u001b[32m     15\u001b[39m     \u001b[38;5;28mself\u001b[39m,\n\u001b[32m     16\u001b[39m     settings: Settings = Settings(),\n\u001b[32m     17\u001b[39m ) -> \u001b[38;5;28;01mNone\u001b[39;00m:\n\u001b[32m     18\u001b[39m     \u001b[38;5;28mself\u001b[39m._identifier = SharedSystemClient._get_identifier_from_settings(settings)\n\u001b[32m---> \u001b[39m\u001b[32m19\u001b[39m     \u001b[43mSharedSystemClient\u001b[49m\u001b[43m.\u001b[49m\u001b[43m_create_system_if_not_exists\u001b[49m\u001b[43m(\u001b[49m\u001b[38;5;28;43mself\u001b[39;49m\u001b[43m.\u001b[49m\u001b[43m_identifier\u001b[49m\u001b[43m,\u001b[49m\u001b[43m \u001b[49m\u001b[43msettings\u001b[49m\u001b[43m)\u001b[49m\n",
      "\u001b[36mFile \u001b[39m\u001b[32m/opt/conda/lib/python3.12/site-packages/chromadb/api/shared_system_client.py:38\u001b[39m, in \u001b[36mSharedSystemClient._create_system_if_not_exists\u001b[39m\u001b[34m(cls, identifier, settings)\u001b[39m\n\u001b[32m     36\u001b[39m     \u001b[38;5;66;03m# For now, the settings must match\u001b[39;00m\n\u001b[32m     37\u001b[39m     \u001b[38;5;28;01mif\u001b[39;00m previous_system.settings != settings:\n\u001b[32m---> \u001b[39m\u001b[32m38\u001b[39m         \u001b[38;5;28;01mraise\u001b[39;00m \u001b[38;5;167;01mValueError\u001b[39;00m(\n\u001b[32m     39\u001b[39m             \u001b[33mf\u001b[39m\u001b[33m\"\u001b[39m\u001b[33mAn instance of Chroma already exists for \u001b[39m\u001b[38;5;132;01m{\u001b[39;00midentifier\u001b[38;5;132;01m}\u001b[39;00m\u001b[33m with different settings\u001b[39m\u001b[33m\"\u001b[39m\n\u001b[32m     40\u001b[39m         )\n\u001b[32m     42\u001b[39m \u001b[38;5;28;01mreturn\u001b[39;00m \u001b[38;5;28mcls\u001b[39m._identifier_to_system[identifier]\n",
      "\u001b[31mValueError\u001b[39m: An instance of Chroma already exists for /workspace/data/vectordb/chromadb with different settings"
     ]
    }
   ],
   "source": [
    "from modules.vectordb.bocyl import BOCYLVectorDB\n",
    "vectordb = BOCYLVectorDB()"
   ]
  },
  {
   "cell_type": "markdown",
   "metadata": {},
   "source": [
    "## Multiple queries"
   ]
  },
  {
   "cell_type": "code",
   "execution_count": null,
   "metadata": {},
   "outputs": [
    {
     "ename": "TypeError",
     "evalue": "VectorStore.similarity_search_with_relevance_scores() missing 1 required positional argument: 'query'",
     "output_type": "error",
     "traceback": [
      "\u001b[31m---------------------------------------------------------------------------\u001b[39m",
      "\u001b[31mTypeError\u001b[39m                                 Traceback (most recent call last)",
      "\u001b[36mCell\u001b[39m\u001b[36m \u001b[39m\u001b[32mIn[4]\u001b[39m\u001b[32m, line 1\u001b[39m\n\u001b[32m----> \u001b[39m\u001b[32m1\u001b[39m result1 = \u001b[43mvectordb\u001b[49m\u001b[43m.\u001b[49m\u001b[43mquery\u001b[49m\u001b[43m(\u001b[49m\n\u001b[32m      2\u001b[39m \u001b[43m    \u001b[49m\u001b[33;43m\"\u001b[39;49m\u001b[33;43m¿Qué medidas de condicionalidad reforzada se mencionan en la normativa agraria?\u001b[39;49m\u001b[33;43m\"\u001b[39;49m\u001b[43m,\u001b[49m\n\u001b[32m      3\u001b[39m \u001b[43m    \u001b[49m\u001b[43mn_results\u001b[49m\u001b[43m=\u001b[49m\u001b[32;43m3\u001b[39;49m\n\u001b[32m      4\u001b[39m \u001b[43m)\u001b[49m\n",
      "\u001b[36mFile \u001b[39m\u001b[32m/workspace/modules/vectordb/__init__.py:179\u001b[39m, in \u001b[36mBaseVectorDB.query\u001b[39m\u001b[34m(self, query_text, n_results, metadata_filter)\u001b[39m\n\u001b[32m    176\u001b[39m     query_params[\u001b[33m\"\u001b[39m\u001b[33mwhere\u001b[39m\u001b[33m\"\u001b[39m] = metadata_filter\n\u001b[32m    178\u001b[39m \u001b[38;5;66;03m# Run the query\u001b[39;00m\n\u001b[32m--> \u001b[39m\u001b[32m179\u001b[39m search_results = \u001b[38;5;28;43mself\u001b[39;49m\u001b[43m.\u001b[49m\u001b[43mvectorstore\u001b[49m\u001b[43m.\u001b[49m\u001b[43msimilarity_search_with_relevance_scores\u001b[49m\u001b[43m(\u001b[49m\n\u001b[32m    180\u001b[39m \u001b[43m    \u001b[49m\u001b[43m*\u001b[49m\u001b[43m*\u001b[49m\u001b[43mquery_params\u001b[49m\n\u001b[32m    181\u001b[39m \u001b[43m\u001b[49m\u001b[43m)\u001b[49m\n\u001b[32m    183\u001b[39m \u001b[38;5;66;03m# Format results\u001b[39;00m\n\u001b[32m    184\u001b[39m formatted_results = []\n",
      "\u001b[31mTypeError\u001b[39m: VectorStore.similarity_search_with_relevance_scores() missing 1 required positional argument: 'query'"
     ]
    }
   ],
   "source": [
    "result1 = vectordb.query(\n",
    "    \"¿Qué medidas de condicionalidad reforzada se mencionan en la normativa agraria?\",\n",
    "    n_results=3\n",
    ")"
   ]
  },
  {
   "cell_type": "code",
   "execution_count": null,
   "metadata": {},
   "outputs": [
    {
     "data": {
      "text/plain": [
       "{'query': '¿Qué medidas de condicionalidad reforzada se mencionan en la normativa agraria?',\n",
       " 'results': [{'document_id': 'BOCYL-D-02012024-12',\n",
       "   'chunk_id': 4,\n",
       "   'metadata': {'title': 'ORDEN AGR/1488/2023, de 22 de diciembre, por la que se determinan en Castilla y León las obligaciones de la condicionalidad reforzada y el procedimiento para las penalizaciones por incumplimiento de la condicionalidad social, que han de cumplir las personas beneficiarias de ayudas de la Política Agraria Común que perciban pagos directos y determinados pagos anuales por superficies y animales para el desarrollo rural, en el marco del Plan Estratégico Nacional de la PAC 2023-2027 de España.',\n",
       "    'date': '2024-01-02',\n",
       "    'type': 'official_document',\n",
       "    'chunk_id': 4,\n",
       "    'chunk_total': 104,\n",
       "    'source': 'BOCYL',\n",
       "    'doc_id': 'BOCYL-D-02012024-12',\n",
       "    'doc_number': 12},\n",
       "   'text': 'as competentes por razón de las materias relacionadas con la condicionalidad reforzada, que dispongan de datos e información relacionados con las obligaciones de la condicionalidad reforzada, proporcionarán los mismos a la Consejería competente en materia agraria, tal y como establece el artículo 5 del citado decreto.\\n\\nLa orden se estructura en 7 artículos, una disposición derogatoria, y dos disposiciones finales, una de habilitación de ejecución y otra de entrada en vigor. y tiene por objeto establecer los regímenes de ayuda a los que es aplicable la condicionalidad reforzada y social en el ámbito de la Comunidad de Castilla y León, complementar los requisitos legales de gestión (RLG) y las buenas condiciones agrarias y medioambientales (BCAM), de la condicionalidad reforzada, prever el «Plan de controles administrativos y sobre el terreno para la comprobación de los requisitos de la condicionalidad reforzada y el cálculo de las penalizaciones» y establecer la aplicación de las penali',\n",
       "   'similarity': 0.6450930237770081},\n",
       "  {'document_id': 'BOCYL-D-02012024-12',\n",
       "   'chunk_id': 10,\n",
       "   'metadata': {'doc_id': 'BOCYL-D-02012024-12',\n",
       "    'type': 'official_document',\n",
       "    'chunk_id': 10,\n",
       "    'title': 'ORDEN AGR/1488/2023, de 22 de diciembre, por la que se determinan en Castilla y León las obligaciones de la condicionalidad reforzada y el procedimiento para las penalizaciones por incumplimiento de la condicionalidad social, que han de cumplir las personas beneficiarias de ayudas de la Política Agraria Común que perciban pagos directos y determinados pagos anuales por superficies y animales para el desarrollo rural, en el marco del Plan Estratégico Nacional de la PAC 2023-2027 de España.',\n",
       "    'chunk_total': 104,\n",
       "    'date': '2024-01-02',\n",
       "    'doc_number': 12,\n",
       "    'source': 'BOCYL'},\n",
       "   'text': 'to de aplicación.\\n\\nEsta norma será de aplicación a todas las personas beneficiarias de los regímenes de ayudas recogidos en el ANEXO I de la presente orden y que son gestionados por la Administración de la Comunidad de Castilla y León.\\n\\n## Artículo 3. Ámbitos de control de la condicionalidad reforzada.\\n\\nDe conformidad con el Real Decreto 1049/2022, de 27 de diciembre, por el que se establecen las normas para la aplicación de la condicionalidad reforzada y de la condicionalidad social que deben cumplir las personas beneficiarias de las ayudas en el marco de la Política Agrícola Común que reciban pagos directos, determinados pagos anuales de desarrollo rural y del Programa de Opciones Específicas por la Lejanía y la Insularidad (POSEI), las obligaciones en materia de condicionalidad reforzada estarán comprendidas en los siguientes ámbitos de control, que se relacionan en el ANEXO II\\n\\na) Clima y medio ambiente.\\n\\nb) La salud pública y la fitosanidad.\\n\\nc) El bienestar animal.\\n\\n## Artículo 4',\n",
       "   'similarity': 0.6417289674282074},\n",
       "  {'document_id': 'BOCYL-D-02012024-12',\n",
       "   'chunk_id': 11,\n",
       "   'metadata': {'doc_number': 12,\n",
       "    'type': 'official_document',\n",
       "    'chunk_total': 104,\n",
       "    'doc_id': 'BOCYL-D-02012024-12',\n",
       "    'title': 'ORDEN AGR/1488/2023, de 22 de diciembre, por la que se determinan en Castilla y León las obligaciones de la condicionalidad reforzada y el procedimiento para las penalizaciones por incumplimiento de la condicionalidad social, que han de cumplir las personas beneficiarias de ayudas de la Política Agraria Común que perciban pagos directos y determinados pagos anuales por superficies y animales para el desarrollo rural, en el marco del Plan Estratégico Nacional de la PAC 2023-2027 de España.',\n",
       "    'date': '2024-01-02',\n",
       "    'chunk_id': 11,\n",
       "    'source': 'BOCYL'},\n",
       "   'text': '. Relación de requisitos legales de gestión y de las buenas condiciones agrarias y medioambientales de la condicionalidad reforzada.\\n\\nLas personas beneficiarias a las que se refiere el artículo 1 deberán respetar en su explotación agraria los requisitos legales de gestión (RLG) y las buenas condiciones agrarias y medioambientales (BCAM) que para cada ámbito figuran en el ANEXO II de la orden.\\n\\n## Artículo 5. Controles de la condicionalidad reforzada.\\n\\nLa Consejería de Agricultura, Ganadería y Desarrollo Rural, designada como órgano de control especializado en el cumplimiento de las obligaciones de la condicionalidad reforzada, por el artículo 1 del Decreto 15/2023, de 7 de septiembre, sobre la condicionalidad reforzada y la condicionalidad social de acuerdo con el Plan Estratégico Nacional de la Política Agrícola Común (PAC) del Reino de España 2023-2027, establecerá el «Plan de controles administrativos y sobre el terreno para la comprobación de los requisitos de la condicionalidad re',\n",
       "   'similarity': 0.5543751120567322}],\n",
       " 'raw_results': {'ids': [['BOCYL-D-02012024-12_4',\n",
       "    'BOCYL-D-02012024-12_10',\n",
       "    'BOCYL-D-02012024-12_11']],\n",
       "  'embeddings': None,\n",
       "  'documents': [['as competentes por razón de las materias relacionadas con la condicionalidad reforzada, que dispongan de datos e información relacionados con las obligaciones de la condicionalidad reforzada, proporcionarán los mismos a la Consejería competente en materia agraria, tal y como establece el artículo 5 del citado decreto.\\n\\nLa orden se estructura en 7 artículos, una disposición derogatoria, y dos disposiciones finales, una de habilitación de ejecución y otra de entrada en vigor. y tiene por objeto establecer los regímenes de ayuda a los que es aplicable la condicionalidad reforzada y social en el ámbito de la Comunidad de Castilla y León, complementar los requisitos legales de gestión (RLG) y las buenas condiciones agrarias y medioambientales (BCAM), de la condicionalidad reforzada, prever el «Plan de controles administrativos y sobre el terreno para la comprobación de los requisitos de la condicionalidad reforzada y el cálculo de las penalizaciones» y establecer la aplicación de las penali',\n",
       "    'to de aplicación.\\n\\nEsta norma será de aplicación a todas las personas beneficiarias de los regímenes de ayudas recogidos en el ANEXO I de la presente orden y que son gestionados por la Administración de la Comunidad de Castilla y León.\\n\\n## Artículo 3. Ámbitos de control de la condicionalidad reforzada.\\n\\nDe conformidad con el Real Decreto 1049/2022, de 27 de diciembre, por el que se establecen las normas para la aplicación de la condicionalidad reforzada y de la condicionalidad social que deben cumplir las personas beneficiarias de las ayudas en el marco de la Política Agrícola Común que reciban pagos directos, determinados pagos anuales de desarrollo rural y del Programa de Opciones Específicas por la Lejanía y la Insularidad (POSEI), las obligaciones en materia de condicionalidad reforzada estarán comprendidas en los siguientes ámbitos de control, que se relacionan en el ANEXO II\\n\\na) Clima y medio ambiente.\\n\\nb) La salud pública y la fitosanidad.\\n\\nc) El bienestar animal.\\n\\n## Artículo 4',\n",
       "    '. Relación de requisitos legales de gestión y de las buenas condiciones agrarias y medioambientales de la condicionalidad reforzada.\\n\\nLas personas beneficiarias a las que se refiere el artículo 1 deberán respetar en su explotación agraria los requisitos legales de gestión (RLG) y las buenas condiciones agrarias y medioambientales (BCAM) que para cada ámbito figuran en el ANEXO II de la orden.\\n\\n## Artículo 5. Controles de la condicionalidad reforzada.\\n\\nLa Consejería de Agricultura, Ganadería y Desarrollo Rural, designada como órgano de control especializado en el cumplimiento de las obligaciones de la condicionalidad reforzada, por el artículo 1 del Decreto 15/2023, de 7 de septiembre, sobre la condicionalidad reforzada y la condicionalidad social de acuerdo con el Plan Estratégico Nacional de la Política Agrícola Común (PAC) del Reino de España 2023-2027, establecerá el «Plan de controles administrativos y sobre el terreno para la comprobación de los requisitos de la condicionalidad re']],\n",
       "  'uris': None,\n",
       "  'included': ['metadatas', 'documents', 'distances'],\n",
       "  'data': None,\n",
       "  'metadatas': [[{'title': 'ORDEN AGR/1488/2023, de 22 de diciembre, por la que se determinan en Castilla y León las obligaciones de la condicionalidad reforzada y el procedimiento para las penalizaciones por incumplimiento de la condicionalidad social, que han de cumplir las personas beneficiarias de ayudas de la Política Agraria Común que perciban pagos directos y determinados pagos anuales por superficies y animales para el desarrollo rural, en el marco del Plan Estratégico Nacional de la PAC 2023-2027 de España.',\n",
       "     'date': '2024-01-02',\n",
       "     'type': 'official_document',\n",
       "     'chunk_id': 4,\n",
       "     'chunk_total': 104,\n",
       "     'source': 'BOCYL',\n",
       "     'doc_id': 'BOCYL-D-02012024-12',\n",
       "     'doc_number': 12},\n",
       "    {'doc_id': 'BOCYL-D-02012024-12',\n",
       "     'type': 'official_document',\n",
       "     'chunk_id': 10,\n",
       "     'title': 'ORDEN AGR/1488/2023, de 22 de diciembre, por la que se determinan en Castilla y León las obligaciones de la condicionalidad reforzada y el procedimiento para las penalizaciones por incumplimiento de la condicionalidad social, que han de cumplir las personas beneficiarias de ayudas de la Política Agraria Común que perciban pagos directos y determinados pagos anuales por superficies y animales para el desarrollo rural, en el marco del Plan Estratégico Nacional de la PAC 2023-2027 de España.',\n",
       "     'chunk_total': 104,\n",
       "     'date': '2024-01-02',\n",
       "     'doc_number': 12,\n",
       "     'source': 'BOCYL'},\n",
       "    {'doc_number': 12,\n",
       "     'type': 'official_document',\n",
       "     'chunk_total': 104,\n",
       "     'doc_id': 'BOCYL-D-02012024-12',\n",
       "     'title': 'ORDEN AGR/1488/2023, de 22 de diciembre, por la que se determinan en Castilla y León las obligaciones de la condicionalidad reforzada y el procedimiento para las penalizaciones por incumplimiento de la condicionalidad social, que han de cumplir las personas beneficiarias de ayudas de la Política Agraria Común que perciban pagos directos y determinados pagos anuales por superficies y animales para el desarrollo rural, en el marco del Plan Estratégico Nacional de la PAC 2023-2027 de España.',\n",
       "     'date': '2024-01-02',\n",
       "     'chunk_id': 11,\n",
       "     'source': 'BOCYL'}]],\n",
       "  'distances': [[0.35490697622299194,\n",
       "    0.3582710325717926,\n",
       "    0.4456248879432678]]}}"
      ]
     },
     "execution_count": 26,
     "metadata": {},
     "output_type": "execute_result"
    }
   ],
   "source": [
    "result1"
   ]
  },
  {
   "cell_type": "code",
   "execution_count": null,
   "metadata": {},
   "outputs": [
    {
     "name": "stdout",
     "output_type": "stream",
     "text": [
      "Result 1:\n",
      "  Document: BOCYL-D-18072023-10\n",
      "  Chunk: 119\n",
      "  Similarity Score: 0.5955\n",
      "  Text:  cuenta los plazos fijados respectivamente para el mantenimiento del empleo y para el mantenimiento de la inversión. Esta responsabilidad deberá ser a...\n",
      "\n",
      "Result 2:\n",
      "  Document: BOCYL-D-18072023-10\n",
      "  Chunk: 33\n",
      "  Similarity Score: 0.5909\n",
      "  Text: iterios de sostenibilidad establecidos en el artículo 29 de la Directiva (UE) 2018/2001 del Parlamento Europeo y del Consejo.\n",
      "\n",
      "Base cuarta.  Entidades...\n",
      "\n",
      "Result 3:\n",
      "  Document: BOCYL-D-18072023-10\n",
      "  Chunk: 75\n",
      "  Similarity Score: 0.5840\n",
      "  Text: haga constar la fecha y el órgano o dependencia en que fueron presentados o, en su caso, emitidos, y no hayan transcurrido más de cinco años desde la ...\n",
      "\n",
      "Result 4:\n",
      "  Document: BOCYL-D-02012024-12\n",
      "  Chunk: 2\n",
      "  Similarity Score: 0.5748\n",
      "  Text:  en relación con la ayuda a los planes estratégicos que deben elaborar los Estados miembros en el marco de la política agrícola común (PAC) financiada...\n",
      "\n",
      "Result 5:\n",
      "  Document: BOCYL-D-18072023-10\n",
      "  Chunk: 118\n",
      "  Similarity Score: 0.5715\n",
      "  Text: n y a la autoridad de gestión responsable en su momento oportuno.\n",
      "\n",
      "Si la entidad beneficiaria no realiza las medidas de información y publicidad señal...\n",
      "\n"
     ]
    }
   ],
   "source": [
    "result3 = querier.query(\n",
    "    \"Requisitos para beneficiarios de fondos FEAGA\",\n",
    "    n_results=5\n",
    ")"
   ]
  },
  {
   "cell_type": "markdown",
   "metadata": {},
   "source": [
    "## Refactor vectordb instance"
   ]
  },
  {
   "cell_type": "code",
   "execution_count": null,
   "metadata": {},
   "outputs": [],
   "source": [
    "from modules.vectordb import get_vectordb_bocyl"
   ]
  }
 ],
 "metadata": {
  "kernelspec": {
   "display_name": "conda",
   "language": "python",
   "name": "python3"
  },
  "language_info": {
   "codemirror_mode": {
    "name": "ipython",
    "version": 3
   },
   "file_extension": ".py",
   "mimetype": "text/x-python",
   "name": "python",
   "nbconvert_exporter": "python",
   "pygments_lexer": "ipython3",
   "version": "3.12.10"
  }
 },
 "nbformat": 4,
 "nbformat_minor": 2
}
