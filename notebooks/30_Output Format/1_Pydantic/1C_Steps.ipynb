{
 "cells": [
  {
   "attachments": {},
   "cell_type": "markdown",
   "metadata": {},
   "source": [
    "# Customize output format in prompt"
   ]
  },
  {
   "cell_type": "markdown",
   "metadata": {},
   "source": [
    "## User prompt configuration"
   ]
  },
  {
   "cell_type": "markdown",
   "metadata": {},
   "source": [
    "### [X] Create prompt template"
   ]
  },
  {
   "cell_type": "markdown",
   "metadata": {},
   "source": [
    "The prompt template is defined in the file:\n",
    "\n",
    "[/workspace/data/prompts/weather/template.md](/workspace/data/prompts/weather/template.md)\n",
    "\n",
    "And it will be loaded as follows:"
   ]
  },
  {
   "cell_type": "code",
   "execution_count": 10,
   "metadata": {},
   "outputs": [],
   "source": [
    "name_prompt = 'weather' #TODO: define your folder\n",
    "name_template = 'date_range' #TODO: define your folder"
   ]
  },
  {
   "cell_type": "code",
   "execution_count": 11,
   "metadata": {},
   "outputs": [
    {
     "data": {
      "text/plain": [
       "'Find the weather forecast for {LOCATION}, starting from {DATE_START} and ending on {DATE_END}.\\n\\nGive me the URL of the weather forecast.'"
      ]
     },
     "execution_count": 11,
     "metadata": {},
     "output_type": "execute_result"
    }
   ],
   "source": [
    "from pathlib import Path\n",
    "\n",
    "folder_template = f'{name_prompt}/{name_template}' \n",
    "folder = Path(f'/workspace/data/prompts/{folder_template}')\n",
    "\n",
    "path = folder / 'template.md'\n",
    "with open(path, 'r') as file:\n",
    "    template = file.read()\n",
    "\n",
    "template"
   ]
  },
  {
   "cell_type": "markdown",
   "metadata": {},
   "source": [
    "### [X] Define custom output format and import it"
   ]
  },
  {
   "cell_type": "markdown",
   "metadata": {},
   "source": [
    "[/workspace/data/prompts/weather/output_format.py](/workspace/data/prompts/weather/output_format.py)"
   ]
  },
  {
   "cell_type": "code",
   "execution_count": 12,
   "metadata": {},
   "outputs": [],
   "source": [
    "output_class_name = 'WeatherList' #TODO: define your class"
   ]
  },
  {
   "cell_type": "code",
   "execution_count": 13,
   "metadata": {},
   "outputs": [],
   "source": [
    "from importlib import import_module\n",
    "OutputParser = getattr(import_module(f'data.prompts.{name_prompt}.output_parser'), output_class_name)"
   ]
  },
  {
   "cell_type": "code",
   "execution_count": 14,
   "metadata": {},
   "outputs": [
    {
     "data": {
      "text/plain": [
       "data.prompts.weather.output_parser.WeatherList"
      ]
     },
     "execution_count": 14,
     "metadata": {},
     "output_type": "execute_result"
    }
   ],
   "source": [
    "OutputParser"
   ]
  },
  {
   "cell_type": "markdown",
   "metadata": {},
   "source": [
    "## Combine template and output format"
   ]
  },
  {
   "cell_type": "code",
   "execution_count": 15,
   "metadata": {},
   "outputs": [
    {
     "data": {
      "text/plain": [
       "PromptTemplate(input_variables=['DATE_END', 'DATE_START', 'LOCATION'], input_types={}, partial_variables={'FORMAT_INSTRUCTIONS': 'The output should be formatted as a JSON instance that conforms to the JSON schema below.\\n\\nAs an example, for the schema {\"properties\": {\"foo\": {\"title\": \"Foo\", \"description\": \"a list of strings\", \"type\": \"array\", \"items\": {\"type\": \"string\"}}}, \"required\": [\"foo\"]}\\nthe object {\"foo\": [\"bar\", \"baz\"]} is a well-formatted instance of the schema. The object {\"properties\": {\"foo\": [\"bar\", \"baz\"]}} is not well-formatted.\\n\\nHere is the output schema:\\n```\\n{\"$defs\": {\"Weather\": {\"description\": \"This is the output format for the weather prompt.\", \"properties\": {\"location\": {\"description\": \"location of the weather\", \"title\": \"Location\", \"type\": \"string\"}, \"date\": {\"description\": \"date of the weather\", \"format\": \"date\", \"title\": \"Date\", \"type\": \"string\"}, \"description\": {\"description\": \"description of the weather\", \"title\": \"Description\", \"type\": \"string\"}, \"temperature_min\": {\"description\": \"minimum temperature of the weather\", \"title\": \"Temperature Min\", \"type\": \"number\"}, \"temperature_max\": {\"description\": \"maximum temperature of the weather\", \"title\": \"Temperature Max\", \"type\": \"number\"}, \"temperature_avg\": {\"description\": \"average temperature of the weather\", \"title\": \"Temperature Avg\", \"type\": \"number\"}, \"url\": {\"description\": \"url of the weather\", \"title\": \"Url\", \"type\": \"string\"}}, \"required\": [\"location\", \"date\", \"description\", \"temperature_min\", \"temperature_max\", \"temperature_avg\", \"url\"], \"title\": \"Weather\", \"type\": \"object\"}}, \"description\": \"This is the output format for the weather list prompt.\", \"properties\": {\"weathers\": {\"items\": {\"$ref\": \"#/$defs/Weather\"}, \"title\": \"Weathers\", \"type\": \"array\"}}, \"required\": [\"weathers\"]}\\n```'}, template='Answer the USER_QUERY.\\n\\n{FORMAT_INSTRUCTIONS}\\n\\nUSER_QUERY:\\n\\nFind the weather forecast for {LOCATION}, starting from {DATE_START} and ending on {DATE_END}.\\n\\nGive me the URL of the weather forecast.')"
      ]
     },
     "execution_count": 15,
     "metadata": {},
     "output_type": "execute_result"
    }
   ],
   "source": [
    "from modules.prompt import CustomPrompt\n",
    "\n",
    "custom_prompt = CustomPrompt(template, OutputParser)\n",
    "prompt = custom_prompt.get_prompt()\n",
    "prompt"
   ]
  },
  {
   "attachments": {},
   "cell_type": "markdown",
   "metadata": {},
   "source": [
    "## Chain"
   ]
  },
  {
   "cell_type": "markdown",
   "metadata": {},
   "source": [
    "### Define model"
   ]
  },
  {
   "cell_type": "code",
   "execution_count": 16,
   "metadata": {},
   "outputs": [
    {
     "data": {
      "text/plain": [
       "ChatOpenAI(client=<openai.resources.chat.completions.completions.Completions object at 0x73f865a927b0>, async_client=<openai.resources.chat.completions.completions.AsyncCompletions object at 0x73f865a96cf0>, root_client=<openai.OpenAI object at 0x73f865a90170>, root_async_client=<openai.AsyncOpenAI object at 0x73f865a92a80>, model_name='gpt-4o-search-preview', model_kwargs={}, openai_api_key=SecretStr('**********'))"
      ]
     },
     "execution_count": 16,
     "metadata": {},
     "output_type": "execute_result"
    }
   ],
   "source": [
    "from langchain_openai import ChatOpenAI\n",
    "model = ChatOpenAI(model=\"gpt-4o-search-preview\")\n",
    "\n",
    "model"
   ]
  },
  {
   "attachments": {},
   "cell_type": "markdown",
   "metadata": {},
   "source": [
    "### Compose chain"
   ]
  },
  {
   "cell_type": "code",
   "execution_count": 17,
   "metadata": {},
   "outputs": [
    {
     "data": {
      "text/plain": [
       "PromptTemplate(input_variables=['DATE_END', 'DATE_START', 'LOCATION'], input_types={}, partial_variables={'FORMAT_INSTRUCTIONS': 'The output should be formatted as a JSON instance that conforms to the JSON schema below.\\n\\nAs an example, for the schema {\"properties\": {\"foo\": {\"title\": \"Foo\", \"description\": \"a list of strings\", \"type\": \"array\", \"items\": {\"type\": \"string\"}}}, \"required\": [\"foo\"]}\\nthe object {\"foo\": [\"bar\", \"baz\"]} is a well-formatted instance of the schema. The object {\"properties\": {\"foo\": [\"bar\", \"baz\"]}} is not well-formatted.\\n\\nHere is the output schema:\\n```\\n{\"$defs\": {\"Weather\": {\"description\": \"This is the output format for the weather prompt.\", \"properties\": {\"location\": {\"description\": \"location of the weather\", \"title\": \"Location\", \"type\": \"string\"}, \"date\": {\"description\": \"date of the weather\", \"format\": \"date\", \"title\": \"Date\", \"type\": \"string\"}, \"description\": {\"description\": \"description of the weather\", \"title\": \"Description\", \"type\": \"string\"}, \"temperature_min\": {\"description\": \"minimum temperature of the weather\", \"title\": \"Temperature Min\", \"type\": \"number\"}, \"temperature_max\": {\"description\": \"maximum temperature of the weather\", \"title\": \"Temperature Max\", \"type\": \"number\"}, \"temperature_avg\": {\"description\": \"average temperature of the weather\", \"title\": \"Temperature Avg\", \"type\": \"number\"}, \"url\": {\"description\": \"url of the weather\", \"title\": \"Url\", \"type\": \"string\"}}, \"required\": [\"location\", \"date\", \"description\", \"temperature_min\", \"temperature_max\", \"temperature_avg\", \"url\"], \"title\": \"Weather\", \"type\": \"object\"}}, \"description\": \"This is the output format for the weather list prompt.\", \"properties\": {\"weathers\": {\"items\": {\"$ref\": \"#/$defs/Weather\"}, \"title\": \"Weathers\", \"type\": \"array\"}}, \"required\": [\"weathers\"]}\\n```'}, template='Answer the USER_QUERY.\\n\\n{FORMAT_INSTRUCTIONS}\\n\\nUSER_QUERY:\\n\\nFind the weather forecast for {LOCATION}, starting from {DATE_START} and ending on {DATE_END}.\\n\\nGive me the URL of the weather forecast.')\n",
       "| ChatOpenAI(client=<openai.resources.chat.completions.completions.Completions object at 0x73f865a927b0>, async_client=<openai.resources.chat.completions.completions.AsyncCompletions object at 0x73f865a96cf0>, root_client=<openai.OpenAI object at 0x73f865a90170>, root_async_client=<openai.AsyncOpenAI object at 0x73f865a92a80>, model_name='gpt-4o-search-preview', model_kwargs={}, openai_api_key=SecretStr('**********'))\n",
       "| PydanticOutputParser(pydantic_object=<class 'data.prompts.weather.output_parser.WeatherList'>)"
      ]
     },
     "execution_count": 17,
     "metadata": {},
     "output_type": "execute_result"
    }
   ],
   "source": [
    "chain = prompt | model | custom_prompt.parser\n",
    "chain"
   ]
  },
  {
   "attachments": {},
   "cell_type": "markdown",
   "metadata": {},
   "source": [
    "### [X] Invoke chain\n",
    "\n",
    "To get the response, we need to invoke the chain with the input data."
   ]
  },
  {
   "cell_type": "code",
   "execution_count": 18,
   "metadata": {},
   "outputs": [],
   "source": [
    "output = chain.invoke({\n",
    "    'LOCATION': 'New York',\n",
    "    'DATE_START': '2025-04-12',\n",
    "    'DATE_END': '2025-04-18'\n",
    "})"
   ]
  },
  {
   "cell_type": "markdown",
   "metadata": {},
   "source": [
    "## Output"
   ]
  },
  {
   "cell_type": "markdown",
   "metadata": {},
   "source": [
    "### JSON"
   ]
  },
  {
   "cell_type": "code",
   "execution_count": 19,
   "metadata": {},
   "outputs": [
    {
     "data": {
      "text/plain": [
       "{'weathers': [{'location': 'New York City',\n",
       "   'date': datetime.date(2025, 4, 12),\n",
       "   'description': 'Rain',\n",
       "   'temperature_min': 8.0,\n",
       "   'temperature_max': 16.0,\n",
       "   'temperature_avg': 12.0,\n",
       "   'url': 'https://meteum.ai/new-york/month/april'},\n",
       "  {'location': 'New York City',\n",
       "   'date': datetime.date(2025, 4, 13),\n",
       "   'description': 'Clear',\n",
       "   'temperature_min': 8.0,\n",
       "   'temperature_max': 17.0,\n",
       "   'temperature_avg': 12.5,\n",
       "   'url': 'https://meteum.ai/new-york/month/april'},\n",
       "  {'location': 'New York City',\n",
       "   'date': datetime.date(2025, 4, 14),\n",
       "   'description': 'Clear',\n",
       "   'temperature_min': 9.0,\n",
       "   'temperature_max': 17.0,\n",
       "   'temperature_avg': 13.0,\n",
       "   'url': 'https://meteum.ai/new-york/month/april'},\n",
       "  {'location': 'New York City',\n",
       "   'date': datetime.date(2025, 4, 15),\n",
       "   'description': 'Rain',\n",
       "   'temperature_min': 9.0,\n",
       "   'temperature_max': 17.0,\n",
       "   'temperature_avg': 13.0,\n",
       "   'url': 'https://meteum.ai/new-york/month/april'},\n",
       "  {'location': 'New York City',\n",
       "   'date': datetime.date(2025, 4, 16),\n",
       "   'description': 'Clear',\n",
       "   'temperature_min': 8.0,\n",
       "   'temperature_max': 17.0,\n",
       "   'temperature_avg': 12.5,\n",
       "   'url': 'https://meteum.ai/new-york/month/april'},\n",
       "  {'location': 'New York City',\n",
       "   'date': datetime.date(2025, 4, 17),\n",
       "   'description': 'Rain',\n",
       "   'temperature_min': 9.0,\n",
       "   'temperature_max': 17.0,\n",
       "   'temperature_avg': 13.0,\n",
       "   'url': 'https://meteum.ai/new-york/month/april'},\n",
       "  {'location': 'New York City',\n",
       "   'date': datetime.date(2025, 4, 18),\n",
       "   'description': 'Clear',\n",
       "   'temperature_min': 8.0,\n",
       "   'temperature_max': 16.0,\n",
       "   'temperature_avg': 12.0,\n",
       "   'url': 'https://meteum.ai/new-york/month/april'}]}"
      ]
     },
     "execution_count": 19,
     "metadata": {},
     "output_type": "execute_result"
    }
   ],
   "source": [
    "data = output.model_dump()\n",
    "data"
   ]
  },
  {
   "cell_type": "markdown",
   "metadata": {},
   "source": [
    "### DataFrame"
   ]
  },
  {
   "cell_type": "code",
   "execution_count": 20,
   "metadata": {},
   "outputs": [
    {
     "data": {
      "text/html": [
       "<style type=\"text/css\">\n",
       "</style>\n",
       "<table id=\"T_5fb2a\">\n",
       "  <thead>\n",
       "    <tr>\n",
       "      <th class=\"blank level0\" >&nbsp;</th>\n",
       "      <th id=\"T_5fb2a_level0_col0\" class=\"col_heading level0 col0\" >location</th>\n",
       "      <th id=\"T_5fb2a_level0_col1\" class=\"col_heading level0 col1\" >date</th>\n",
       "      <th id=\"T_5fb2a_level0_col2\" class=\"col_heading level0 col2\" >description</th>\n",
       "      <th id=\"T_5fb2a_level0_col3\" class=\"col_heading level0 col3\" >temperature_min</th>\n",
       "      <th id=\"T_5fb2a_level0_col4\" class=\"col_heading level0 col4\" >temperature_max</th>\n",
       "      <th id=\"T_5fb2a_level0_col5\" class=\"col_heading level0 col5\" >temperature_avg</th>\n",
       "      <th id=\"T_5fb2a_level0_col6\" class=\"col_heading level0 col6\" >url</th>\n",
       "    </tr>\n",
       "  </thead>\n",
       "  <tbody>\n",
       "    <tr>\n",
       "      <th id=\"T_5fb2a_level0_row0\" class=\"row_heading level0 row0\" >0</th>\n",
       "      <td id=\"T_5fb2a_row0_col0\" class=\"data row0 col0\" >New York City</td>\n",
       "      <td id=\"T_5fb2a_row0_col1\" class=\"data row0 col1\" >2025-04-12</td>\n",
       "      <td id=\"T_5fb2a_row0_col2\" class=\"data row0 col2\" >Rain</td>\n",
       "      <td id=\"T_5fb2a_row0_col3\" class=\"data row0 col3\" >8.000000</td>\n",
       "      <td id=\"T_5fb2a_row0_col4\" class=\"data row0 col4\" >16.000000</td>\n",
       "      <td id=\"T_5fb2a_row0_col5\" class=\"data row0 col5\" >12.000000</td>\n",
       "      <td id=\"T_5fb2a_row0_col6\" class=\"data row0 col6\" >https://meteum.ai/new-york/month/april</td>\n",
       "    </tr>\n",
       "    <tr>\n",
       "      <th id=\"T_5fb2a_level0_row1\" class=\"row_heading level0 row1\" >1</th>\n",
       "      <td id=\"T_5fb2a_row1_col0\" class=\"data row1 col0\" >New York City</td>\n",
       "      <td id=\"T_5fb2a_row1_col1\" class=\"data row1 col1\" >2025-04-13</td>\n",
       "      <td id=\"T_5fb2a_row1_col2\" class=\"data row1 col2\" >Clear</td>\n",
       "      <td id=\"T_5fb2a_row1_col3\" class=\"data row1 col3\" >8.000000</td>\n",
       "      <td id=\"T_5fb2a_row1_col4\" class=\"data row1 col4\" >17.000000</td>\n",
       "      <td id=\"T_5fb2a_row1_col5\" class=\"data row1 col5\" >12.500000</td>\n",
       "      <td id=\"T_5fb2a_row1_col6\" class=\"data row1 col6\" >https://meteum.ai/new-york/month/april</td>\n",
       "    </tr>\n",
       "    <tr>\n",
       "      <th id=\"T_5fb2a_level0_row2\" class=\"row_heading level0 row2\" >2</th>\n",
       "      <td id=\"T_5fb2a_row2_col0\" class=\"data row2 col0\" >New York City</td>\n",
       "      <td id=\"T_5fb2a_row2_col1\" class=\"data row2 col1\" >2025-04-14</td>\n",
       "      <td id=\"T_5fb2a_row2_col2\" class=\"data row2 col2\" >Clear</td>\n",
       "      <td id=\"T_5fb2a_row2_col3\" class=\"data row2 col3\" >9.000000</td>\n",
       "      <td id=\"T_5fb2a_row2_col4\" class=\"data row2 col4\" >17.000000</td>\n",
       "      <td id=\"T_5fb2a_row2_col5\" class=\"data row2 col5\" >13.000000</td>\n",
       "      <td id=\"T_5fb2a_row2_col6\" class=\"data row2 col6\" >https://meteum.ai/new-york/month/april</td>\n",
       "    </tr>\n",
       "    <tr>\n",
       "      <th id=\"T_5fb2a_level0_row3\" class=\"row_heading level0 row3\" >3</th>\n",
       "      <td id=\"T_5fb2a_row3_col0\" class=\"data row3 col0\" >New York City</td>\n",
       "      <td id=\"T_5fb2a_row3_col1\" class=\"data row3 col1\" >2025-04-15</td>\n",
       "      <td id=\"T_5fb2a_row3_col2\" class=\"data row3 col2\" >Rain</td>\n",
       "      <td id=\"T_5fb2a_row3_col3\" class=\"data row3 col3\" >9.000000</td>\n",
       "      <td id=\"T_5fb2a_row3_col4\" class=\"data row3 col4\" >17.000000</td>\n",
       "      <td id=\"T_5fb2a_row3_col5\" class=\"data row3 col5\" >13.000000</td>\n",
       "      <td id=\"T_5fb2a_row3_col6\" class=\"data row3 col6\" >https://meteum.ai/new-york/month/april</td>\n",
       "    </tr>\n",
       "    <tr>\n",
       "      <th id=\"T_5fb2a_level0_row4\" class=\"row_heading level0 row4\" >4</th>\n",
       "      <td id=\"T_5fb2a_row4_col0\" class=\"data row4 col0\" >New York City</td>\n",
       "      <td id=\"T_5fb2a_row4_col1\" class=\"data row4 col1\" >2025-04-16</td>\n",
       "      <td id=\"T_5fb2a_row4_col2\" class=\"data row4 col2\" >Clear</td>\n",
       "      <td id=\"T_5fb2a_row4_col3\" class=\"data row4 col3\" >8.000000</td>\n",
       "      <td id=\"T_5fb2a_row4_col4\" class=\"data row4 col4\" >17.000000</td>\n",
       "      <td id=\"T_5fb2a_row4_col5\" class=\"data row4 col5\" >12.500000</td>\n",
       "      <td id=\"T_5fb2a_row4_col6\" class=\"data row4 col6\" >https://meteum.ai/new-york/month/april</td>\n",
       "    </tr>\n",
       "    <tr>\n",
       "      <th id=\"T_5fb2a_level0_row5\" class=\"row_heading level0 row5\" >5</th>\n",
       "      <td id=\"T_5fb2a_row5_col0\" class=\"data row5 col0\" >New York City</td>\n",
       "      <td id=\"T_5fb2a_row5_col1\" class=\"data row5 col1\" >2025-04-17</td>\n",
       "      <td id=\"T_5fb2a_row5_col2\" class=\"data row5 col2\" >Rain</td>\n",
       "      <td id=\"T_5fb2a_row5_col3\" class=\"data row5 col3\" >9.000000</td>\n",
       "      <td id=\"T_5fb2a_row5_col4\" class=\"data row5 col4\" >17.000000</td>\n",
       "      <td id=\"T_5fb2a_row5_col5\" class=\"data row5 col5\" >13.000000</td>\n",
       "      <td id=\"T_5fb2a_row5_col6\" class=\"data row5 col6\" >https://meteum.ai/new-york/month/april</td>\n",
       "    </tr>\n",
       "    <tr>\n",
       "      <th id=\"T_5fb2a_level0_row6\" class=\"row_heading level0 row6\" >6</th>\n",
       "      <td id=\"T_5fb2a_row6_col0\" class=\"data row6 col0\" >New York City</td>\n",
       "      <td id=\"T_5fb2a_row6_col1\" class=\"data row6 col1\" >2025-04-18</td>\n",
       "      <td id=\"T_5fb2a_row6_col2\" class=\"data row6 col2\" >Clear</td>\n",
       "      <td id=\"T_5fb2a_row6_col3\" class=\"data row6 col3\" >8.000000</td>\n",
       "      <td id=\"T_5fb2a_row6_col4\" class=\"data row6 col4\" >16.000000</td>\n",
       "      <td id=\"T_5fb2a_row6_col5\" class=\"data row6 col5\" >12.000000</td>\n",
       "      <td id=\"T_5fb2a_row6_col6\" class=\"data row6 col6\" >https://meteum.ai/new-york/month/april</td>\n",
       "    </tr>\n",
       "  </tbody>\n",
       "</table>\n"
      ],
      "text/plain": [
       "<pandas.io.formats.style.Styler at 0x73f865a90410>"
      ]
     },
     "execution_count": 20,
     "metadata": {},
     "output_type": "execute_result"
    }
   ],
   "source": [
    "import pandas as pd\n",
    "\n",
    "data_values = list(data.values())[0]\n",
    "df = pd.DataFrame(data_values)\n",
    "df.style"
   ]
  },
  {
   "cell_type": "markdown",
   "metadata": {},
   "source": [
    "### Export to Excel and CSV"
   ]
  },
  {
   "cell_type": "code",
   "execution_count": 21,
   "metadata": {},
   "outputs": [],
   "source": [
    "from datetime import datetime\n",
    "import os\n",
    "\n",
    "# Create a folder with the current datetime\n",
    "current_datetime = datetime.now().strftime('%Y%m%d_%H%M%S')\n",
    "output_folder = folder / f'outputs/{current_datetime}'\n",
    "output_folder.mkdir(parents=True, exist_ok=True)\n",
    "\n",
    "# Save the files in the newly created folder\n",
    "df.to_excel(output_folder / 'output.xlsx', index=False)\n",
    "df.to_csv(output_folder / 'output.csv', index=False)"
   ]
  }
 ],
 "metadata": {
  "kernelspec": {
   "display_name": "conda",
   "language": "python",
   "name": "python3"
  },
  "language_info": {
   "codemirror_mode": {
    "name": "ipython",
    "version": 3
   },
   "file_extension": ".py",
   "mimetype": "text/x-python",
   "name": "python",
   "nbconvert_exporter": "python",
   "pygments_lexer": "ipython3",
   "version": "3.12.10"
  },
  "orig_nbformat": 4
 },
 "nbformat": 4,
 "nbformat_minor": 2
}
