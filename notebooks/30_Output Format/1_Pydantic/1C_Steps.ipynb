{
 "cells": [
  {
   "attachments": {},
   "cell_type": "markdown",
   "metadata": {},
   "source": [
    "# Customize output format in prompt"
   ]
  },
  {
   "cell_type": "markdown",
   "metadata": {},
   "source": [
    "## User prompt configuration"
   ]
  },
  {
   "cell_type": "markdown",
   "metadata": {},
   "source": [
    "### [X] Create prompt template"
   ]
  },
  {
   "cell_type": "markdown",
   "metadata": {},
   "source": [
    "The prompt template is defined in the file:\n",
    "\n",
    "[/workspace/data/prompts/weather/template.md](/workspace/data/prompts/weather/template.md)\n",
    "\n",
    "And it will be loaded as follows:"
   ]
  },
  {
   "cell_type": "code",
   "execution_count": 2,
   "metadata": {},
   "outputs": [],
   "source": [
    "folder_prompt_name = 'weather' #TODO: define your folder"
   ]
  },
  {
   "cell_type": "code",
   "execution_count": 3,
   "metadata": {},
   "outputs": [
    {
     "ename": "FileNotFoundError",
     "evalue": "[Errno 2] No such file or directory: '/workspace/data/prompts/weather/template.md'",
     "output_type": "error",
     "traceback": [
      "\u001b[31m---------------------------------------------------------------------------\u001b[39m",
      "\u001b[31mFileNotFoundError\u001b[39m                         Traceback (most recent call last)",
      "\u001b[36mCell\u001b[39m\u001b[36m \u001b[39m\u001b[32mIn[3]\u001b[39m\u001b[32m, line 5\u001b[39m\n\u001b[32m      2\u001b[39m folder = Path(\u001b[33mf\u001b[39m\u001b[33m'\u001b[39m\u001b[33m/workspace/data/prompts/\u001b[39m\u001b[38;5;132;01m{\u001b[39;00mfolder_prompt_name\u001b[38;5;132;01m}\u001b[39;00m\u001b[33m'\u001b[39m)\n\u001b[32m      4\u001b[39m path = folder / \u001b[33m'\u001b[39m\u001b[33mtemplate.md\u001b[39m\u001b[33m'\u001b[39m\n\u001b[32m----> \u001b[39m\u001b[32m5\u001b[39m \u001b[38;5;28;01mwith\u001b[39;00m \u001b[38;5;28;43mopen\u001b[39;49m\u001b[43m(\u001b[49m\u001b[43mpath\u001b[49m\u001b[43m,\u001b[49m\u001b[43m \u001b[49m\u001b[33;43m'\u001b[39;49m\u001b[33;43mr\u001b[39;49m\u001b[33;43m'\u001b[39;49m\u001b[43m)\u001b[49m \u001b[38;5;28;01mas\u001b[39;00m file:\n\u001b[32m      6\u001b[39m     template = file.read()\n\u001b[32m      8\u001b[39m template\n",
      "\u001b[36mFile \u001b[39m\u001b[32m/workspace/.venv/lib/python3.12/site-packages/IPython/core/interactiveshell.py:326\u001b[39m, in \u001b[36m_modified_open\u001b[39m\u001b[34m(file, *args, **kwargs)\u001b[39m\n\u001b[32m    319\u001b[39m \u001b[38;5;28;01mif\u001b[39;00m file \u001b[38;5;129;01min\u001b[39;00m {\u001b[32m0\u001b[39m, \u001b[32m1\u001b[39m, \u001b[32m2\u001b[39m}:\n\u001b[32m    320\u001b[39m     \u001b[38;5;28;01mraise\u001b[39;00m \u001b[38;5;167;01mValueError\u001b[39;00m(\n\u001b[32m    321\u001b[39m         \u001b[33mf\u001b[39m\u001b[33m\"\u001b[39m\u001b[33mIPython won\u001b[39m\u001b[33m'\u001b[39m\u001b[33mt let you open fd=\u001b[39m\u001b[38;5;132;01m{\u001b[39;00mfile\u001b[38;5;132;01m}\u001b[39;00m\u001b[33m by default \u001b[39m\u001b[33m\"\u001b[39m\n\u001b[32m    322\u001b[39m         \u001b[33m\"\u001b[39m\u001b[33mas it is likely to crash IPython. If you know what you are doing, \u001b[39m\u001b[33m\"\u001b[39m\n\u001b[32m    323\u001b[39m         \u001b[33m\"\u001b[39m\u001b[33myou can use builtins\u001b[39m\u001b[33m'\u001b[39m\u001b[33m open.\u001b[39m\u001b[33m\"\u001b[39m\n\u001b[32m    324\u001b[39m     )\n\u001b[32m--> \u001b[39m\u001b[32m326\u001b[39m \u001b[38;5;28;01mreturn\u001b[39;00m \u001b[43mio_open\u001b[49m\u001b[43m(\u001b[49m\u001b[43mfile\u001b[49m\u001b[43m,\u001b[49m\u001b[43m \u001b[49m\u001b[43m*\u001b[49m\u001b[43margs\u001b[49m\u001b[43m,\u001b[49m\u001b[43m \u001b[49m\u001b[43m*\u001b[49m\u001b[43m*\u001b[49m\u001b[43mkwargs\u001b[49m\u001b[43m)\u001b[49m\n",
      "\u001b[31mFileNotFoundError\u001b[39m: [Errno 2] No such file or directory: '/workspace/data/prompts/weather/template.md'"
     ]
    }
   ],
   "source": [
    "from pathlib import Path\n",
    "folder = Path(f'/workspace/data/prompts/{folder_prompt_name}')\n",
    "\n",
    "path = folder / 'template.md'\n",
    "with open(path, 'r') as file:\n",
    "    template = file.read()\n",
    "\n",
    "template"
   ]
  },
  {
   "cell_type": "markdown",
   "metadata": {},
   "source": [
    "### [X] Define custom output format and import it"
   ]
  },
  {
   "cell_type": "markdown",
   "metadata": {},
   "source": [
    "[/workspace/data/prompts/weather/output_format.py](/workspace/data/prompts/weather/output_format.py)"
   ]
  },
  {
   "cell_type": "code",
   "execution_count": 3,
   "metadata": {},
   "outputs": [],
   "source": [
    "output_class_name = 'WeatherList' #TODO: define your class"
   ]
  },
  {
   "cell_type": "code",
   "execution_count": 4,
   "metadata": {},
   "outputs": [],
   "source": [
    "from importlib import import_module\n",
    "OutputParser = getattr(import_module(f'data.prompts.{folder_prompt_name}.output_parser'), output_class_name)"
   ]
  },
  {
   "cell_type": "markdown",
   "metadata": {},
   "source": [
    "## Combine template and output format"
   ]
  },
  {
   "cell_type": "code",
   "execution_count": 5,
   "metadata": {},
   "outputs": [
    {
     "data": {
      "text/plain": [
       "PromptTemplate(input_variables=['DATE_END', 'DATE_START', 'LOCATION'], input_types={}, partial_variables={'FORMAT_INSTRUCTIONS': 'The output should be formatted as a JSON instance that conforms to the JSON schema below.\\n\\nAs an example, for the schema {\"properties\": {\"foo\": {\"title\": \"Foo\", \"description\": \"a list of strings\", \"type\": \"array\", \"items\": {\"type\": \"string\"}}}, \"required\": [\"foo\"]}\\nthe object {\"foo\": [\"bar\", \"baz\"]} is a well-formatted instance of the schema. The object {\"properties\": {\"foo\": [\"bar\", \"baz\"]}} is not well-formatted.\\n\\nHere is the output schema:\\n```\\n{\"$defs\": {\"Weather\": {\"properties\": {\"location\": {\"description\": \"location of the weather\", \"title\": \"Location\", \"type\": \"string\"}, \"date\": {\"description\": \"date of the weather\", \"format\": \"date\", \"title\": \"Date\", \"type\": \"string\"}, \"description\": {\"description\": \"description of the weather\", \"title\": \"Description\", \"type\": \"string\"}, \"temperature_min\": {\"description\": \"minimum temperature of the weather\", \"title\": \"Temperature Min\", \"type\": \"number\"}, \"temperature_max\": {\"description\": \"maximum temperature of the weather\", \"title\": \"Temperature Max\", \"type\": \"number\"}, \"temperature_avg\": {\"description\": \"average temperature of the weather\", \"title\": \"Temperature Avg\", \"type\": \"number\"}, \"url\": {\"description\": \"url of the weather\", \"title\": \"Url\", \"type\": \"string\"}}, \"required\": [\"location\", \"date\", \"description\", \"temperature_min\", \"temperature_max\", \"temperature_avg\", \"url\"], \"title\": \"Weather\", \"type\": \"object\"}}, \"properties\": {\"weathers\": {\"items\": {\"$ref\": \"#/$defs/Weather\"}, \"title\": \"Weathers\", \"type\": \"array\"}}, \"required\": [\"weathers\"]}\\n```'}, template='Answer the USER_QUERY.\\n\\n{FORMAT_INSTRUCTIONS}\\n\\nUSER_QUERY:\\n\\nFind the weather forecast for {LOCATION}, starting from {DATE_START} and ending on {DATE_END}.')"
      ]
     },
     "execution_count": 5,
     "metadata": {},
     "output_type": "execute_result"
    }
   ],
   "source": [
    "from modules.prompt import CustomPrompt\n",
    "\n",
    "custom_prompt = CustomPrompt(template, OutputParser)\n",
    "prompt = custom_prompt.get_prompt()\n",
    "prompt"
   ]
  },
  {
   "attachments": {},
   "cell_type": "markdown",
   "metadata": {},
   "source": [
    "## Chain"
   ]
  },
  {
   "cell_type": "markdown",
   "metadata": {},
   "source": [
    "### Define model"
   ]
  },
  {
   "cell_type": "code",
   "execution_count": 6,
   "metadata": {},
   "outputs": [
    {
     "data": {
      "text/plain": [
       "ChatOpenAI(client=<openai.resources.chat.completions.completions.Completions object at 0xffff41688aa0>, async_client=<openai.resources.chat.completions.completions.AsyncCompletions object at 0xffff4168b380>, root_client=<openai.OpenAI object at 0xffff41e19bb0>, root_async_client=<openai.AsyncOpenAI object at 0xffff41688b00>, model_name='gpt-4o-search-preview', model_kwargs={}, openai_api_key=SecretStr('**********'))"
      ]
     },
     "execution_count": 6,
     "metadata": {},
     "output_type": "execute_result"
    }
   ],
   "source": [
    "from langchain_openai import ChatOpenAI\n",
    "model = ChatOpenAI(model=\"gpt-4o-search-preview\")\n",
    "\n",
    "model"
   ]
  },
  {
   "attachments": {},
   "cell_type": "markdown",
   "metadata": {},
   "source": [
    "### Compose chain"
   ]
  },
  {
   "cell_type": "code",
   "execution_count": 7,
   "metadata": {},
   "outputs": [
    {
     "data": {
      "text/plain": [
       "PromptTemplate(input_variables=['DATE_END', 'DATE_START', 'LOCATION'], input_types={}, partial_variables={'FORMAT_INSTRUCTIONS': 'The output should be formatted as a JSON instance that conforms to the JSON schema below.\\n\\nAs an example, for the schema {\"properties\": {\"foo\": {\"title\": \"Foo\", \"description\": \"a list of strings\", \"type\": \"array\", \"items\": {\"type\": \"string\"}}}, \"required\": [\"foo\"]}\\nthe object {\"foo\": [\"bar\", \"baz\"]} is a well-formatted instance of the schema. The object {\"properties\": {\"foo\": [\"bar\", \"baz\"]}} is not well-formatted.\\n\\nHere is the output schema:\\n```\\n{\"$defs\": {\"Weather\": {\"properties\": {\"location\": {\"description\": \"location of the weather\", \"title\": \"Location\", \"type\": \"string\"}, \"date\": {\"description\": \"date of the weather\", \"format\": \"date\", \"title\": \"Date\", \"type\": \"string\"}, \"description\": {\"description\": \"description of the weather\", \"title\": \"Description\", \"type\": \"string\"}, \"temperature_min\": {\"description\": \"minimum temperature of the weather\", \"title\": \"Temperature Min\", \"type\": \"number\"}, \"temperature_max\": {\"description\": \"maximum temperature of the weather\", \"title\": \"Temperature Max\", \"type\": \"number\"}, \"temperature_avg\": {\"description\": \"average temperature of the weather\", \"title\": \"Temperature Avg\", \"type\": \"number\"}, \"url\": {\"description\": \"url of the weather\", \"title\": \"Url\", \"type\": \"string\"}}, \"required\": [\"location\", \"date\", \"description\", \"temperature_min\", \"temperature_max\", \"temperature_avg\", \"url\"], \"title\": \"Weather\", \"type\": \"object\"}}, \"properties\": {\"weathers\": {\"items\": {\"$ref\": \"#/$defs/Weather\"}, \"title\": \"Weathers\", \"type\": \"array\"}}, \"required\": [\"weathers\"]}\\n```'}, template='Answer the USER_QUERY.\\n\\n{FORMAT_INSTRUCTIONS}\\n\\nUSER_QUERY:\\n\\nFind the weather forecast for {LOCATION}, starting from {DATE_START} and ending on {DATE_END}.')\n",
       "| ChatOpenAI(client=<openai.resources.chat.completions.completions.Completions object at 0xffff41688aa0>, async_client=<openai.resources.chat.completions.completions.AsyncCompletions object at 0xffff4168b380>, root_client=<openai.OpenAI object at 0xffff41e19bb0>, root_async_client=<openai.AsyncOpenAI object at 0xffff41688b00>, model_name='gpt-4o-search-preview', model_kwargs={}, openai_api_key=SecretStr('**********'))\n",
       "| PydanticOutputParser(pydantic_object=<class 'data.prompts.weather.output_format.WeatherList'>)"
      ]
     },
     "execution_count": 7,
     "metadata": {},
     "output_type": "execute_result"
    }
   ],
   "source": [
    "chain = prompt | model | custom_prompt.parser\n",
    "chain"
   ]
  },
  {
   "attachments": {},
   "cell_type": "markdown",
   "metadata": {},
   "source": [
    "### [X] Invoke chain\n",
    "\n",
    "To get the response, we need to invoke the chain with the input data."
   ]
  },
  {
   "cell_type": "code",
   "execution_count": 8,
   "metadata": {},
   "outputs": [],
   "source": [
    "output = chain.invoke({\n",
    "    'LOCATION': 'New York',\n",
    "    'DATE_START': '2025-04-12',\n",
    "    'DATE_END': '2025-04-18'\n",
    "})"
   ]
  },
  {
   "cell_type": "markdown",
   "metadata": {},
   "source": [
    "## Output"
   ]
  },
  {
   "cell_type": "markdown",
   "metadata": {},
   "source": [
    "### JSON"
   ]
  },
  {
   "cell_type": "code",
   "execution_count": 9,
   "metadata": {},
   "outputs": [
    {
     "data": {
      "text/plain": [
       "{'weathers': [{'location': 'New York, NY, United States',\n",
       "   'date': datetime.date(2025, 4, 12),\n",
       "   'description': 'Cold with rain and drizzle, becoming windy this afternoon',\n",
       "   'temperature_min': 40.0,\n",
       "   'temperature_max': 42.0,\n",
       "   'temperature_avg': 41.0,\n",
       "   'url': 'https://www.weather.com/weather/today/l/USNY0996:1:US'},\n",
       "  {'location': 'New York, NY, United States',\n",
       "   'date': datetime.date(2025, 4, 13),\n",
       "   'description': 'Areas of drizzle in the morning; otherwise, warmer with clouds followed by a brightening sky',\n",
       "   'temperature_min': 46.0,\n",
       "   'temperature_max': 57.0,\n",
       "   'temperature_avg': 51.5,\n",
       "   'url': 'https://www.weather.com/weather/today/l/USNY0996:1:US'},\n",
       "  {'location': 'New York, NY, United States',\n",
       "   'date': datetime.date(2025, 4, 14),\n",
       "   'description': 'Milder with clouds and breaks of sun',\n",
       "   'temperature_min': 51.0,\n",
       "   'temperature_max': 64.0,\n",
       "   'temperature_avg': 57.5,\n",
       "   'url': 'https://www.weather.com/weather/today/l/USNY0996:1:US'},\n",
       "  {'location': 'New York, NY, United States',\n",
       "   'date': datetime.date(2025, 4, 15),\n",
       "   'description': 'Increasingly windy with decreasing clouds; a shower cannot be ruled out',\n",
       "   'temperature_min': 42.0,\n",
       "   'temperature_max': 64.0,\n",
       "   'temperature_avg': 53.0,\n",
       "   'url': 'https://www.weather.com/weather/today/l/USNY0996:1:US'},\n",
       "  {'location': 'New York, NY, United States',\n",
       "   'date': datetime.date(2025, 4, 16),\n",
       "   'description': 'Cooler with increasing amounts of sunshine',\n",
       "   'temperature_min': 40.0,\n",
       "   'temperature_max': 53.0,\n",
       "   'temperature_avg': 46.5,\n",
       "   'url': 'https://www.weather.com/weather/today/l/USNY0996:1:US'},\n",
       "  {'location': 'New York, NY, United States',\n",
       "   'date': datetime.date(2025, 4, 17),\n",
       "   'description': 'Sunny and breezy',\n",
       "   'temperature_min': 44.0,\n",
       "   'temperature_max': 58.0,\n",
       "   'temperature_avg': 51.0,\n",
       "   'url': 'https://www.weather.com/weather/today/l/USNY0996:1:US'},\n",
       "  {'location': 'New York, NY, United States',\n",
       "   'date': datetime.date(2025, 4, 18),\n",
       "   'description': 'Mostly cloudy with a couple of showers possible',\n",
       "   'temperature_min': 50.0,\n",
       "   'temperature_max': 60.0,\n",
       "   'temperature_avg': 55.0,\n",
       "   'url': 'https://www.weather.com/weather/today/l/USNY0996:1:US'}]}"
      ]
     },
     "execution_count": 9,
     "metadata": {},
     "output_type": "execute_result"
    }
   ],
   "source": [
    "data = output.model_dump()\n",
    "data"
   ]
  },
  {
   "cell_type": "markdown",
   "metadata": {},
   "source": [
    "### DataFrame"
   ]
  },
  {
   "cell_type": "code",
   "execution_count": 10,
   "metadata": {},
   "outputs": [
    {
     "data": {
      "text/html": [
       "<style type=\"text/css\">\n",
       "</style>\n",
       "<table id=\"T_37a92\">\n",
       "  <thead>\n",
       "    <tr>\n",
       "      <th class=\"blank level0\" >&nbsp;</th>\n",
       "      <th id=\"T_37a92_level0_col0\" class=\"col_heading level0 col0\" >location</th>\n",
       "      <th id=\"T_37a92_level0_col1\" class=\"col_heading level0 col1\" >date</th>\n",
       "      <th id=\"T_37a92_level0_col2\" class=\"col_heading level0 col2\" >description</th>\n",
       "      <th id=\"T_37a92_level0_col3\" class=\"col_heading level0 col3\" >temperature_min</th>\n",
       "      <th id=\"T_37a92_level0_col4\" class=\"col_heading level0 col4\" >temperature_max</th>\n",
       "      <th id=\"T_37a92_level0_col5\" class=\"col_heading level0 col5\" >temperature_avg</th>\n",
       "      <th id=\"T_37a92_level0_col6\" class=\"col_heading level0 col6\" >url</th>\n",
       "    </tr>\n",
       "  </thead>\n",
       "  <tbody>\n",
       "    <tr>\n",
       "      <th id=\"T_37a92_level0_row0\" class=\"row_heading level0 row0\" >0</th>\n",
       "      <td id=\"T_37a92_row0_col0\" class=\"data row0 col0\" >New York, NY, United States</td>\n",
       "      <td id=\"T_37a92_row0_col1\" class=\"data row0 col1\" >2025-04-12</td>\n",
       "      <td id=\"T_37a92_row0_col2\" class=\"data row0 col2\" >Cold with rain and drizzle, becoming windy this afternoon</td>\n",
       "      <td id=\"T_37a92_row0_col3\" class=\"data row0 col3\" >40.000000</td>\n",
       "      <td id=\"T_37a92_row0_col4\" class=\"data row0 col4\" >42.000000</td>\n",
       "      <td id=\"T_37a92_row0_col5\" class=\"data row0 col5\" >41.000000</td>\n",
       "      <td id=\"T_37a92_row0_col6\" class=\"data row0 col6\" >https://www.weather.com/weather/today/l/USNY0996:1:US</td>\n",
       "    </tr>\n",
       "    <tr>\n",
       "      <th id=\"T_37a92_level0_row1\" class=\"row_heading level0 row1\" >1</th>\n",
       "      <td id=\"T_37a92_row1_col0\" class=\"data row1 col0\" >New York, NY, United States</td>\n",
       "      <td id=\"T_37a92_row1_col1\" class=\"data row1 col1\" >2025-04-13</td>\n",
       "      <td id=\"T_37a92_row1_col2\" class=\"data row1 col2\" >Areas of drizzle in the morning; otherwise, warmer with clouds followed by a brightening sky</td>\n",
       "      <td id=\"T_37a92_row1_col3\" class=\"data row1 col3\" >46.000000</td>\n",
       "      <td id=\"T_37a92_row1_col4\" class=\"data row1 col4\" >57.000000</td>\n",
       "      <td id=\"T_37a92_row1_col5\" class=\"data row1 col5\" >51.500000</td>\n",
       "      <td id=\"T_37a92_row1_col6\" class=\"data row1 col6\" >https://www.weather.com/weather/today/l/USNY0996:1:US</td>\n",
       "    </tr>\n",
       "    <tr>\n",
       "      <th id=\"T_37a92_level0_row2\" class=\"row_heading level0 row2\" >2</th>\n",
       "      <td id=\"T_37a92_row2_col0\" class=\"data row2 col0\" >New York, NY, United States</td>\n",
       "      <td id=\"T_37a92_row2_col1\" class=\"data row2 col1\" >2025-04-14</td>\n",
       "      <td id=\"T_37a92_row2_col2\" class=\"data row2 col2\" >Milder with clouds and breaks of sun</td>\n",
       "      <td id=\"T_37a92_row2_col3\" class=\"data row2 col3\" >51.000000</td>\n",
       "      <td id=\"T_37a92_row2_col4\" class=\"data row2 col4\" >64.000000</td>\n",
       "      <td id=\"T_37a92_row2_col5\" class=\"data row2 col5\" >57.500000</td>\n",
       "      <td id=\"T_37a92_row2_col6\" class=\"data row2 col6\" >https://www.weather.com/weather/today/l/USNY0996:1:US</td>\n",
       "    </tr>\n",
       "    <tr>\n",
       "      <th id=\"T_37a92_level0_row3\" class=\"row_heading level0 row3\" >3</th>\n",
       "      <td id=\"T_37a92_row3_col0\" class=\"data row3 col0\" >New York, NY, United States</td>\n",
       "      <td id=\"T_37a92_row3_col1\" class=\"data row3 col1\" >2025-04-15</td>\n",
       "      <td id=\"T_37a92_row3_col2\" class=\"data row3 col2\" >Increasingly windy with decreasing clouds; a shower cannot be ruled out</td>\n",
       "      <td id=\"T_37a92_row3_col3\" class=\"data row3 col3\" >42.000000</td>\n",
       "      <td id=\"T_37a92_row3_col4\" class=\"data row3 col4\" >64.000000</td>\n",
       "      <td id=\"T_37a92_row3_col5\" class=\"data row3 col5\" >53.000000</td>\n",
       "      <td id=\"T_37a92_row3_col6\" class=\"data row3 col6\" >https://www.weather.com/weather/today/l/USNY0996:1:US</td>\n",
       "    </tr>\n",
       "    <tr>\n",
       "      <th id=\"T_37a92_level0_row4\" class=\"row_heading level0 row4\" >4</th>\n",
       "      <td id=\"T_37a92_row4_col0\" class=\"data row4 col0\" >New York, NY, United States</td>\n",
       "      <td id=\"T_37a92_row4_col1\" class=\"data row4 col1\" >2025-04-16</td>\n",
       "      <td id=\"T_37a92_row4_col2\" class=\"data row4 col2\" >Cooler with increasing amounts of sunshine</td>\n",
       "      <td id=\"T_37a92_row4_col3\" class=\"data row4 col3\" >40.000000</td>\n",
       "      <td id=\"T_37a92_row4_col4\" class=\"data row4 col4\" >53.000000</td>\n",
       "      <td id=\"T_37a92_row4_col5\" class=\"data row4 col5\" >46.500000</td>\n",
       "      <td id=\"T_37a92_row4_col6\" class=\"data row4 col6\" >https://www.weather.com/weather/today/l/USNY0996:1:US</td>\n",
       "    </tr>\n",
       "    <tr>\n",
       "      <th id=\"T_37a92_level0_row5\" class=\"row_heading level0 row5\" >5</th>\n",
       "      <td id=\"T_37a92_row5_col0\" class=\"data row5 col0\" >New York, NY, United States</td>\n",
       "      <td id=\"T_37a92_row5_col1\" class=\"data row5 col1\" >2025-04-17</td>\n",
       "      <td id=\"T_37a92_row5_col2\" class=\"data row5 col2\" >Sunny and breezy</td>\n",
       "      <td id=\"T_37a92_row5_col3\" class=\"data row5 col3\" >44.000000</td>\n",
       "      <td id=\"T_37a92_row5_col4\" class=\"data row5 col4\" >58.000000</td>\n",
       "      <td id=\"T_37a92_row5_col5\" class=\"data row5 col5\" >51.000000</td>\n",
       "      <td id=\"T_37a92_row5_col6\" class=\"data row5 col6\" >https://www.weather.com/weather/today/l/USNY0996:1:US</td>\n",
       "    </tr>\n",
       "    <tr>\n",
       "      <th id=\"T_37a92_level0_row6\" class=\"row_heading level0 row6\" >6</th>\n",
       "      <td id=\"T_37a92_row6_col0\" class=\"data row6 col0\" >New York, NY, United States</td>\n",
       "      <td id=\"T_37a92_row6_col1\" class=\"data row6 col1\" >2025-04-18</td>\n",
       "      <td id=\"T_37a92_row6_col2\" class=\"data row6 col2\" >Mostly cloudy with a couple of showers possible</td>\n",
       "      <td id=\"T_37a92_row6_col3\" class=\"data row6 col3\" >50.000000</td>\n",
       "      <td id=\"T_37a92_row6_col4\" class=\"data row6 col4\" >60.000000</td>\n",
       "      <td id=\"T_37a92_row6_col5\" class=\"data row6 col5\" >55.000000</td>\n",
       "      <td id=\"T_37a92_row6_col6\" class=\"data row6 col6\" >https://www.weather.com/weather/today/l/USNY0996:1:US</td>\n",
       "    </tr>\n",
       "  </tbody>\n",
       "</table>\n"
      ],
      "text/plain": [
       "<pandas.io.formats.style.Styler at 0xffff416a6d20>"
      ]
     },
     "execution_count": 10,
     "metadata": {},
     "output_type": "execute_result"
    }
   ],
   "source": [
    "import pandas as pd\n",
    "\n",
    "data_values = list(data.values())[0]\n",
    "df = pd.DataFrame(data_values)\n",
    "df.style"
   ]
  },
  {
   "cell_type": "markdown",
   "metadata": {},
   "source": [
    "### Export to Excel and CSV"
   ]
  },
  {
   "cell_type": "code",
   "execution_count": 11,
   "metadata": {},
   "outputs": [],
   "source": [
    "from datetime import datetime\n",
    "import os\n",
    "\n",
    "# Create a folder with the current datetime\n",
    "current_datetime = datetime.now().strftime('%Y%m%d_%H%M%S')\n",
    "output_folder = folder / f'outputs/{current_datetime}'\n",
    "output_folder.mkdir(parents=True, exist_ok=True)\n",
    "\n",
    "# Save the files in the newly created folder\n",
    "df.to_excel(output_folder / 'output.xlsx', index=False)\n",
    "df.to_csv(output_folder / 'output.csv', index=False)"
   ]
  }
 ],
 "metadata": {
  "kernelspec": {
   "display_name": ".venv",
   "language": "python",
   "name": "python3"
  },
  "language_info": {
   "codemirror_mode": {
    "name": "ipython",
    "version": 3
   },
   "file_extension": ".py",
   "mimetype": "text/x-python",
   "name": "python",
   "nbconvert_exporter": "python",
   "pygments_lexer": "ipython3",
   "version": "3.12.10"
  },
  "orig_nbformat": 4
 },
 "nbformat": 4,
 "nbformat_minor": 2
}
