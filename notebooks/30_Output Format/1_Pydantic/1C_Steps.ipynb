{
 "cells": [
  {
   "attachments": {},
   "cell_type": "markdown",
   "metadata": {},
   "source": [
    "# Customize output format in prompt"
   ]
  },
  {
   "cell_type": "markdown",
   "metadata": {},
   "source": [
    "## User prompt configuration"
   ]
  },
  {
   "cell_type": "markdown",
   "metadata": {},
   "source": [
    "### [X] Create prompt template"
   ]
  },
  {
   "cell_type": "markdown",
   "metadata": {},
   "source": [
    "The prompt template is defined in the file:\n",
    "\n",
    "[/workspace/data/prompts/weather/date_range/template.md](/workspace/data/prompts/weather/date_range/template.md)\n",
    "\n",
    "And it will be loaded as follows:"
   ]
  },
  {
   "cell_type": "code",
   "execution_count": 15,
   "metadata": {},
   "outputs": [],
   "source": [
    "name_prompt = 'futbol' #TODO: define your folder\n",
    "name_template = 'liga_jornada' #TODO: define your folder"
   ]
  },
  {
   "cell_type": "code",
   "execution_count": 16,
   "metadata": {},
   "outputs": [
    {
     "data": {
      "text/plain": [
       "'Quiero informacion sobre los partidos de la liga {LIGA} en la jornada {JORNADA}.\\n'"
      ]
     },
     "execution_count": 16,
     "metadata": {},
     "output_type": "execute_result"
    }
   ],
   "source": [
    "from pathlib import Path\n",
    "\n",
    "folder_template = f'{name_prompt}/{name_template}' \n",
    "folder = Path(f'/workspace/data/prompts/{folder_template}')\n",
    "\n",
    "path = folder / 'template.md'\n",
    "with open(path, 'r') as file:\n",
    "    template = file.read()\n",
    "\n",
    "template"
   ]
  },
  {
   "cell_type": "markdown",
   "metadata": {},
   "source": [
    "### [X] Define custom output format and import it"
   ]
  },
  {
   "cell_type": "markdown",
   "metadata": {},
   "source": [
    "[/workspace/data/prompts/weather/output_parser.py](/workspace/data/prompts/weather/output_parser.py)"
   ]
  },
  {
   "cell_type": "code",
   "execution_count": 17,
   "metadata": {},
   "outputs": [],
   "source": [
    "output_class_name = 'ListaPartidos' #TODO: define your class"
   ]
  },
  {
   "cell_type": "code",
   "execution_count": 18,
   "metadata": {},
   "outputs": [],
   "source": [
    "from importlib import import_module\n",
    "OutputParser = getattr(import_module(f'data.prompts.{name_prompt}.output_parser'), output_class_name)"
   ]
  },
  {
   "cell_type": "code",
   "execution_count": 19,
   "metadata": {},
   "outputs": [
    {
     "data": {
      "text/plain": [
       "data.prompts.futbol.output_parser.ListaPartidos"
      ]
     },
     "execution_count": 19,
     "metadata": {},
     "output_type": "execute_result"
    }
   ],
   "source": [
    "OutputParser"
   ]
  },
  {
   "cell_type": "markdown",
   "metadata": {},
   "source": [
    "## Combine template and output format"
   ]
  },
  {
   "cell_type": "code",
   "execution_count": 20,
   "metadata": {},
   "outputs": [
    {
     "data": {
      "text/plain": [
       "PromptTemplate(input_variables=['JORNADA', 'LIGA'], input_types={}, partial_variables={'FORMAT_INSTRUCTIONS': 'The output should be formatted as a JSON instance that conforms to the JSON schema below.\\n\\nAs an example, for the schema {\"properties\": {\"foo\": {\"title\": \"Foo\", \"description\": \"a list of strings\", \"type\": \"array\", \"items\": {\"type\": \"string\"}}}, \"required\": [\"foo\"]}\\nthe object {\"foo\": [\"bar\", \"baz\"]} is a well-formatted instance of the schema. The object {\"properties\": {\"foo\": [\"bar\", \"baz\"]}} is not well-formatted.\\n\\nHere is the output schema:\\n```\\n{\"$defs\": {\"Partido\": {\"properties\": {\"liga\": {\"description\": \"Nombre de la liga de fútbol\", \"title\": \"Liga\", \"type\": \"string\"}, \"jornada\": {\"description\": \"Número de la jornada en la temporada\", \"title\": \"Jornada\", \"type\": \"integer\"}, \"fecha\": {\"description\": \"Fecha en la que se juega el partido\", \"format\": \"date\", \"title\": \"Fecha\", \"type\": \"string\"}, \"equipo_local\": {\"description\": \"Nombre del equipo local\", \"title\": \"Equipo Local\", \"type\": \"string\"}, \"equipo_visitante\": {\"description\": \"Nombre del equipo visitante\", \"title\": \"Equipo Visitante\", \"type\": \"string\"}, \"goles_local\": {\"description\": \"Goles anotados por el equipo local\", \"title\": \"Goles Local\", \"type\": \"integer\"}, \"goles_visitante\": {\"description\": \"Goles anotados por el equipo visitante\", \"title\": \"Goles Visitante\", \"type\": \"integer\"}, \"estadio\": {\"description\": \"Nombre del estadio donde se juega el partido\", \"title\": \"Estadio\", \"type\": \"string\"}, \"url\": {\"description\": \"URL con más información del partido\", \"title\": \"Url\", \"type\": \"string\"}}, \"required\": [\"liga\", \"jornada\", \"fecha\", \"equipo_local\", \"equipo_visitante\", \"goles_local\", \"goles_visitante\", \"estadio\", \"url\"], \"title\": \"Partido\", \"type\": \"object\"}}, \"properties\": {\"partidos\": {\"items\": {\"$ref\": \"#/$defs/Partido\"}, \"title\": \"Partidos\", \"type\": \"array\"}}, \"required\": [\"partidos\"]}\\n```'}, template='Answer the USER_QUERY.\\n\\n{FORMAT_INSTRUCTIONS}\\n\\nUSER_QUERY:\\n\\nQuiero informacion sobre los partidos de la liga {LIGA} en la jornada {JORNADA}.\\n')"
      ]
     },
     "execution_count": 20,
     "metadata": {},
     "output_type": "execute_result"
    }
   ],
   "source": [
    "from modules.prompt import CustomPrompt\n",
    "\n",
    "custom_prompt = CustomPrompt(template, OutputParser)\n",
    "prompt = custom_prompt.get_prompt()\n",
    "prompt"
   ]
  },
  {
   "attachments": {},
   "cell_type": "markdown",
   "metadata": {},
   "source": [
    "## Chain"
   ]
  },
  {
   "cell_type": "markdown",
   "metadata": {},
   "source": [
    "### Define model"
   ]
  },
  {
   "cell_type": "code",
   "execution_count": 21,
   "metadata": {},
   "outputs": [
    {
     "data": {
      "text/plain": [
       "ChatOpenAI(client=<openai.resources.chat.completions.completions.Completions object at 0x71e8b2affe00>, async_client=<openai.resources.chat.completions.completions.AsyncCompletions object at 0x71e8b2944cb0>, root_client=<openai.OpenAI object at 0x71e8b28fe270>, root_async_client=<openai.AsyncOpenAI object at 0x71e8b290e5d0>, model_name='gpt-4o-search-preview', model_kwargs={}, openai_api_key=SecretStr('**********'))"
      ]
     },
     "execution_count": 21,
     "metadata": {},
     "output_type": "execute_result"
    }
   ],
   "source": [
    "from langchain_openai import ChatOpenAI\n",
    "model = ChatOpenAI(model=\"gpt-4o-search-preview\")\n",
    "\n",
    "model"
   ]
  },
  {
   "attachments": {},
   "cell_type": "markdown",
   "metadata": {},
   "source": [
    "### Compose chain"
   ]
  },
  {
   "cell_type": "code",
   "execution_count": 22,
   "metadata": {},
   "outputs": [
    {
     "data": {
      "text/plain": [
       "PromptTemplate(input_variables=['JORNADA', 'LIGA'], input_types={}, partial_variables={'FORMAT_INSTRUCTIONS': 'The output should be formatted as a JSON instance that conforms to the JSON schema below.\\n\\nAs an example, for the schema {\"properties\": {\"foo\": {\"title\": \"Foo\", \"description\": \"a list of strings\", \"type\": \"array\", \"items\": {\"type\": \"string\"}}}, \"required\": [\"foo\"]}\\nthe object {\"foo\": [\"bar\", \"baz\"]} is a well-formatted instance of the schema. The object {\"properties\": {\"foo\": [\"bar\", \"baz\"]}} is not well-formatted.\\n\\nHere is the output schema:\\n```\\n{\"$defs\": {\"Partido\": {\"properties\": {\"liga\": {\"description\": \"Nombre de la liga de fútbol\", \"title\": \"Liga\", \"type\": \"string\"}, \"jornada\": {\"description\": \"Número de la jornada en la temporada\", \"title\": \"Jornada\", \"type\": \"integer\"}, \"fecha\": {\"description\": \"Fecha en la que se juega el partido\", \"format\": \"date\", \"title\": \"Fecha\", \"type\": \"string\"}, \"equipo_local\": {\"description\": \"Nombre del equipo local\", \"title\": \"Equipo Local\", \"type\": \"string\"}, \"equipo_visitante\": {\"description\": \"Nombre del equipo visitante\", \"title\": \"Equipo Visitante\", \"type\": \"string\"}, \"goles_local\": {\"description\": \"Goles anotados por el equipo local\", \"title\": \"Goles Local\", \"type\": \"integer\"}, \"goles_visitante\": {\"description\": \"Goles anotados por el equipo visitante\", \"title\": \"Goles Visitante\", \"type\": \"integer\"}, \"estadio\": {\"description\": \"Nombre del estadio donde se juega el partido\", \"title\": \"Estadio\", \"type\": \"string\"}, \"url\": {\"description\": \"URL con más información del partido\", \"title\": \"Url\", \"type\": \"string\"}}, \"required\": [\"liga\", \"jornada\", \"fecha\", \"equipo_local\", \"equipo_visitante\", \"goles_local\", \"goles_visitante\", \"estadio\", \"url\"], \"title\": \"Partido\", \"type\": \"object\"}}, \"properties\": {\"partidos\": {\"items\": {\"$ref\": \"#/$defs/Partido\"}, \"title\": \"Partidos\", \"type\": \"array\"}}, \"required\": [\"partidos\"]}\\n```'}, template='Answer the USER_QUERY.\\n\\n{FORMAT_INSTRUCTIONS}\\n\\nUSER_QUERY:\\n\\nQuiero informacion sobre los partidos de la liga {LIGA} en la jornada {JORNADA}.\\n')\n",
       "| ChatOpenAI(client=<openai.resources.chat.completions.completions.Completions object at 0x71e8b2affe00>, async_client=<openai.resources.chat.completions.completions.AsyncCompletions object at 0x71e8b2944cb0>, root_client=<openai.OpenAI object at 0x71e8b28fe270>, root_async_client=<openai.AsyncOpenAI object at 0x71e8b290e5d0>, model_name='gpt-4o-search-preview', model_kwargs={}, openai_api_key=SecretStr('**********'))\n",
       "| PydanticOutputParser(pydantic_object=<class 'data.prompts.futbol.output_parser.ListaPartidos'>)"
      ]
     },
     "execution_count": 22,
     "metadata": {},
     "output_type": "execute_result"
    }
   ],
   "source": [
    "chain = prompt | model | custom_prompt.parser\n",
    "chain"
   ]
  },
  {
   "attachments": {},
   "cell_type": "markdown",
   "metadata": {},
   "source": [
    "### [X] Invoke chain\n",
    "\n",
    "To get the response, we need to invoke the chain with the input data."
   ]
  },
  {
   "cell_type": "code",
   "execution_count": 24,
   "metadata": {},
   "outputs": [],
   "source": [
    "output = chain.invoke({\n",
    "    'LIGA': 'Liga Espanola',\n",
    "    'JORNADA': '2025-03-01'\n",
    "})"
   ]
  },
  {
   "cell_type": "markdown",
   "metadata": {},
   "source": [
    "## Output"
   ]
  },
  {
   "cell_type": "markdown",
   "metadata": {},
   "source": [
    "### JSON"
   ]
  },
  {
   "cell_type": "code",
   "execution_count": 25,
   "metadata": {},
   "outputs": [
    {
     "data": {
      "text/plain": [
       "{'partidos': [{'liga': 'LaLiga Española',\n",
       "   'jornada': 26,\n",
       "   'fecha': datetime.date(2025, 3, 1),\n",
       "   'equipo_local': 'Girona FC',\n",
       "   'equipo_visitante': 'RC Celta de Vigo',\n",
       "   'goles_local': 2,\n",
       "   'goles_visitante': 2,\n",
       "   'estadio': 'Municipal de Montilivi',\n",
       "   'url': 'https://as.com/futbol/primera/girona-celta-a-que-hora-es-canal-tv-donde-y-como-ver-laliga-ea-sports-online-hoy-n/'},\n",
       "  {'liga': 'LaLiga Española',\n",
       "   'jornada': 26,\n",
       "   'fecha': datetime.date(2025, 3, 1),\n",
       "   'equipo_local': 'Rayo Vallecano',\n",
       "   'equipo_visitante': 'Sevilla FC',\n",
       "   'goles_local': 1,\n",
       "   'goles_visitante': 1,\n",
       "   'estadio': 'Estadio de Vallecas',\n",
       "   'url': 'https://espndeportes.espn.com/futbol/resultados/_/liga/esp.1/fecha/20250301'},\n",
       "  {'liga': 'LaLiga Española',\n",
       "   'jornada': 26,\n",
       "   'fecha': datetime.date(2025, 3, 1),\n",
       "   'equipo_local': 'Real Betis',\n",
       "   'equipo_visitante': 'Real Madrid',\n",
       "   'goles_local': 2,\n",
       "   'goles_visitante': 1,\n",
       "   'estadio': 'Benito Villamarín',\n",
       "   'url': 'https://as.com/futbol/primera/ya-hay-horarios-para-la-jornada-26-el-betis-madrid-el-domingo-2-a-las-1630-n/'},\n",
       "  {'liga': 'LaLiga Española',\n",
       "   'jornada': 26,\n",
       "   'fecha': datetime.date(2025, 3, 1),\n",
       "   'equipo_local': 'Atlético de Madrid',\n",
       "   'equipo_visitante': 'Athletic Club',\n",
       "   'goles_local': 1,\n",
       "   'goles_visitante': 0,\n",
       "   'estadio': 'Riyadh Air Metropolitano',\n",
       "   'url': 'https://as.com/us/futbol/atletico-de-madrid-athletic-club-horario-tv-como-y-donde-ver-laliga-ea-sports-en-usa-n/'}]}"
      ]
     },
     "execution_count": 25,
     "metadata": {},
     "output_type": "execute_result"
    }
   ],
   "source": [
    "data = output.model_dump()\n",
    "data"
   ]
  },
  {
   "cell_type": "markdown",
   "metadata": {},
   "source": [
    "### DataFrame"
   ]
  },
  {
   "cell_type": "code",
   "execution_count": 26,
   "metadata": {},
   "outputs": [
    {
     "data": {
      "text/html": [
       "<style type=\"text/css\">\n",
       "</style>\n",
       "<table id=\"T_5ce2e\">\n",
       "  <thead>\n",
       "    <tr>\n",
       "      <th class=\"blank level0\" >&nbsp;</th>\n",
       "      <th id=\"T_5ce2e_level0_col0\" class=\"col_heading level0 col0\" >liga</th>\n",
       "      <th id=\"T_5ce2e_level0_col1\" class=\"col_heading level0 col1\" >jornada</th>\n",
       "      <th id=\"T_5ce2e_level0_col2\" class=\"col_heading level0 col2\" >fecha</th>\n",
       "      <th id=\"T_5ce2e_level0_col3\" class=\"col_heading level0 col3\" >equipo_local</th>\n",
       "      <th id=\"T_5ce2e_level0_col4\" class=\"col_heading level0 col4\" >equipo_visitante</th>\n",
       "      <th id=\"T_5ce2e_level0_col5\" class=\"col_heading level0 col5\" >goles_local</th>\n",
       "      <th id=\"T_5ce2e_level0_col6\" class=\"col_heading level0 col6\" >goles_visitante</th>\n",
       "      <th id=\"T_5ce2e_level0_col7\" class=\"col_heading level0 col7\" >estadio</th>\n",
       "      <th id=\"T_5ce2e_level0_col8\" class=\"col_heading level0 col8\" >url</th>\n",
       "    </tr>\n",
       "  </thead>\n",
       "  <tbody>\n",
       "    <tr>\n",
       "      <th id=\"T_5ce2e_level0_row0\" class=\"row_heading level0 row0\" >0</th>\n",
       "      <td id=\"T_5ce2e_row0_col0\" class=\"data row0 col0\" >LaLiga Española</td>\n",
       "      <td id=\"T_5ce2e_row0_col1\" class=\"data row0 col1\" >26</td>\n",
       "      <td id=\"T_5ce2e_row0_col2\" class=\"data row0 col2\" >2025-03-01</td>\n",
       "      <td id=\"T_5ce2e_row0_col3\" class=\"data row0 col3\" >Girona FC</td>\n",
       "      <td id=\"T_5ce2e_row0_col4\" class=\"data row0 col4\" >RC Celta de Vigo</td>\n",
       "      <td id=\"T_5ce2e_row0_col5\" class=\"data row0 col5\" >2</td>\n",
       "      <td id=\"T_5ce2e_row0_col6\" class=\"data row0 col6\" >2</td>\n",
       "      <td id=\"T_5ce2e_row0_col7\" class=\"data row0 col7\" >Municipal de Montilivi</td>\n",
       "      <td id=\"T_5ce2e_row0_col8\" class=\"data row0 col8\" >https://as.com/futbol/primera/girona-celta-a-que-hora-es-canal-tv-donde-y-como-ver-laliga-ea-sports-online-hoy-n/</td>\n",
       "    </tr>\n",
       "    <tr>\n",
       "      <th id=\"T_5ce2e_level0_row1\" class=\"row_heading level0 row1\" >1</th>\n",
       "      <td id=\"T_5ce2e_row1_col0\" class=\"data row1 col0\" >LaLiga Española</td>\n",
       "      <td id=\"T_5ce2e_row1_col1\" class=\"data row1 col1\" >26</td>\n",
       "      <td id=\"T_5ce2e_row1_col2\" class=\"data row1 col2\" >2025-03-01</td>\n",
       "      <td id=\"T_5ce2e_row1_col3\" class=\"data row1 col3\" >Rayo Vallecano</td>\n",
       "      <td id=\"T_5ce2e_row1_col4\" class=\"data row1 col4\" >Sevilla FC</td>\n",
       "      <td id=\"T_5ce2e_row1_col5\" class=\"data row1 col5\" >1</td>\n",
       "      <td id=\"T_5ce2e_row1_col6\" class=\"data row1 col6\" >1</td>\n",
       "      <td id=\"T_5ce2e_row1_col7\" class=\"data row1 col7\" >Estadio de Vallecas</td>\n",
       "      <td id=\"T_5ce2e_row1_col8\" class=\"data row1 col8\" >https://espndeportes.espn.com/futbol/resultados/_/liga/esp.1/fecha/20250301</td>\n",
       "    </tr>\n",
       "    <tr>\n",
       "      <th id=\"T_5ce2e_level0_row2\" class=\"row_heading level0 row2\" >2</th>\n",
       "      <td id=\"T_5ce2e_row2_col0\" class=\"data row2 col0\" >LaLiga Española</td>\n",
       "      <td id=\"T_5ce2e_row2_col1\" class=\"data row2 col1\" >26</td>\n",
       "      <td id=\"T_5ce2e_row2_col2\" class=\"data row2 col2\" >2025-03-01</td>\n",
       "      <td id=\"T_5ce2e_row2_col3\" class=\"data row2 col3\" >Real Betis</td>\n",
       "      <td id=\"T_5ce2e_row2_col4\" class=\"data row2 col4\" >Real Madrid</td>\n",
       "      <td id=\"T_5ce2e_row2_col5\" class=\"data row2 col5\" >2</td>\n",
       "      <td id=\"T_5ce2e_row2_col6\" class=\"data row2 col6\" >1</td>\n",
       "      <td id=\"T_5ce2e_row2_col7\" class=\"data row2 col7\" >Benito Villamarín</td>\n",
       "      <td id=\"T_5ce2e_row2_col8\" class=\"data row2 col8\" >https://as.com/futbol/primera/ya-hay-horarios-para-la-jornada-26-el-betis-madrid-el-domingo-2-a-las-1630-n/</td>\n",
       "    </tr>\n",
       "    <tr>\n",
       "      <th id=\"T_5ce2e_level0_row3\" class=\"row_heading level0 row3\" >3</th>\n",
       "      <td id=\"T_5ce2e_row3_col0\" class=\"data row3 col0\" >LaLiga Española</td>\n",
       "      <td id=\"T_5ce2e_row3_col1\" class=\"data row3 col1\" >26</td>\n",
       "      <td id=\"T_5ce2e_row3_col2\" class=\"data row3 col2\" >2025-03-01</td>\n",
       "      <td id=\"T_5ce2e_row3_col3\" class=\"data row3 col3\" >Atlético de Madrid</td>\n",
       "      <td id=\"T_5ce2e_row3_col4\" class=\"data row3 col4\" >Athletic Club</td>\n",
       "      <td id=\"T_5ce2e_row3_col5\" class=\"data row3 col5\" >1</td>\n",
       "      <td id=\"T_5ce2e_row3_col6\" class=\"data row3 col6\" >0</td>\n",
       "      <td id=\"T_5ce2e_row3_col7\" class=\"data row3 col7\" >Riyadh Air Metropolitano</td>\n",
       "      <td id=\"T_5ce2e_row3_col8\" class=\"data row3 col8\" >https://as.com/us/futbol/atletico-de-madrid-athletic-club-horario-tv-como-y-donde-ver-laliga-ea-sports-en-usa-n/</td>\n",
       "    </tr>\n",
       "  </tbody>\n",
       "</table>\n"
      ],
      "text/plain": [
       "<pandas.io.formats.style.Styler at 0x71e8b2706930>"
      ]
     },
     "execution_count": 26,
     "metadata": {},
     "output_type": "execute_result"
    }
   ],
   "source": [
    "import pandas as pd\n",
    "\n",
    "data_values = list(data.values())[0]\n",
    "df = pd.DataFrame(data_values)\n",
    "df.style"
   ]
  },
  {
   "cell_type": "markdown",
   "metadata": {},
   "source": [
    "### Export to Excel and CSV"
   ]
  },
  {
   "cell_type": "code",
   "execution_count": 27,
   "metadata": {},
   "outputs": [],
   "source": [
    "from datetime import datetime\n",
    "import os\n",
    "\n",
    "# Create a folder with the current datetime\n",
    "current_datetime = datetime.now().strftime('%Y%m%d_%H%M%S')\n",
    "output_folder = folder / f'outputs/{current_datetime}'\n",
    "output_folder.mkdir(parents=True, exist_ok=True)\n",
    "\n",
    "# Save the files in the newly created folder\n",
    "df.to_excel(output_folder / 'output.xlsx', index=False)\n",
    "df.to_csv(output_folder / 'output.csv', index=False)"
   ]
  },
  {
   "cell_type": "code",
   "execution_count": null,
   "metadata": {},
   "outputs": [],
   "source": []
  }
 ],
 "metadata": {
  "kernelspec": {
   "display_name": "Python 3",
   "language": "python",
   "name": "python3"
  },
  "language_info": {
   "codemirror_mode": {
    "name": "ipython",
    "version": 3
   },
   "file_extension": ".py",
   "mimetype": "text/x-python",
   "name": "python",
   "nbconvert_exporter": "python",
   "pygments_lexer": "ipython3",
   "version": "3.12.10"
  },
  "orig_nbformat": 4
 },
 "nbformat": 4,
 "nbformat_minor": 2
}
