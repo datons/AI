{
 "cells": [
  {
   "attachments": {},
   "cell_type": "markdown",
   "metadata": {},
   "source": [
    "# Customize output format in prompt"
   ]
  },
  {
   "cell_type": "markdown",
   "metadata": {},
   "source": [
    "## User prompt configuration"
   ]
  },
  {
   "cell_type": "markdown",
   "metadata": {},
   "source": [
    "### [X] Create prompt template"
   ]
  },
  {
   "cell_type": "markdown",
   "metadata": {},
   "source": [
    "The prompt template is defined in the file:\n",
    "\n",
    "[/workspace/data/prompts/weather/date_range/template.md](/workspace/data/prompts/weather/date_range/template.md)\n",
    "\n",
    "And it will be loaded as follows:"
   ]
  },
  {
   "cell_type": "code",
   "execution_count": 13,
   "metadata": {},
   "outputs": [],
   "source": [
    "name_prompt = 'boe' #TODO: define your folder\n",
    "name_template = 'tema' #TODO: define your folder"
   ]
  },
  {
   "cell_type": "code",
   "execution_count": 14,
   "metadata": {},
   "outputs": [
    {
     "data": {
      "text/plain": [
       "'Necesito informacion sobre los documentos publicados en el BOE segun la tematica {TEMA} entre las fechas {FECHA_INICIAL} y {FECHA_FINAL}.\\n\\nBusca en la web.\\n'"
      ]
     },
     "execution_count": 14,
     "metadata": {},
     "output_type": "execute_result"
    }
   ],
   "source": [
    "from pathlib import Path\n",
    "\n",
    "folder_template = f'{name_prompt}/{name_template}' \n",
    "folder = Path(f'/workspace/data/prompts/{folder_template}')\n",
    "\n",
    "path = folder / 'template.md'\n",
    "with open(path, 'r') as file:\n",
    "    template = file.read()\n",
    "\n",
    "template"
   ]
  },
  {
   "cell_type": "markdown",
   "metadata": {},
   "source": [
    "### [X] Define custom output format and import it"
   ]
  },
  {
   "cell_type": "markdown",
   "metadata": {},
   "source": [
    "[/workspace/data/prompts/weather/output_parser.py](/workspace/data/prompts/weather/output_parser.py)"
   ]
  },
  {
   "cell_type": "code",
   "execution_count": 15,
   "metadata": {},
   "outputs": [],
   "source": [
    "output_class_name = 'DocumentoBOEList' #TODO: define your class"
   ]
  },
  {
   "cell_type": "code",
   "execution_count": 16,
   "metadata": {},
   "outputs": [],
   "source": [
    "from importlib import import_module\n",
    "OutputParser = getattr(import_module(f'data.prompts.{name_prompt}.output_parser'), output_class_name)"
   ]
  },
  {
   "cell_type": "code",
   "execution_count": 17,
   "metadata": {},
   "outputs": [
    {
     "data": {
      "text/plain": [
       "data.prompts.boe.output_parser.DocumentoBOEList"
      ]
     },
     "execution_count": 17,
     "metadata": {},
     "output_type": "execute_result"
    }
   ],
   "source": [
    "OutputParser"
   ]
  },
  {
   "cell_type": "markdown",
   "metadata": {},
   "source": [
    "## Combine template and output format"
   ]
  },
  {
   "cell_type": "code",
   "execution_count": 18,
   "metadata": {},
   "outputs": [
    {
     "data": {
      "text/plain": [
       "PromptTemplate(input_variables=['FECHA_FINAL', 'FECHA_INICIAL', 'TEMA'], input_types={}, partial_variables={'FORMAT_INSTRUCTIONS': 'The output should be formatted as a JSON instance that conforms to the JSON schema below.\\n\\nAs an example, for the schema {\"properties\": {\"foo\": {\"title\": \"Foo\", \"description\": \"a list of strings\", \"type\": \"array\", \"items\": {\"type\": \"string\"}}}, \"required\": [\"foo\"]}\\nthe object {\"foo\": [\"bar\", \"baz\"]} is a well-formatted instance of the schema. The object {\"properties\": {\"foo\": [\"bar\", \"baz\"]}} is not well-formatted.\\n\\nHere is the output schema:\\n```\\n{\"$defs\": {\"DocumentoBOE\": {\"properties\": {\"titulo\": {\"description\": \"Título del documento publicado en el BOE\", \"title\": \"Titulo\", \"type\": \"string\"}, \"fecha\": {\"description\": \"Fecha de publicación en el BOE\", \"format\": \"date\", \"title\": \"Fecha\", \"type\": \"string\"}, \"numero\": {\"description\": \"Número de disposición o referencia oficial\", \"title\": \"Numero\", \"type\": \"string\"}, \"departamento\": {\"description\": \"Departamento u organismo que emite el documento\", \"title\": \"Departamento\", \"type\": \"string\"}, \"resumen\": {\"description\": \"Resumen o extracto del contenido del documento\", \"title\": \"Resumen\", \"type\": \"string\"}, \"url_pdf\": {\"description\": \"Enlace al PDF oficial del documento\", \"title\": \"Url Pdf\", \"type\": \"string\"}, \"url_html\": {\"description\": \"Enlace al HTML oficial del documento\", \"title\": \"Url Html\", \"type\": \"string\"}}, \"required\": [\"titulo\", \"fecha\", \"numero\", \"departamento\", \"resumen\", \"url_pdf\", \"url_html\"], \"title\": \"DocumentoBOE\", \"type\": \"object\"}}, \"properties\": {\"documentos\": {\"items\": {\"$ref\": \"#/$defs/DocumentoBOE\"}, \"title\": \"Documentos\", \"type\": \"array\"}}, \"required\": [\"documentos\"]}\\n```'}, template='Answer the USER_QUERY.\\n\\n{FORMAT_INSTRUCTIONS}\\n\\nUSER_QUERY:\\n\\nNecesito informacion sobre los documentos publicados en el BOE segun la tematica {TEMA} entre las fechas {FECHA_INICIAL} y {FECHA_FINAL}.\\n\\nBusca en la web.\\n')"
      ]
     },
     "execution_count": 18,
     "metadata": {},
     "output_type": "execute_result"
    }
   ],
   "source": [
    "from modules.prompt import CustomPrompt\n",
    "\n",
    "custom_prompt = CustomPrompt(template, OutputParser)\n",
    "prompt = custom_prompt.get_prompt()\n",
    "prompt"
   ]
  },
  {
   "attachments": {},
   "cell_type": "markdown",
   "metadata": {},
   "source": [
    "## Chain"
   ]
  },
  {
   "cell_type": "markdown",
   "metadata": {},
   "source": [
    "### Define model"
   ]
  },
  {
   "cell_type": "code",
   "execution_count": 19,
   "metadata": {},
   "outputs": [
    {
     "data": {
      "text/plain": [
       "ChatOpenAI(client=<openai.resources.chat.completions.completions.Completions object at 0x741ba2922c00>, async_client=<openai.resources.chat.completions.completions.AsyncCompletions object at 0x741ba2ff5250>, root_client=<openai.OpenAI object at 0x741ba2fdd250>, root_async_client=<openai.AsyncOpenAI object at 0x741ba2922f00>, model_name='gpt-4o-search-preview', model_kwargs={}, openai_api_key=SecretStr('**********'))"
      ]
     },
     "execution_count": 19,
     "metadata": {},
     "output_type": "execute_result"
    }
   ],
   "source": [
    "from langchain_openai import ChatOpenAI\n",
    "model = ChatOpenAI(model=\"gpt-4o-search-preview\")\n",
    "\n",
    "model"
   ]
  },
  {
   "attachments": {},
   "cell_type": "markdown",
   "metadata": {},
   "source": [
    "### Compose chain"
   ]
  },
  {
   "cell_type": "code",
   "execution_count": 20,
   "metadata": {},
   "outputs": [
    {
     "data": {
      "text/plain": [
       "PromptTemplate(input_variables=['FECHA_FINAL', 'FECHA_INICIAL', 'TEMA'], input_types={}, partial_variables={'FORMAT_INSTRUCTIONS': 'The output should be formatted as a JSON instance that conforms to the JSON schema below.\\n\\nAs an example, for the schema {\"properties\": {\"foo\": {\"title\": \"Foo\", \"description\": \"a list of strings\", \"type\": \"array\", \"items\": {\"type\": \"string\"}}}, \"required\": [\"foo\"]}\\nthe object {\"foo\": [\"bar\", \"baz\"]} is a well-formatted instance of the schema. The object {\"properties\": {\"foo\": [\"bar\", \"baz\"]}} is not well-formatted.\\n\\nHere is the output schema:\\n```\\n{\"$defs\": {\"DocumentoBOE\": {\"properties\": {\"titulo\": {\"description\": \"Título del documento publicado en el BOE\", \"title\": \"Titulo\", \"type\": \"string\"}, \"fecha\": {\"description\": \"Fecha de publicación en el BOE\", \"format\": \"date\", \"title\": \"Fecha\", \"type\": \"string\"}, \"numero\": {\"description\": \"Número de disposición o referencia oficial\", \"title\": \"Numero\", \"type\": \"string\"}, \"departamento\": {\"description\": \"Departamento u organismo que emite el documento\", \"title\": \"Departamento\", \"type\": \"string\"}, \"resumen\": {\"description\": \"Resumen o extracto del contenido del documento\", \"title\": \"Resumen\", \"type\": \"string\"}, \"url_pdf\": {\"description\": \"Enlace al PDF oficial del documento\", \"title\": \"Url Pdf\", \"type\": \"string\"}, \"url_html\": {\"description\": \"Enlace al HTML oficial del documento\", \"title\": \"Url Html\", \"type\": \"string\"}}, \"required\": [\"titulo\", \"fecha\", \"numero\", \"departamento\", \"resumen\", \"url_pdf\", \"url_html\"], \"title\": \"DocumentoBOE\", \"type\": \"object\"}}, \"properties\": {\"documentos\": {\"items\": {\"$ref\": \"#/$defs/DocumentoBOE\"}, \"title\": \"Documentos\", \"type\": \"array\"}}, \"required\": [\"documentos\"]}\\n```'}, template='Answer the USER_QUERY.\\n\\n{FORMAT_INSTRUCTIONS}\\n\\nUSER_QUERY:\\n\\nNecesito informacion sobre los documentos publicados en el BOE segun la tematica {TEMA} entre las fechas {FECHA_INICIAL} y {FECHA_FINAL}.\\n\\nBusca en la web.\\n')\n",
       "| ChatOpenAI(client=<openai.resources.chat.completions.completions.Completions object at 0x741ba2922c00>, async_client=<openai.resources.chat.completions.completions.AsyncCompletions object at 0x741ba2ff5250>, root_client=<openai.OpenAI object at 0x741ba2fdd250>, root_async_client=<openai.AsyncOpenAI object at 0x741ba2922f00>, model_name='gpt-4o-search-preview', model_kwargs={}, openai_api_key=SecretStr('**********'))\n",
       "| PydanticOutputParser(pydantic_object=<class 'data.prompts.boe.output_parser.DocumentoBOEList'>)"
      ]
     },
     "execution_count": 20,
     "metadata": {},
     "output_type": "execute_result"
    }
   ],
   "source": [
    "chain = prompt | model | custom_prompt.parser\n",
    "chain"
   ]
  },
  {
   "attachments": {},
   "cell_type": "markdown",
   "metadata": {},
   "source": [
    "### [X] Invoke chain\n",
    "\n",
    "To get the response, we need to invoke the chain with the input data."
   ]
  },
  {
   "cell_type": "code",
   "execution_count": 21,
   "metadata": {},
   "outputs": [],
   "source": [
    "output = chain.invoke({\n",
    "  'TEMA': 'agricultura',\n",
    "  'FECHA_INICIAL': '2020-01-01',\n",
    "  'FECHA_FINAL': '2025-04-01'\n",
    "})"
   ]
  },
  {
   "cell_type": "markdown",
   "metadata": {},
   "source": [
    "## Output"
   ]
  },
  {
   "cell_type": "markdown",
   "metadata": {},
   "source": [
    "### JSON"
   ]
  },
  {
   "cell_type": "code",
   "execution_count": 22,
   "metadata": {},
   "outputs": [
    {
     "data": {
      "text/plain": [
       "{'documentos': []}"
      ]
     },
     "execution_count": 22,
     "metadata": {},
     "output_type": "execute_result"
    }
   ],
   "source": [
    "data = output.model_dump()\n",
    "data"
   ]
  },
  {
   "cell_type": "markdown",
   "metadata": {},
   "source": [
    "### DataFrame"
   ]
  },
  {
   "cell_type": "code",
   "execution_count": 23,
   "metadata": {},
   "outputs": [
    {
     "data": {
      "text/html": [
       "<style type=\"text/css\">\n",
       "</style>\n",
       "<table id=\"T_d5675\">\n",
       "  <thead>\n",
       "  </thead>\n",
       "  <tbody>\n",
       "  </tbody>\n",
       "</table>\n"
      ],
      "text/plain": [
       "<pandas.io.formats.style.Styler at 0x741ba2f32000>"
      ]
     },
     "execution_count": 23,
     "metadata": {},
     "output_type": "execute_result"
    }
   ],
   "source": [
    "import pandas as pd\n",
    "\n",
    "data_values = list(data.values())[0]\n",
    "df = pd.DataFrame(data_values)\n",
    "df.style"
   ]
  },
  {
   "cell_type": "markdown",
   "metadata": {},
   "source": [
    "### Export to Excel and CSV"
   ]
  },
  {
   "cell_type": "code",
   "execution_count": 24,
   "metadata": {},
   "outputs": [],
   "source": [
    "from datetime import datetime\n",
    "import os\n",
    "\n",
    "# Create a folder with the current datetime\n",
    "current_datetime = datetime.now().strftime('%Y%m%d_%H%M%S')\n",
    "output_folder = folder / f'outputs/{current_datetime}'\n",
    "output_folder.mkdir(parents=True, exist_ok=True)\n",
    "\n",
    "# Save the files in the newly created folder\n",
    "df.to_excel(output_folder / 'output.xlsx', index=False)\n",
    "df.to_csv(output_folder / 'output.csv', index=False)"
   ]
  }
 ],
 "metadata": {
  "kernelspec": {
   "display_name": "Python 3",
   "language": "python",
   "name": "python3"
  },
  "language_info": {
   "codemirror_mode": {
    "name": "ipython",
    "version": 3
   },
   "file_extension": ".py",
   "mimetype": "text/x-python",
   "name": "python",
   "nbconvert_exporter": "python",
   "pygments_lexer": "ipython3",
   "version": "3.12.10"
  },
  "orig_nbformat": 4
 },
 "nbformat": 4,
 "nbformat_minor": 2
}
