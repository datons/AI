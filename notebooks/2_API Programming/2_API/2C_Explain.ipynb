{
 "cells": [
  {
   "attachments": {},
   "cell_type": "markdown",
   "metadata": {},
   "source": [
    "# LangChain to prompt programmatically in Python"
   ]
  },
  {
   "cell_type": "markdown",
   "metadata": {},
   "source": [
    "## Prompting seralization"
   ]
  },
  {
   "cell_type": "markdown",
   "metadata": {},
   "source": [
    "### [X] Create and load prompt from markdown"
   ]
  },
  {
   "cell_type": "markdown",
   "metadata": {},
   "source": [
    "[/workspace/data/prompts/weather/date_range/template.md](/workspace/data/prompts/weather/date_range/template.md)"
   ]
  },
  {
   "cell_type": "code",
   "execution_count": 1,
   "metadata": {},
   "outputs": [],
   "source": [
    "name_prompt = 'weather' #TODO: define your folder\n",
    "name_template = 'date_range' #TODO: define your folder"
   ]
  },
  {
   "cell_type": "code",
   "execution_count": 2,
   "metadata": {},
   "outputs": [
    {
     "data": {
      "text/plain": [
       "'Find the weather forecast for {LOCATION}, starting from {DATE_START} and ending on {DATE_END}.\\n\\nGive me the URL of the weather forecast.'"
      ]
     },
     "execution_count": 2,
     "metadata": {},
     "output_type": "execute_result"
    }
   ],
   "source": [
    "from pathlib import Path\n",
    "\n",
    "folder_template = f'{name_prompt}/{name_template}' \n",
    "folder = Path(f'/workspace/data/prompts/{folder_template}')\n",
    "\n",
    "path = folder / 'template.md'\n",
    "with open(path, 'r') as file:\n",
    "    template = file.read()\n",
    "\n",
    "template"
   ]
  },
  {
   "cell_type": "markdown",
   "metadata": {},
   "source": [
    "### Create prompt object"
   ]
  },
  {
   "cell_type": "code",
   "execution_count": 3,
   "metadata": {},
   "outputs": [
    {
     "data": {
      "text/plain": [
       "PromptTemplate(input_variables=['DATE_END', 'DATE_START', 'LOCATION'], input_types={}, partial_variables={}, template='Find the weather forecast for {LOCATION}, starting from {DATE_START} and ending on {DATE_END}.\\n\\nGive me the URL of the weather forecast.')"
      ]
     },
     "execution_count": 3,
     "metadata": {},
     "output_type": "execute_result"
    }
   ],
   "source": [
    "from langchain_core.prompts import PromptTemplate\n",
    "\n",
    "prompt = PromptTemplate(\n",
    "    template=template,\n",
    "    template_format='f-string',\n",
    ")\n",
    "\n",
    "prompt"
   ]
  },
  {
   "attachments": {},
   "cell_type": "markdown",
   "metadata": {},
   "source": [
    "## Load model"
   ]
  },
  {
   "cell_type": "code",
   "execution_count": 4,
   "metadata": {},
   "outputs": [
    {
     "data": {
      "text/plain": [
       "ChatOpenAI(client=<openai.resources.chat.completions.completions.Completions object at 0xffff56157fe0>, async_client=<openai.resources.chat.completions.completions.AsyncCompletions object at 0xffff5617ea50>, root_client=<openai.OpenAI object at 0xffff567d1910>, root_async_client=<openai.AsyncOpenAI object at 0xffff5617c0e0>, model_name='chatgpt-4o-latest', model_kwargs={}, openai_api_key=SecretStr('**********'))"
      ]
     },
     "execution_count": 4,
     "metadata": {},
     "output_type": "execute_result"
    }
   ],
   "source": [
    "from langchain_openai import ChatOpenAI\n",
    "model = ChatOpenAI(model=\"chatgpt-4o-latest\")\n",
    "\n",
    "model"
   ]
  },
  {
   "attachments": {},
   "cell_type": "markdown",
   "metadata": {},
   "source": [
    "## Chaining with LLMs"
   ]
  },
  {
   "attachments": {},
   "cell_type": "markdown",
   "metadata": {},
   "source": [
    "### Define chain"
   ]
  },
  {
   "cell_type": "code",
   "execution_count": 5,
   "metadata": {},
   "outputs": [
    {
     "data": {
      "text/plain": [
       "PromptTemplate(input_variables=['DATE_END', 'DATE_START', 'LOCATION'], input_types={}, partial_variables={}, template='Find the weather forecast for {LOCATION}, starting from {DATE_START} and ending on {DATE_END}.\\n\\nGive me the URL of the weather forecast.')\n",
       "| ChatOpenAI(client=<openai.resources.chat.completions.completions.Completions object at 0xffff56157fe0>, async_client=<openai.resources.chat.completions.completions.AsyncCompletions object at 0xffff5617ea50>, root_client=<openai.OpenAI object at 0xffff567d1910>, root_async_client=<openai.AsyncOpenAI object at 0xffff5617c0e0>, model_name='chatgpt-4o-latest', model_kwargs={}, openai_api_key=SecretStr('**********'))\n",
       "| StrOutputParser()"
      ]
     },
     "execution_count": 5,
     "metadata": {},
     "output_type": "execute_result"
    }
   ],
   "source": [
    "from langchain_core.output_parsers import StrOutputParser\n",
    "chain = prompt | model | StrOutputParser()\n",
    "\n",
    "chain"
   ]
  },
  {
   "attachments": {},
   "cell_type": "markdown",
   "metadata": {},
   "source": [
    "### Invoke chain with input data"
   ]
  },
  {
   "cell_type": "code",
   "execution_count": 6,
   "metadata": {},
   "outputs": [
    {
     "name": "stdout",
     "output_type": "stream",
     "text": [
      "I'm unable to provide real-time or future weather forecasts or URLs, as I don't have browsing capabilities. However, you can find the weather forecast for Madrid for the dates you specified (April 13–20, 2025) on reputable weather websites closer to the date. Here are some websites where you can search for extended weather forecasts:\n",
      "\n",
      "1. https://www.accuweather.com/\n",
      "2. https://www.weather.com/ (The Weather Channel)\n",
      "3. https://www.meteoblue.com/\n",
      "4. https://www.metoffice.gov.uk/ (more UK-focused but has international forecasts)\n",
      "5. https://www.eltiempo.es/ (Spanish weather site)\n",
      "\n",
      "Once you're closer to the forecast window (usually within 7 to 10 days), search Madrid on one of these sites and navigate to the “10-day forecast” section.\n",
      "\n",
      "For example, to check the 10-day weather for Madrid on AccuWeather, you’ll eventually be able to visit:\n",
      "https://www.accuweather.com/en/es/madrid/308526/daily-weather-forecast/308526\n",
      "\n",
      "(Please verify this URL on the site when the dates are within range of their forecast system.)\n"
     ]
    }
   ],
   "source": [
    "output = chain.invoke({\n",
    "    'LOCATION': 'Madrid',\n",
    "    'DATE_START': '2025-04-13',\n",
    "    'DATE_END': '2025-04-20',\n",
    "})\n",
    "\n",
    "print(output)"
   ]
  },
  {
   "attachments": {},
   "cell_type": "markdown",
   "metadata": {},
   "source": [
    "## Export output to file"
   ]
  },
  {
   "cell_type": "code",
   "execution_count": 7,
   "metadata": {},
   "outputs": [],
   "source": [
    "from modules import utils\n",
    "\n",
    "utils.save_output_to_file(output, folder)"
   ]
  },
  {
   "cell_type": "markdown",
   "metadata": {},
   "source": [
    "---\n",
    "\n",
    "## [X] Change model"
   ]
  },
  {
   "cell_type": "code",
   "execution_count": 8,
   "metadata": {},
   "outputs": [],
   "source": [
    "model = ChatOpenAI(model=\"gpt-4o-search-preview\") #TODO: change model"
   ]
  },
  {
   "cell_type": "code",
   "execution_count": 9,
   "metadata": {},
   "outputs": [
    {
     "name": "stdout",
     "output_type": "stream",
     "text": [
      "Here is the weather forecast for Madrid, Spain, from April 13 to April 20, 2025:\n",
      "\n",
      "## Weather for Madrid, Community of Madrid, Spain:\n",
      "Current Conditions: Cloudy, 58°F (15°C)\n",
      "\n",
      "Daily Forecast:\n",
      "* Sunday, April 13: Low: 51°F (11°C), High: 66°F (19°C), Description: Mostly cloudy with a passing shower or two\n",
      "* Monday, April 14: Low: 43°F (6°C), High: 60°F (15°C), Description: Cloudy in the morning; intervals of clouds and sunshine in the afternoon\n",
      "* Tuesday, April 15: Low: 40°F (4°C), High: 52°F (11°C), Description: Mostly cloudy and cooler with showers\n",
      "* Wednesday, April 16: Low: 43°F (6°C), High: 57°F (14°C), Description: Times of clouds and sun with a couple of showers in the afternoon\n",
      "* Thursday, April 17: Low: 47°F (8°C), High: 66°F (19°C), Description: Turning cloudy and milder\n",
      "* Friday, April 18: Low: 46°F (8°C), High: 64°F (18°C), Description: Mostly cloudy with occasional rain\n",
      "* Saturday, April 19: Low: 40°F (5°C), High: 58°F (14°C), Description: Mostly cloudy with a couple of showers\n",
      "* Sunday, April 20: Low: 42°F (5°C), High: 58°F (15°C), Description: Mostly cloudy with a couple of showers, mainly early in the day\n",
      "\n",
      "\n",
      "For more detailed information, you can visit the WeatherTAB website's daily forecast for Madrid in April 2025: ([weathertab.com](https://www.weathertab.com/en/d/o/04/kingdom-of-spain/comunidad-de-madrid/madrid/?utm_source=openai)) \n"
     ]
    }
   ],
   "source": [
    "chain = prompt | model | StrOutputParser()\n",
    "output = chain.invoke({\n",
    "    'LOCATION': 'Madrid',\n",
    "    'DATE_START': '2025-04-13',\n",
    "    'DATE_END': '2025-04-20',\n",
    "})\n",
    "\n",
    "print(output)"
   ]
  },
  {
   "cell_type": "code",
   "execution_count": 10,
   "metadata": {},
   "outputs": [],
   "source": [
    "utils.save_output_to_file(output, folder)"
   ]
  }
 ],
 "metadata": {
  "kernelspec": {
   "display_name": "Python 3",
   "language": "python",
   "name": "python3"
  },
  "language_info": {
   "codemirror_mode": {
    "name": "ipython",
    "version": 3
   },
   "file_extension": ".py",
   "mimetype": "text/x-python",
   "name": "python",
   "nbconvert_exporter": "python",
   "pygments_lexer": "ipython3",
   "version": "3.12.10"
  },
  "orig_nbformat": 4
 },
 "nbformat": 4,
 "nbformat_minor": 2
}
