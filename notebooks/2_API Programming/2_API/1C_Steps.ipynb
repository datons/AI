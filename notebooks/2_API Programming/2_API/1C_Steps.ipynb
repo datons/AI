{
 "cells": [
  {
   "attachments": {},
   "cell_type": "markdown",
   "metadata": {},
   "source": [
    "# LangChain to prompt programmatically in Python"
   ]
  },
  {
   "cell_type": "markdown",
   "metadata": {},
   "source": [
    "## Prompting seralization"
   ]
  },
  {
   "cell_type": "markdown",
   "metadata": {},
   "source": [
    "### Create and load prompt from markdown"
   ]
  },
  {
   "cell_type": "markdown",
   "metadata": {},
   "source": [
    "[/workspace/data/prompts/weather/date_range/template.md](/workspace/data/prompts/weather/date_range/template.md)"
   ]
  },
  {
   "cell_type": "code",
   "execution_count": 1,
   "metadata": {},
   "outputs": [],
   "source": [
    "name_prompt = 'weather' #TODO: define your folder\n",
    "name_template = 'date_range' #TODO: define your folder"
   ]
  },
  {
   "cell_type": "code",
   "execution_count": 2,
   "metadata": {},
   "outputs": [
    {
     "data": {
      "text/plain": [
       "'Find the weather forecast for {LOCATION}, starting from {DATE_START} and ending on {DATE_END}.'"
      ]
     },
     "execution_count": 2,
     "metadata": {},
     "output_type": "execute_result"
    }
   ],
   "source": [
    "from pathlib import Path\n",
    "\n",
    "folder_template = f'{name_prompt}/{name_template}' \n",
    "folder = Path(f'/workspace/data/prompts/{folder_template}')\n",
    "\n",
    "path = folder / 'template.md'\n",
    "with open(path, 'r') as file:\n",
    "    template = file.read()\n",
    "\n",
    "template"
   ]
  },
  {
   "cell_type": "markdown",
   "metadata": {},
   "source": [
    "### Create prompt object"
   ]
  },
  {
   "cell_type": "code",
   "execution_count": 3,
   "metadata": {},
   "outputs": [
    {
     "data": {
      "text/plain": [
       "PromptTemplate(input_variables=['DATE_END', 'DATE_START', 'LOCATION'], input_types={}, partial_variables={}, template='Find the weather forecast for {LOCATION}, starting from {DATE_START} and ending on {DATE_END}.')"
      ]
     },
     "execution_count": 3,
     "metadata": {},
     "output_type": "execute_result"
    }
   ],
   "source": [
    "from langchain_core.prompts import PromptTemplate\n",
    "\n",
    "prompt = PromptTemplate(\n",
    "    template=template,\n",
    "    template_format='f-string',\n",
    ")\n",
    "\n",
    "prompt"
   ]
  },
  {
   "attachments": {},
   "cell_type": "markdown",
   "metadata": {},
   "source": [
    "## Load model"
   ]
  },
  {
   "cell_type": "code",
   "execution_count": 1,
   "metadata": {},
   "outputs": [
    {
     "data": {
      "text/plain": [
       "ChatOpenAI(client=<openai.resources.chat.completions.completions.Completions object at 0xffff5a867bf0>, async_client=<openai.resources.chat.completions.completions.AsyncCompletions object at 0xffff5a88a540>, root_client=<openai.OpenAI object at 0xffff5b42bd40>, root_async_client=<openai.AsyncOpenAI object at 0xffff5a867c50>, model_name='gpt-4o-search-preview', model_kwargs={}, openai_api_key=SecretStr('**********'))"
      ]
     },
     "execution_count": 1,
     "metadata": {},
     "output_type": "execute_result"
    }
   ],
   "source": [
    "from langchain_openai import ChatOpenAI\n",
    "model = ChatOpenAI(model=\"gpt-4o-search-preview\")\n",
    "\n",
    "model"
   ]
  },
  {
   "attachments": {},
   "cell_type": "markdown",
   "metadata": {},
   "source": [
    "## Chaining with LLMs"
   ]
  },
  {
   "attachments": {},
   "cell_type": "markdown",
   "metadata": {},
   "source": [
    "### Define chain"
   ]
  },
  {
   "cell_type": "code",
   "execution_count": 4,
   "metadata": {},
   "outputs": [
    {
     "data": {
      "text/plain": [
       "PromptTemplate(input_variables=['DATE_END', 'DATE_START', 'LOCATION'], input_types={}, partial_variables={}, template='Find the weather forecast for {LOCATION}, starting from {DATE_START} and ending on {DATE_END}.')\n",
       "| ChatOpenAI(client=<openai.resources.chat.completions.completions.Completions object at 0xffff5a867bf0>, async_client=<openai.resources.chat.completions.completions.AsyncCompletions object at 0xffff5a88a540>, root_client=<openai.OpenAI object at 0xffff5b42bd40>, root_async_client=<openai.AsyncOpenAI object at 0xffff5a867c50>, model_name='gpt-4o-search-preview', model_kwargs={}, openai_api_key=SecretStr('**********'))\n",
       "| StrOutputParser()"
      ]
     },
     "execution_count": 4,
     "metadata": {},
     "output_type": "execute_result"
    }
   ],
   "source": [
    "from langchain_core.output_parsers import StrOutputParser\n",
    "chain = prompt | model | StrOutputParser()\n",
    "\n",
    "chain"
   ]
  },
  {
   "attachments": {},
   "cell_type": "markdown",
   "metadata": {},
   "source": [
    "### Invoke chain with input data"
   ]
  },
  {
   "cell_type": "code",
   "execution_count": 6,
   "metadata": {},
   "outputs": [
    {
     "name": "stdout",
     "output_type": "stream",
     "text": [
      "Here is the weather forecast for Madrid, Spain, from Sunday, April 13, 2025, to Sunday, April 20, 2025:\n",
      "\n",
      "## Weather for Madrid, Community of Madrid, Spain:\n",
      "Current Conditions: Cloudy, 59°F (15°C)\n",
      "\n",
      "Daily Forecast:\n",
      "* Sunday, April 13: Low: 51°F (11°C), High: 66°F (19°C), Description: Mostly cloudy with a passing shower or two\n",
      "* Monday, April 14: Low: 43°F (6°C), High: 60°F (15°C), Description: Cloudy in the morning; intervals of clouds and sunshine in the afternoon\n",
      "* Tuesday, April 15: Low: 40°F (4°C), High: 52°F (11°C), Description: Mostly cloudy and cooler with showers\n",
      "* Wednesday, April 16: Low: 43°F (6°C), High: 57°F (14°C), Description: Times of clouds and sun with a couple of showers in the afternoon\n",
      "* Thursday, April 17: Low: 47°F (8°C), High: 66°F (19°C), Description: Turning cloudy and milder\n",
      "* Friday, April 18: Low: 46°F (8°C), High: 64°F (18°C), Description: Mostly cloudy with occasional rain\n",
      "* Saturday, April 19: Low: 40°F (5°C), High: 58°F (14°C), Description: Mostly cloudy with a couple of showers\n",
      "* Sunday, April 20: Low: 42°F (5°C), High: 58°F (15°C), Description: Mostly cloudy with a couple of showers, mainly early in the day\n",
      "\n",
      "\n",
      "In April, Madrid typically experiences average daytime temperatures around 18°C (64°F) and nighttime temperatures around 6°C (43°F). The city usually enjoys about 7 hours of sunshine per day and receives approximately 45 mm of rainfall over 12 days in the month. ([weather2travel.com](https://www.weather2travel.com/spain/madrid/april/?utm_source=openai))\n",
      "\n",
      "Please note that weather forecasts can change, so it's advisable to check for the latest updates as your dates approach. \n"
     ]
    }
   ],
   "source": [
    "output = chain.invoke({\n",
    "    'LOCATION': 'Madrid',\n",
    "    'DATE_START': '2025-04-13',\n",
    "    'DATE_END': '2025-04-20',\n",
    "})\n",
    "\n",
    "print(output)"
   ]
  },
  {
   "attachments": {},
   "cell_type": "markdown",
   "metadata": {},
   "source": [
    "## Export output to file"
   ]
  },
  {
   "cell_type": "code",
   "execution_count": 33,
   "metadata": {},
   "outputs": [],
   "source": [
    "from modules import utils\n",
    "utils.save_output_to_file(output, folder)"
   ]
  },
  {
   "cell_type": "markdown",
   "metadata": {},
   "source": [
    "---\n",
    "\n",
    "## Iterate over a list of items\n",
    "\n",
    "Use the same chain to iterate over a list of items."
   ]
  },
  {
   "cell_type": "code",
   "execution_count": null,
   "metadata": {},
   "outputs": [],
   "source": [
    "locations = ['Madrid', 'Paris', 'Berlin', 'Rome', 'London']\n",
    "\n",
    "date_start = '2025-04-13'\n",
    "date_end = '2025-04-20'"
   ]
  },
  {
   "cell_type": "code",
   "execution_count": null,
   "metadata": {},
   "outputs": [],
   "source": [
    "for location in locations:\n",
    "    \n",
    "    output = chain.invoke({\n",
    "        'LOCATION': location,\n",
    "        'DATE_START': date_start,\n",
    "        'DATE_END': date_end,\n",
    "    })\n",
    "    \n",
    "    utils.save_output_to_file(output, folder, location)"
   ]
  }
 ],
 "metadata": {
  "kernelspec": {
   "display_name": "Python 3",
   "language": "python",
   "name": "python3"
  },
  "language_info": {
   "codemirror_mode": {
    "name": "ipython",
    "version": 3
   },
   "file_extension": ".py",
   "mimetype": "text/x-python",
   "name": "python",
   "nbconvert_exporter": "python",
   "pygments_lexer": "ipython3",
   "version": "3.12.10"
  },
  "orig_nbformat": 4
 },
 "nbformat": 4,
 "nbformat_minor": 2
}
